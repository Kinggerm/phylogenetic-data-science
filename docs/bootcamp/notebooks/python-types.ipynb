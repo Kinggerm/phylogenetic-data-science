{
 "cells": [
  {
   "cell_type": "markdown",
   "id": "c3a15a8a-fba4-4d08-89fb-da97722b4afe",
   "metadata": {},
   "source": [
    "# Diving into Python types"
   ]
  },
  {
   "cell_type": "markdown",
   "id": "82347f67-3be6-461e-bbb6-a07848c27348",
   "metadata": {},
   "source": [
    "An introduction to basic types in Python is outside of the scope of this\n",
    "textbook. If needed, I refer readers to the official Python [tutorial](https://docs.python.org/3/tutorial/).\n",
    "Instead, this section will focus on describing differences among \n",
    "commonly used types and specifically why some types are used over others\n",
    "in certain situations. As this comes up in coding exercises in the \n",
    "textbook this section will be referred back to."
   ]
  },
  {
   "cell_type": "markdown",
   "id": "5df29fa2-e931-48e8-b800-82657674dc93",
   "metadata": {},
   "source": [
    "## Mutable versus Immutable"
   ]
  },
  {
   "cell_type": "markdown",
   "id": "956b44ff-3a79-48cb-ba28-412d387edf5f",
   "metadata": {},
   "source": [
    "Two popular ways of storing a list of element in Python are `list` and `tuple`.\n",
    "Here we discuss the main differences between these types and when to use one over\n",
    "the other.  \n",
    "\n",
    "The main difference is that Lists are mutable and Tuples are not. \n",
    "\n",
    "Elements can be replaced, added, or removed from lists.\n"
   ]
  },
  {
   "cell_type": "code",
   "execution_count": 81,
   "id": "bc4c0efb-e1e0-41c4-a8a9-a5af45b97513",
   "metadata": {},
   "outputs": [],
   "source": [
    "my_list = [1, 2, 'a', 'b', 'b', 0]\n",
    "my_list[0] = '1' # note that here 1 is and string and not an numeric "
   ]
  },
  {
   "cell_type": "markdown",
   "id": "8b1d82b5-3117-4bdd-bd9c-908c2e503ae0",
   "metadata": {},
   "source": [
    "However, elements **CANNOT** be replaced, added, or removed from tuples.\n"
   ]
  },
  {
   "cell_type": "code",
   "execution_count": 82,
   "id": "f99e64e4-d0d9-45ac-9e6f-f1038bc47c3b",
   "metadata": {},
   "outputs": [
    {
     "ename": "TypeError",
     "evalue": "'tuple' object does not support item assignment",
     "output_type": "error",
     "traceback": [
      "\u001b[0;31m---------------------------------------------------------------------------\u001b[0m",
      "\u001b[0;31mTypeError\u001b[0m                                 Traceback (most recent call last)",
      "\u001b[0;32m/tmp/ipykernel_9739/3298148973.py\u001b[0m in \u001b[0;36m<module>\u001b[0;34m\u001b[0m\n\u001b[1;32m      1\u001b[0m \u001b[0mmy_tup\u001b[0m \u001b[0;34m=\u001b[0m \u001b[0;34m(\u001b[0m\u001b[0;36m1\u001b[0m\u001b[0;34m,\u001b[0m \u001b[0;36m2\u001b[0m\u001b[0;34m,\u001b[0m \u001b[0;34m'a'\u001b[0m\u001b[0;34m,\u001b[0m \u001b[0;34m'b'\u001b[0m\u001b[0;34m,\u001b[0m \u001b[0;34m'b'\u001b[0m\u001b[0;34m,\u001b[0m \u001b[0;36m0\u001b[0m\u001b[0;34m)\u001b[0m\u001b[0;34m\u001b[0m\u001b[0;34m\u001b[0m\u001b[0m\n\u001b[0;32m----> 2\u001b[0;31m \u001b[0mmy_tup\u001b[0m\u001b[0;34m[\u001b[0m\u001b[0;36m0\u001b[0m\u001b[0;34m]\u001b[0m \u001b[0;34m=\u001b[0m \u001b[0;34m'1'\u001b[0m \u001b[0;31m# raises a TypeError\u001b[0m\u001b[0;34m\u001b[0m\u001b[0;34m\u001b[0m\u001b[0m\n\u001b[0m",
      "\u001b[0;31mTypeError\u001b[0m: 'tuple' object does not support item assignment"
     ]
    }
   ],
   "source": [
    "my_tup = (1, 2, 'a', 'b', 'b', 0)\n",
    "my_tup[0] = '1' # raises a TypeError"
   ]
  },
  {
   "cell_type": "markdown",
   "id": "17329250-a590-4c65-9894-3677c9e6fc94",
   "metadata": {},
   "source": [
    "For this reason, tuples lack of most of the methods that are found in list, \n",
    "with exception of `index` and `count`. "
   ]
  },
  {
   "cell_type": "code",
   "execution_count": 83,
   "id": "93a7c02c-76dc-4a2e-83e1-0113e4ddf0a6",
   "metadata": {},
   "outputs": [
    {
     "data": {
      "text/plain": [
       "['1', 'n', 2, 'b', 'b', 0, 'c']"
      ]
     },
     "execution_count": 83,
     "metadata": {},
     "output_type": "execute_result"
    }
   ],
   "source": [
    "my_list.remove('a') # remove a specific element from the list\n",
    "my_list.append('c') # append a new element at the end of the list\n",
    "my_list.insert(1, \"n\") # insert a new element in the index 1, moving all elements one index\n",
    "\n",
    "my_list"
   ]
  },
  {
   "cell_type": "markdown",
   "id": "31a2f376-86ba-4549-b212-bfeb7a364b5f",
   "metadata": {},
   "source": [
    "All these methods define what `list` are intended for, storing a list of elements that COULD\n",
    "be updated in future instructions.\n",
    "\n",
    "The lack of all these methods in tuples, making it a \"lighter\" type than a list (in terms of bytes)"
   ]
  },
  {
   "cell_type": "code",
   "execution_count": 87,
   "id": "db01d255-9e51-4581-b2e3-336b3a795cda",
   "metadata": {},
   "outputs": [
    {
     "name": "stdout",
     "output_type": "stream",
     "text": [
      "\n",
      "Size in bytes of my_list: 104\n",
      "Size in bytes of my_tup: 88\n",
      "\n"
     ]
    }
   ],
   "source": [
    "my_list = [1, 2, 3, 4, 5, 6]\n",
    "my_tup = (1, 2, 3, 4, 5, 6)\n",
    "\n",
    "from sys import getsizeof \n",
    "print(f'''\n",
    "Size in bytes of my_list: {getsizeof(my_list)}\n",
    "Size in bytes of my_tup: {getsizeof(my_tup)}\n",
    "''')"
   ]
  },
  {
   "cell_type": "markdown",
   "id": "74dd95f5-8187-4343-8a0d-87e84c16faf1",
   "metadata": {},
   "source": [
    "This characteristic of tuples and its inmutability make them good for other uses.\n",
    "They work perfectly to maintain the integrity of a list of elements that you do not\n",
    "want to modify, reducing conflicts with other parts of your code.\n",
    "Because they are \"lighter\", they are the best option in big projects (or big lists)\n",
    "in terms of reducing running times and memory optiimization.\n",
    "Additionaly, another important feature of tuples is that they are hashable. \n",
    "In the following section about hashing, sets and dictionaries, this feature will be explored. \n",
    "\n",
    "So if your list of elements will be static once you create it, it is recommended to\n",
    "use `tuple` instead of a `list`.\n",
    "\n",
    "**Additional note**: Some implicit declarations in Python can be tricky. \n",
    "For example, the following code will result in a tuple of one element \n",
    "instead of a variable storing a string."
   ]
  },
  {
   "cell_type": "code",
   "execution_count": 12,
   "id": "bd2594fc-a27b-4725-8be6-8f0ce6c284f0",
   "metadata": {},
   "outputs": [],
   "source": [
    "var = \"anything\", # note the trailing comma"
   ]
  },
  {
   "cell_type": "code",
   "execution_count": 14,
   "id": "c5051ac2-198e-4c5a-8f11-a2cf28f51907",
   "metadata": {},
   "outputs": [
    {
     "data": {
      "text/plain": [
       "tuple"
      ]
     },
     "execution_count": 14,
     "metadata": {},
     "output_type": "execute_result"
    }
   ],
   "source": [
    "type(var)"
   ]
  },
  {
   "cell_type": "markdown",
   "id": "b074ff9f-85f8-4159-81ab-f78f59a511cc",
   "metadata": {},
   "source": [
    "## Hashing, Sets and Dictionaries"
   ]
  },
  {
   "cell_type": "markdown",
   "id": "fe0395eb-68c0-402d-8e1f-c962b255658e",
   "metadata": {},
   "source": [
    "One of the strategies of Python to speed up some operations is hashing the index of every element in a collection of data. Understading all details behind hashing algorithms may be complex, but in general terms it is a process that map a certain data (strings, integer, floats, etc.) to some representative integer value, commonly related with a determined position in a hashtable. By doing so, Python can calculate the relative position or index of a given element using the same formula instead of transverse the entire collection of data. \n",
    "\n",
    "To get a hash of certain data in Python you can use the function `hash()`"
   ]
  },
  {
   "cell_type": "code",
   "execution_count": 15,
   "id": "d565d900-610a-4cf5-9045-2a070351c153",
   "metadata": {},
   "outputs": [
    {
     "data": {
      "text/plain": [
       "7035250155953424183"
      ]
     },
     "execution_count": 15,
     "metadata": {},
     "output_type": "execute_result"
    }
   ],
   "source": [
    "hash(\"anything\")"
   ]
  },
  {
   "cell_type": "markdown",
   "id": "14d414d4-f7f7-4c9b-b5a4-d8cb87b34bfb",
   "metadata": {},
   "source": [
    "You should be aware that no all type of data can be hashed, if you try to get the \n",
    "hash of a list you will get an error"
   ]
  },
  {
   "cell_type": "code",
   "execution_count": 17,
   "id": "f0ea5659-2fe6-4c24-b8d4-7956fd08495d",
   "metadata": {},
   "outputs": [
    {
     "ename": "TypeError",
     "evalue": "unhashable type: 'list'",
     "output_type": "error",
     "traceback": [
      "\u001b[0;31m---------------------------------------------------------------------------\u001b[0m",
      "\u001b[0;31mTypeError\u001b[0m                                 Traceback (most recent call last)",
      "\u001b[0;32m/tmp/ipykernel_9739/3935535391.py\u001b[0m in \u001b[0;36m<module>\u001b[0;34m\u001b[0m\n\u001b[0;32m----> 1\u001b[0;31m \u001b[0mhash\u001b[0m\u001b[0;34m(\u001b[0m\u001b[0;34m[\u001b[0m\u001b[0;36m1\u001b[0m\u001b[0;34m,\u001b[0m\u001b[0;36m2\u001b[0m\u001b[0;34m,\u001b[0m\u001b[0;36m3\u001b[0m\u001b[0;34m]\u001b[0m\u001b[0;34m)\u001b[0m \u001b[0;31m# raises a TypeError\u001b[0m\u001b[0;34m\u001b[0m\u001b[0;34m\u001b[0m\u001b[0m\n\u001b[0m",
      "\u001b[0;31mTypeError\u001b[0m: unhashable type: 'list'"
     ]
    }
   ],
   "source": [
    "hash([1,2,3]) # raises a TypeError"
   ]
  },
  {
   "cell_type": "markdown",
   "id": "5609c8b7-e294-43a2-81d4-d3ca0b8e71ef",
   "metadata": {},
   "source": [
    "There are some types of data that are based in hashtables in Python,\n",
    "`set` and `dict`. Both are declared using `{}`, but they are \n",
    "intended for different purposes. \n",
    "\n",
    "**Sets** are homologous to lists, they are mutable; however, sets are \n",
    "ordered and DO NOT store duplicated values. "
   ]
  },
  {
   "cell_type": "code",
   "execution_count": 95,
   "id": "7cc2b4a0-d88b-4638-bbe5-2d2e8702251d",
   "metadata": {},
   "outputs": [
    {
     "data": {
      "text/plain": [
       "{0, 1, 2, 'a', 'b'}"
      ]
     },
     "execution_count": 95,
     "metadata": {},
     "output_type": "execute_result"
    }
   ],
   "source": [
    "my_set = {1, 2, 'a', 'b', 'b', 0} # only one 'b' will be stored in this set and elements are sorted\n",
    "my_set"
   ]
  },
  {
   "cell_type": "markdown",
   "id": "414dca8a-3907-4a1e-bce9-9ed8fef6ca9f",
   "metadata": {},
   "source": [
    "Similar to lists, sets have multiple methods for replacing, adding or removing elements"
   ]
  },
  {
   "cell_type": "code",
   "execution_count": 96,
   "id": "08da66b3-87db-4188-aeee-510e03d3bac5",
   "metadata": {},
   "outputs": [
    {
     "data": {
      "text/plain": [
       "{0, 1, 2, 'b', 'c'}"
      ]
     },
     "execution_count": 96,
     "metadata": {},
     "output_type": "execute_result"
    }
   ],
   "source": [
    "my_set.remove('a')\n",
    "my_set.add('c')\n",
    "\n",
    "my_set"
   ]
  },
  {
   "cell_type": "markdown",
   "id": "e0e92bde-0623-4659-b8d5-c7050abf06c5",
   "metadata": {},
   "source": [
    "And due to its hashable nature, sets have handy methods for comparing different sets."
   ]
  },
  {
   "cell_type": "code",
   "execution_count": 101,
   "id": "d889dc36-90d4-4b02-b8b8-71f12f5a03cd",
   "metadata": {},
   "outputs": [
    {
     "data": {
      "text/plain": [
       "{3}"
      ]
     },
     "execution_count": 101,
     "metadata": {},
     "output_type": "execute_result"
    }
   ],
   "source": [
    "set_1 = {1,2,3,4,5}\n",
    "set_2 = {1,2,8,4,5}\n",
    "\n",
    "set_1.difference(set_2) # finds the elements that are different in set_1"
   ]
  },
  {
   "cell_type": "markdown",
   "id": "481bb07b-187b-438d-8de4-9346f0d5c1b0",
   "metadata": {},
   "source": [
    "**Dictionaries** are also an useful type that provides a structured way of storing data (`value`) and its representation or identifier (`key`). Procesing times for dictionaries are usually similar than the observed in `set` operations. \n",
    "\n",
    "One of the ways to define a dictionary is using `{}` to enclose one or more keys and its values. Keys most be pointed to their values using a `:`.\n",
    "\n",
    "The data they can store is widely variable and it can be any type of data in python, even complex objects or other dictionaries."
   ]
  },
  {
   "cell_type": "code",
   "execution_count": 204,
   "id": "318570f9-e18f-4bdd-9e13-10cb5874555a",
   "metadata": {},
   "outputs": [],
   "source": [
    "my_dict = {\n",
    "    'key1': 'A',\n",
    "    '2': 1,\n",
    "    'three': [0,1,2,3],\n",
    "    4: 1, # opposite to keys, values can be duplicated in a dictionary\n",
    "    'key5': {\"inner_key1\": 33, \"inner_key2\": 66} # little dict inside a dict\n",
    "}"
   ]
  },
  {
   "cell_type": "markdown",
   "id": "c10e6bfc-e974-4031-915a-37af2b50f90a",
   "metadata": {},
   "source": [
    "Dictionaries do not allow duplicated keys in the same way that sets do; nevertheless, Python does not return it as an error. Instead, it updates the previous value for a given key as shown in the following code."
   ]
  },
  {
   "cell_type": "code",
   "execution_count": 182,
   "id": "1b81a986-565a-4dd0-9aa2-2d47ce925fe2",
   "metadata": {},
   "outputs": [
    {
     "data": {
      "text/plain": [
       "{'key1': 'Last'}"
      ]
     },
     "execution_count": 182,
     "metadata": {},
     "output_type": "execute_result"
    }
   ],
   "source": [
    "my_dict = {\n",
    "    'key1': (9,5,6),\n",
    "    'key1': 1,\n",
    "    'key1': 'Last' # this is the value that maintain under the key1\n",
    "}\n",
    "\n",
    "my_dict"
   ]
  },
  {
   "cell_type": "markdown",
   "id": "966b415f-435f-4ffb-9d0d-42a575f421ca",
   "metadata": {},
   "source": [
    "Keys in a `dict` must be a hashable type, for that reason, a `list` cannot be a key in a dictionary. However, as mentioned before, tuples are hashable, for that tuples can be a key in a dictionary."
   ]
  },
  {
   "cell_type": "code",
   "execution_count": 196,
   "id": "aa53ee98-2505-4a7c-9b65-9de1269ff711",
   "metadata": {},
   "outputs": [
    {
     "data": {
      "text/plain": [
       "{(1, 2, 3): 'Success'}"
      ]
     },
     "execution_count": 196,
     "metadata": {},
     "output_type": "execute_result"
    }
   ],
   "source": [
    "dict_a = {\n",
    "    (1,2,3): 'Success',\n",
    "}\n",
    "\n",
    "dict_a"
   ]
  },
  {
   "cell_type": "code",
   "execution_count": 197,
   "id": "5752b327-66c3-44c2-a689-95212b1d3d44",
   "metadata": {},
   "outputs": [
    {
     "ename": "TypeError",
     "evalue": "unhashable type: 'list'",
     "output_type": "error",
     "traceback": [
      "\u001b[0;31m---------------------------------------------------------------------------\u001b[0m",
      "\u001b[0;31mTypeError\u001b[0m                                 Traceback (most recent call last)",
      "\u001b[0;32m/tmp/ipykernel_9739/3011580790.py\u001b[0m in \u001b[0;36m<module>\u001b[0;34m\u001b[0m\n\u001b[0;32m----> 1\u001b[0;31m dict_b = {\n\u001b[0m\u001b[1;32m      2\u001b[0m     \u001b[0;34m[\u001b[0m\u001b[0;36m1\u001b[0m\u001b[0;34m,\u001b[0m\u001b[0;36m2\u001b[0m\u001b[0;34m,\u001b[0m\u001b[0;36m3\u001b[0m\u001b[0;34m]\u001b[0m\u001b[0;34m:\u001b[0m \u001b[0;34m'Failure'\u001b[0m  \u001b[0;31m# raises a TypeError\u001b[0m\u001b[0;34m\u001b[0m\u001b[0;34m\u001b[0m\u001b[0m\n\u001b[1;32m      3\u001b[0m }\n",
      "\u001b[0;31mTypeError\u001b[0m: unhashable type: 'list'"
     ]
    }
   ],
   "source": [
    "dict_b = {\n",
    "    [1,2,3]: 'Failure'  # raises a TypeError\n",
    "}"
   ]
  },
  {
   "cell_type": "markdown",
   "id": "da9452b8-ba9d-4090-9a07-c70f0371ce84",
   "metadata": {},
   "source": [
    "One of the great potentials of dictionaries is their accessibility (speed and simplicity). To access a given `value` in a dictionary, you just need to look up for the `key` that represent it."
   ]
  },
  {
   "cell_type": "code",
   "execution_count": 207,
   "id": "2fd2fbbe-33de-466a-8a90-ff60c2947239",
   "metadata": {},
   "outputs": [
    {
     "data": {
      "text/plain": [
       "'A'"
      ]
     },
     "execution_count": 207,
     "metadata": {},
     "output_type": "execute_result"
    }
   ],
   "source": [
    "my_dict['key1']"
   ]
  },
  {
   "cell_type": "markdown",
   "id": "39275713-dde5-409c-a87d-b8731303392b",
   "metadata": {},
   "source": [
    "In the same way than other types discussed in this document, dictionaries have multiple methods to perform some operations. For example, using the method `keys()` you can get all the keys inside a given `dict`."
   ]
  },
  {
   "cell_type": "code",
   "execution_count": 210,
   "id": "3e5e8e36-ec34-44bc-9ca7-4efad2ef2ab5",
   "metadata": {},
   "outputs": [
    {
     "data": {
      "text/plain": [
       "dict_keys(['key1', '2', 'three', 4, 'key5'])"
      ]
     },
     "execution_count": 210,
     "metadata": {},
     "output_type": "execute_result"
    }
   ],
   "source": [
    "my_dict.keys()"
   ]
  },
  {
   "cell_type": "markdown",
   "id": "c31b91b9-7e9b-41ae-9859-323e40d13c65",
   "metadata": {},
   "source": [
    "### Performance on hash-based types"
   ]
  },
  {
   "cell_type": "markdown",
   "id": "4906b32f-6a71-4c8d-8924-46b2dd0b73f0",
   "metadata": {},
   "source": [
    "As discussed before, hashing could increase the performance of some operations in a collection of data. But how different it is? Is it worth it? Let's check how long Python takes to find a element in a long `list`, `tuple` or `set`?"
   ]
  },
  {
   "cell_type": "code",
   "execution_count": 218,
   "id": "ade8f6aa-86c2-4413-b88a-6ba462681f58",
   "metadata": {},
   "outputs": [],
   "source": [
    "# create a list \n",
    "long_list = list(range(100000)) # this is a different way to declare a list, using the function list()\n",
    "\n",
    "# create a tuple \n",
    "long_tuple = tuple(long_list) # same as list, tuples can be declared with the function tuple()\n",
    "\n",
    "# create a set\n",
    "long_set = set(long_list) "
   ]
  },
  {
   "cell_type": "code",
   "execution_count": 219,
   "id": "b95902fe-218d-45cd-a417-0126434fd1a1",
   "metadata": {},
   "outputs": [
    {
     "name": "stdout",
     "output_type": "stream",
     "text": [
      "519 µs ± 12.9 µs per loop (mean ± std. dev. of 7 runs, 1000 loops each)\n"
     ]
    }
   ],
   "source": [
    "%%timeit ## using this built-in Jupyter magic function we can measure running time\n",
    "99999 in long_list"
   ]
  },
  {
   "cell_type": "code",
   "execution_count": 220,
   "id": "f4f164ba-a00b-4d72-89bb-d7c4ddf47149",
   "metadata": {},
   "outputs": [
    {
     "name": "stdout",
     "output_type": "stream",
     "text": [
      "470 µs ± 6 µs per loop (mean ± std. dev. of 7 runs, 1000 loops each)\n"
     ]
    }
   ],
   "source": [
    "%%timeit \n",
    "99999 in long_tuple"
   ]
  },
  {
   "cell_type": "code",
   "execution_count": 221,
   "id": "7f6ba00e-6d11-49f3-8b1c-2bdfd2301556",
   "metadata": {},
   "outputs": [
    {
     "name": "stdout",
     "output_type": "stream",
     "text": [
      "23.7 ns ± 0.0693 ns per loop (mean ± std. dev. of 7 runs, 10000000 loops each)\n"
     ]
    }
   ],
   "source": [
    "%%timeit \n",
    "99999 in long_set"
   ]
  },
  {
   "cell_type": "markdown",
   "id": "14837994-6338-4cfe-8dde-e7ef97423757",
   "metadata": {},
   "source": [
    "Similar running times of sets can be achieved when we are looking for a key in a dictionary."
   ]
  },
  {
   "cell_type": "markdown",
   "id": "fa7637fd-8be6-4d72-a7b9-04084c108b86",
   "metadata": {
    "tags": []
   },
   "source": [
    "## Arrays and DataFrames (non-native data types)\n",
    "There is a lot of ways to store data in Python, some of them came from third party libraries. This mean that they are not available with pure Python installation. Two of the most popular data types are Arrays and DataFrames due to their efficiency and methods.\n",
    "\n",
    "### Arrays\n",
    "**Arrays** are included in the library [NumPy](https://numpy.org/). This library add support to Python to manage very large and multidimentional arrays, as well as multiple mathematical functions useful to operate one this type. This data type is highly efficient, in term of memory and running times. Arrays may be variable in the number of dimensions, form 1D-array, similar to a `list`; 2D-array, similar to a matrix or table; to a high n-dimentional array.\n",
    "\n",
    "In contrast to other data type explored in this document, NumPy arrays are homogenous (e.g. strings and integer cannot be in the same collection), being limited in the data you can store in a given array. Nonetheless, this does not mean that arrays cannot store some type of data, on the contrary, Numpy arrays can store a very wide variety of data types. As you may expect, some of the handy functions included in this library are limited by the type of data stored inside each array.\n",
    "\n",
    "The following code shows how to create a 1D-array with NumPy."
   ]
  },
  {
   "cell_type": "code",
   "execution_count": 249,
   "id": "4e08e343-8333-4b62-aa63-44bfe26edf6d",
   "metadata": {},
   "outputs": [
    {
     "data": {
      "text/plain": [
       "array([1, 2, 3, 4, 5])"
      ]
     },
     "execution_count": 249,
     "metadata": {},
     "output_type": "execute_result"
    }
   ],
   "source": [
    "import numpy as np\n",
    "\n",
    "my_arr = np.array([1, 2, 3, 4, 5])\n",
    "my_arr"
   ]
  },
  {
   "cell_type": "markdown",
   "id": "34bf7095-bfdc-4239-a0db-753e6e45958a",
   "metadata": {},
   "source": [
    "In our previous example all elements in our input list are integer; nonetheless, if one of the elements is a different type (string, float, etc.), NumPy will try to perfom an automatic tranformation to homogenize all element inside the array."
   ]
  },
  {
   "cell_type": "code",
   "execution_count": 250,
   "id": "7b9b67c3-e5cf-4633-8d12-dfa4550c34c4",
   "metadata": {},
   "outputs": [
    {
     "data": {
      "text/plain": [
       "array(['1', '2', 'string', '4', '5'], dtype='<U21')"
      ]
     },
     "execution_count": 250,
     "metadata": {},
     "output_type": "execute_result"
    }
   ],
   "source": [
    "homogenized_arr = np.array([1, 2, 'string', 4, 5])\n",
    "homogenized_arr # note in this array, all integers are now strings"
   ]
  },
  {
   "cell_type": "code",
   "execution_count": 251,
   "id": "06bad893-0715-4075-a1d7-f6dd6e02e0ce",
   "metadata": {},
   "outputs": [
    {
     "data": {
      "text/plain": [
       "array([1., 2., 3., 4., 5.])"
      ]
     },
     "execution_count": 251,
     "metadata": {},
     "output_type": "execute_result"
    }
   ],
   "source": [
    "homogenized_arr = np.array([1, 2, 3.0, 4, 5])\n",
    "homogenized_arr # same happens here where NumPy convert all integers into floats"
   ]
  },
  {
   "cell_type": "markdown",
   "id": "91cb6173-b6ff-4a8d-8328-ce378ee525e6",
   "metadata": {},
   "source": [
    "As we mentioned above, arrays can be multidimentional. Here is how a 2D-array can be declared"
   ]
  },
  {
   "cell_type": "code",
   "execution_count": 279,
   "id": "b982471b-4ff1-49d7-b4b4-c9352a4871a0",
   "metadata": {},
   "outputs": [],
   "source": [
    "my_2darr = np.array([[1, 2],\n",
    "                    [1, 3],\n",
    "                    [1, 1]])"
   ]
  },
  {
   "cell_type": "markdown",
   "id": "d26b9df9-00e4-44ee-8d7d-5e3b6854530a",
   "metadata": {},
   "source": [
    "The variety of functions included in this library are very powerful to perform some operations with very little coding, for example:"
   ]
  },
  {
   "cell_type": "code",
   "execution_count": 283,
   "id": "2539bdb3-806c-4cc1-8655-43bca271ae03",
   "metadata": {},
   "outputs": [
    {
     "data": {
      "text/plain": [
       "array([[100, 100, 100],\n",
       "       [102, 100, 103]])"
      ]
     },
     "execution_count": 283,
     "metadata": {},
     "output_type": "execute_result"
    }
   ],
   "source": [
    "original_arr = np.array([[0, 0, 0],\n",
    "                        [2, 0, 3]])\n",
    "\n",
    "original_arr + 100 # this adds iteratively 100 to every stored value in this 2D-array"
   ]
  },
  {
   "cell_type": "markdown",
   "id": "1ad39c39-392d-4544-b677-c202f8bef975",
   "metadata": {},
   "source": [
    "Some of those functions handle matrix operations efficiently."
   ]
  },
  {
   "cell_type": "code",
   "execution_count": 284,
   "id": "42472cea-0bf1-4698-9743-565e5699dec9",
   "metadata": {},
   "outputs": [
    {
     "data": {
      "text/plain": [
       "array([[1, 1, 2],\n",
       "       [4, 4, 4],\n",
       "       [1, 1, 2]])"
      ]
     },
     "execution_count": 284,
     "metadata": {},
     "output_type": "execute_result"
    }
   ],
   "source": [
    "arr1 = np.array([[0, 0, 1],\n",
    "               [3, 1, 2],\n",
    "               [1, 0, 1]])\n",
    "arr2 = np.array([[1, 1, 1],\n",
    "               [1, 3, 2],\n",
    "               [0, 1, 1]])\n",
    "\n",
    "np.add(arr1, arr2)"
   ]
  },
  {
   "cell_type": "markdown",
   "id": "a81f2055-b398-4b74-b98d-b100008b94d8",
   "metadata": {},
   "source": [
    "There is a vast amount of functions in this library. Understanding all of them are out of the scope of this course, but it is helpful to be familiar with the documentation to know what is the potential of this data type."
   ]
  },
  {
   "cell_type": "markdown",
   "id": "709f0354-eb39-46ff-b88a-645399931e75",
   "metadata": {},
   "source": [
    "**Additional note**: You should know that there is a data type that can be found natively in Python in the [module `array`](https://docs.python.org/3.8/library/array.html). This data type is intended to compactly store arrays of numeric values by encoding them accordingly to its values characteristics, it shares some attributes with NumPy arrays, but lack of some functionalities found in the latter. \n",
    "\n",
    "The word array can be tricky, not only in Python, but also in other programming languages. For some of them they are simple lists, but for some others they share some characteristics as described above in NumPy definition. \n",
    "\n",
    "The following is an example of array definition in native Python module. "
   ]
  },
  {
   "cell_type": "code",
   "execution_count": 237,
   "id": "2f3a0bf2-4b57-4ff4-8c42-7ada991a2fc4",
   "metadata": {},
   "outputs": [],
   "source": [
    "import array\n",
    "native_array = array.array('d', [1.0, 2.0, 3.14]) # d is the type of value, being double in this case"
   ]
  },
  {
   "cell_type": "markdown",
   "id": "1f7e2916-58b4-4e38-8c98-1d7385681889",
   "metadata": {
    "tags": []
   },
   "source": [
    "### DataFrames\n",
    "Similar to the previous data type, **DataFrames** are a specific type of data included in the library [Pandas](https://pandas.pydata.org/). This library provides, not only a powerful and highly performant data structure, but also includes useful function for manipulating numerical tables and data series. Tables are composed by columns and row, and every cell is indexed. \n",
    "\n",
    "DataFrames has some benefits over other data types described in this document. Their structure allow an easy interpretation and reduce abstraction by allowing labeling axes (row and columns).\n",
    "\n",
    "There are multiple ways to create a DataFrame, one of the most common is using a `dict` where `keys` are the column names and a list in its `value` is the data alocated in each cell. "
   ]
  },
  {
   "cell_type": "code",
   "execution_count": 297,
   "id": "9b96f533-6f7a-41ab-a41a-572482b832a0",
   "metadata": {},
   "outputs": [
    {
     "data": {
      "text/html": [
       "<div>\n",
       "<style scoped>\n",
       "    .dataframe tbody tr th:only-of-type {\n",
       "        vertical-align: middle;\n",
       "    }\n",
       "\n",
       "    .dataframe tbody tr th {\n",
       "        vertical-align: top;\n",
       "    }\n",
       "\n",
       "    .dataframe thead th {\n",
       "        text-align: right;\n",
       "    }\n",
       "</style>\n",
       "<table border=\"1\" class=\"dataframe\">\n",
       "  <thead>\n",
       "    <tr style=\"text-align: right;\">\n",
       "      <th></th>\n",
       "      <th>Column+one</th>\n",
       "      <th>Column_2</th>\n",
       "      <th>Column*3</th>\n",
       "    </tr>\n",
       "  </thead>\n",
       "  <tbody>\n",
       "    <tr>\n",
       "      <th>0</th>\n",
       "      <td>A</td>\n",
       "      <td>s</td>\n",
       "      <td>1</td>\n",
       "    </tr>\n",
       "    <tr>\n",
       "      <th>1</th>\n",
       "      <td>B</td>\n",
       "      <td>t</td>\n",
       "      <td>2</td>\n",
       "    </tr>\n",
       "    <tr>\n",
       "      <th>2</th>\n",
       "      <td>C</td>\n",
       "      <td>r</td>\n",
       "      <td>3</td>\n",
       "    </tr>\n",
       "    <tr>\n",
       "      <th>3</th>\n",
       "      <td>D</td>\n",
       "      <td>i</td>\n",
       "      <td>4</td>\n",
       "    </tr>\n",
       "    <tr>\n",
       "      <th>4</th>\n",
       "      <td>E</td>\n",
       "      <td>n</td>\n",
       "      <td>4</td>\n",
       "    </tr>\n",
       "    <tr>\n",
       "      <th>5</th>\n",
       "      <td>F</td>\n",
       "      <td>g</td>\n",
       "      <td>3</td>\n",
       "    </tr>\n",
       "  </tbody>\n",
       "</table>\n",
       "</div>"
      ],
      "text/plain": [
       "  Column+one Column_2  Column*3\n",
       "0          A        s         1\n",
       "1          B        t         2\n",
       "2          C        r         3\n",
       "3          D        i         4\n",
       "4          E        n         4\n",
       "5          F        g         3"
      ]
     },
     "execution_count": 297,
     "metadata": {},
     "output_type": "execute_result"
    }
   ],
   "source": [
    "import pandas as pd\n",
    "dict1 = {\n",
    "    'Column+one': ['A', 'B', 'C', 'D', 'E', 'F'],\n",
    "    'Column_2': ['s', 't', 'r', 'i', 'n', 'g'],\n",
    "    'Column*3': [1, 2, 3, 4, 4, 3],\n",
    "}\n",
    "  \n",
    "my_df = pd.DataFrame(dict1) # creates the dataframe from our dictionary\n",
    "\n",
    "my_df"
   ]
  },
  {
   "cell_type": "markdown",
   "id": "93477d0f-a626-45eb-b87f-98971cf67512",
   "metadata": {},
   "source": [
    "Jupyter notebooks have a very clear and appealing graphical representation of DataFrames, favoring the reduction of the abstraction needed to operate some tables."
   ]
  },
  {
   "cell_type": "code",
   "execution_count": 305,
   "id": "a9da18c6-3c24-4e36-9ced-966fab2300b0",
   "metadata": {},
   "outputs": [
    {
     "data": {
      "text/html": [
       "<div>\n",
       "<style scoped>\n",
       "    .dataframe tbody tr th:only-of-type {\n",
       "        vertical-align: middle;\n",
       "    }\n",
       "\n",
       "    .dataframe tbody tr th {\n",
       "        vertical-align: top;\n",
       "    }\n",
       "\n",
       "    .dataframe thead th {\n",
       "        text-align: right;\n",
       "    }\n",
       "</style>\n",
       "<table border=\"1\" class=\"dataframe\">\n",
       "  <thead>\n",
       "    <tr style=\"text-align: right;\">\n",
       "      <th></th>\n",
       "      <th>Column+one</th>\n",
       "      <th>Column_2</th>\n",
       "      <th>Column*3</th>\n",
       "    </tr>\n",
       "  </thead>\n",
       "  <tbody>\n",
       "    <tr>\n",
       "      <th>0</th>\n",
       "      <td>A</td>\n",
       "      <td>s</td>\n",
       "      <td>1</td>\n",
       "    </tr>\n",
       "    <tr>\n",
       "      <th>1</th>\n",
       "      <td>B</td>\n",
       "      <td>t</td>\n",
       "      <td>2</td>\n",
       "    </tr>\n",
       "    <tr>\n",
       "      <th>2</th>\n",
       "      <td>C</td>\n",
       "      <td>r</td>\n",
       "      <td>3</td>\n",
       "    </tr>\n",
       "    <tr>\n",
       "      <th>3</th>\n",
       "      <td>D</td>\n",
       "      <td>i</td>\n",
       "      <td>4</td>\n",
       "    </tr>\n",
       "    <tr>\n",
       "      <th>4</th>\n",
       "      <td>E</td>\n",
       "      <td>n</td>\n",
       "      <td>4</td>\n",
       "    </tr>\n",
       "    <tr>\n",
       "      <th>5</th>\n",
       "      <td>F</td>\n",
       "      <td>g</td>\n",
       "      <td>3</td>\n",
       "    </tr>\n",
       "    <tr>\n",
       "      <th>0</th>\n",
       "      <td>E</td>\n",
       "      <td>n</td>\n",
       "      <td>4</td>\n",
       "    </tr>\n",
       "    <tr>\n",
       "      <th>1</th>\n",
       "      <td>F</td>\n",
       "      <td>g</td>\n",
       "      <td>3</td>\n",
       "    </tr>\n",
       "  </tbody>\n",
       "</table>\n",
       "</div>"
      ],
      "text/plain": [
       "  Column+one Column_2  Column*3\n",
       "0          A        s         1\n",
       "1          B        t         2\n",
       "2          C        r         3\n",
       "3          D        i         4\n",
       "4          E        n         4\n",
       "5          F        g         3\n",
       "0          E        n         4\n",
       "1          F        g         3"
      ]
     },
     "execution_count": 305,
     "metadata": {},
     "output_type": "execute_result"
    }
   ],
   "source": [
    "list_of_lists = [['E','n', 4],['F', 'g', 3]]\n",
    "\n",
    "my_df2 = pd.DataFrame(list_of_lists, columns=['Column+one', 'Column_2', 'Column*3']) # creates a dataframe from a list\n",
    "\n",
    "pd.concat([my_df, my_df2]) # concatenate both dataframes"
   ]
  },
  {
   "cell_type": "markdown",
   "id": "23ad48c5-6ed4-4adc-b83b-7d050dd5c1dc",
   "metadata": {},
   "source": [
    "In the same way that NumPy arrays, the whole Pandas module include multitude of functions, methods, and properties for managing data in very efficient ways. However, exploring all of them are not the main scope of this unit. "
   ]
  }
 ],
 "metadata": {
  "kernelspec": {
   "display_name": "Python 3 (ipykernel)",
   "language": "python",
   "name": "python3"
  },
  "language_info": {
   "codemirror_mode": {
    "name": "ipython",
    "version": 3
   },
   "file_extension": ".py",
   "mimetype": "text/x-python",
   "name": "python",
   "nbconvert_exporter": "python",
   "pygments_lexer": "ipython3",
   "version": "3.8.10"
  }
 },
 "nbformat": 4,
 "nbformat_minor": 5
}
