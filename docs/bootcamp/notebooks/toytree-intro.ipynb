{
 "cells": [
  {
   "cell_type": "markdown",
   "id": "42e66cfd",
   "metadata": {},
   "source": [
    "# Introduction to toytree\n",
    "\n",
    "### Learning objectives\n",
    "This notebook provides an introduction to working with phylogenetic trees in Python. By the end of this notebook you will:\n",
    "\n",
    "1. Be familiar with the `toytree` Python package.\n",
    "2. Know how to load and plot phylogenetic trees from newick files.\n",
    "3. Understand that phylogenetic trees can be represented as ToyTree objects in Python, from which many things can be done, including visualization, modification, analysis, and comparisons."
   ]
  },
  {
   "cell_type": "markdown",
   "id": "6ed9bc44",
   "metadata": {},
   "source": [
    "### Introduction to working with trees in `toytree`\n",
    "\n",
    "`toytree` is a Python tree plotting library designed for use inside \n",
    "jupyter notebooks. In fact, this entire tutorial was created using notebooks, and assumes that you are following along in a notebook of your own. To begin, we will import `toytree`, and the plotting library it is built on, `toyplot`, as well as `numpy` for generating some numerical data. "
   ]
  },
  {
   "cell_type": "code",
   "execution_count": 5,
   "id": "db4e21d7",
   "metadata": {},
   "outputs": [],
   "source": [
    "import toytree       # a tree plotting library\n",
    "import toyplot       # a general plotting library\n",
    "import numpy as np   # numerical library"
   ]
  },
  {
   "cell_type": "code",
   "execution_count": 6,
   "id": "bc9e7b29",
   "metadata": {},
   "outputs": [
    {
     "name": "stdout",
     "output_type": "stream",
     "text": [
      "toytree 3.0.0-dev\n",
      "toyplot 0.19.0\n",
      "numpy 1.20.3\n"
     ]
    }
   ],
   "source": [
    "print(\"toytree\", toytree.__version__)\n",
    "print(\"toyplot\", toyplot.__version__)\n",
    "print(\"numpy\", np.__version__)"
   ]
  },
  {
   "cell_type": "markdown",
   "id": "74900b56",
   "metadata": {},
   "source": [
    "### Load and draw your first tree\n",
    "The main Class object in toytree is a `ToyTree`, which provides plotting functionality as well as many useful functions and attributes for returning information and statistics about trees. As we'll see below, you can generate a `ToyTree` object in many ways, but generally it is done by reading in a newick formatted string of text. The example below shows the simplest way to load a `ToyTree` which is to use the `toytree.tree()` convenience function to parse a file, URL, or string."
   ]
  },
  {
   "cell_type": "code",
   "execution_count": 7,
   "id": "3c2db6e7",
   "metadata": {},
   "outputs": [],
   "source": [
    "# load a toytree from a newick file from a public URL\n",
    "tre = toytree.tree(\"https://eaton-lab.org/data/Cyathophora.tre\")"
   ]
  },
  {
   "cell_type": "code",
   "execution_count": 34,
   "id": "8a25bfd9",
   "metadata": {},
   "outputs": [
    {
     "data": {
      "text/html": [
       "<div class=\"toyplot\" id=\"tbd012dfe7b4a487d8bc1b0c532c32a28\" style=\"text-align:center\"><svg class=\"toyplot-canvas-Canvas\" xmlns:toyplot=\"http://www.sandia.gov/toyplot\" xmlns:xlink=\"http://www.w3.org/1999/xlink\" xmlns=\"http://www.w3.org/2000/svg\" width=\"360.0px\" height=\"275.0px\" viewBox=\"0 0 360.0 275.0\" preserveAspectRatio=\"xMidYMid meet\" style=\"background-color:transparent;border-color:#292724;border-style:none;border-width:1.0;fill:rgb(16.1%,15.3%,14.1%);fill-opacity:1.0;font-family:Helvetica;font-size:12px;opacity:1.0;stroke:rgb(16.1%,15.3%,14.1%);stroke-opacity:1.0;stroke-width:1.0\" id=\"t32880617bd7b4cd38fc3b4d86c59736f\"><g class=\"toyplot-coordinates-Cartesian\" id=\"tc80fcdeb056b4af083626967d79384f6\"><clipPath id=\"ta0ca6dfe176d4ce6a96d3175e472bde2\"><rect x=\"35.0\" y=\"35.0\" width=\"290.0\" height=\"205.0\"></rect></clipPath><g clip-path=\"url(#ta0ca6dfe176d4ce6a96d3175e472bde2)\"><g class=\"toytree-mark-Toytree\" id=\"t012b06132e5b40399cd2b72abf626b63\"><g class=\"toytree-Edges\" style=\"fill:none;stroke:rgba(16.1%,15.3%,14.1%,1.000);stroke-linecap:round;stroke-width:2.0\"><path d=\"M 122.5 212.1 L 122.5 218.9 L 133.0 218.9\" id=\"13,0\" style=\"stroke-width:nan\"></path><path d=\"M 122.5 212.1 L 122.5 205.3 L 132.5 205.3\" id=\"13,1\" style=\"stroke-width:nan\"></path><path d=\"M 144.3 176.1 L 144.3 191.7 L 167.1 191.7\" id=\"19,2\" style=\"stroke-width:nan\"></path><path d=\"M 148.5 160.4 L 148.5 178.2 L 174.9 178.2\" id=\"18,3\" style=\"stroke-width:nan\"></path><path d=\"M 160.6 157.8 L 160.6 164.6 L 174.2 164.6\" id=\"14,4\" style=\"stroke-width:nan\"></path><path d=\"M 160.6 157.8 L 160.6 151.1 L 174.4 151.1\" id=\"14,5\" style=\"stroke-width:nan\"></path><path d=\"M 154.6 127.3 L 154.6 137.5 L 178.1 137.5\" id=\"16,6\" style=\"stroke-width:nan\"></path><path d=\"M 179.6 117.2 L 179.6 123.9 L 183.5 123.9\" id=\"15,7\" style=\"stroke-width:nan\"></path><path d=\"M 179.6 117.2 L 179.6 110.4 L 184.0 110.4\" id=\"15,8\" style=\"stroke-width:nan\"></path><path d=\"M 144.1 90.0 L 144.1 96.8 L 169.8 96.8\" id=\"20,9\" style=\"stroke-width:nan\"></path><path d=\"M 144.1 90.0 L 144.1 83.3 L 171.2 83.3\" id=\"20,10\" style=\"stroke-width:nan\"></path><path d=\"M 172.6 62.9 L 172.6 69.7 L 172.9 69.7\" id=\"21,11\" style=\"stroke-width:nan\"></path><path d=\"M 172.6 62.9 L 172.6 56.1 L 172.8 56.1\" id=\"21,12\" style=\"stroke-width:nan\"></path><path d=\"M 50.0 169.2 L 50.0 212.1 L 122.5 212.1\" id=\"24,13\" style=\"stroke-width:nan\"></path><path d=\"M 151.6 142.6 L 151.6 157.8 L 160.6 157.8\" id=\"17,14\" style=\"stroke-width:nan\"></path><path d=\"M 154.6 127.3 L 154.6 117.2 L 179.6 117.2\" id=\"16,15\" style=\"stroke-width:nan\"></path><path d=\"M 151.6 142.6 L 151.6 127.3 L 154.6 127.3\" id=\"17,16\" style=\"stroke-width:nan\"></path><path d=\"M 148.5 160.4 L 148.5 142.6 L 151.6 142.6\" id=\"18,17\" style=\"stroke-width:nan\"></path><path d=\"M 144.3 176.1 L 144.3 160.4 L 148.5 160.4\" id=\"19,18\" style=\"stroke-width:nan\"></path><path d=\"M 122.5 126.3 L 122.5 176.1 L 144.3 176.1\" id=\"23,19\" style=\"stroke-width:nan\"></path><path d=\"M 134.5 76.5 L 134.5 90.0 L 144.1 90.0\" id=\"22,20\" style=\"stroke-width:nan\"></path><path d=\"M 134.5 76.5 L 134.5 62.9 L 172.6 62.9\" id=\"22,21\" style=\"stroke-width:nan\"></path><path d=\"M 122.5 126.3 L 122.5 76.5 L 134.5 76.5\" id=\"23,22\" style=\"stroke-width:nan\"></path><path d=\"M 50.0 169.2 L 50.0 126.3 L 122.5 126.3\" id=\"24,23\" style=\"stroke-width:nan\"></path></g><g class=\"toytree-AlignEdges\" style=\"stroke:rgba(66.3%,66.3%,66.3%,1.000);stroke-dasharray:2,4;stroke-linecap:round;stroke-opacity:0.75;stroke-width:2\"><path d=\"M 184.0 218.9 L 133.0 218.9\"></path><path d=\"M 184.0 205.3 L 132.5 205.3\"></path><path d=\"M 184.0 191.7 L 167.1 191.7\"></path><path d=\"M 184.0 178.2 L 174.9 178.2\"></path><path d=\"M 184.0 164.6 L 174.2 164.6\"></path><path d=\"M 184.0 151.1 L 174.4 151.1\"></path><path d=\"M 184.0 137.5 L 178.1 137.5\"></path><path d=\"M 184.0 123.9 L 183.5 123.9\"></path><path d=\"M 184.0 110.4 L 184.0 110.4\"></path><path d=\"M 184.0 96.8 L 169.8 96.8\"></path><path d=\"M 184.0 83.3 L 171.2 83.3\"></path><path d=\"M 184.0 69.7 L 172.9 69.7\"></path><path d=\"M 184.0 56.1 L 172.8 56.1\"></path></g><g class=\"toytree-TipLabels\" style=\"fill:rgb(16.1%,15.3%,14.1%);fill-opacity:1.0;font-family:Helvetica;font-size:11.0px;font-weight:300;stroke:none;vertical-align:baseline;white-space:pre\"><g class=\"toytree-TipLabel\" transform=\"translate(183.97798848197198,218.86291179596174)\"><text x=\"15.0\" y=\"2.8104999999999993\" style=\"\">32082_przewalskii</text></g><g class=\"toytree-TipLabel\" transform=\"translate(183.97798848197198,205.30242649663478)\"><text x=\"15.0\" y=\"2.8104999999999993\" style=\"\">33588_przewalskii</text></g><g class=\"toytree-TipLabel\" transform=\"translate(183.97798848197198,191.74194119730782)\"><text x=\"15.0\" y=\"2.8104999999999993\" style=\"\">33413_thamno</text></g><g class=\"toytree-TipLabel\" transform=\"translate(183.97798848197198,178.18145589798087)\"><text x=\"15.0\" y=\"2.8104999999999993\" style=\"\">30556_thamno</text></g><g class=\"toytree-TipLabel\" transform=\"translate(183.97798848197198,164.6209705986539)\"><text x=\"15.0\" y=\"2.8104999999999993\" style=\"\">40578_rex</text></g><g class=\"toytree-TipLabel\" transform=\"translate(183.97798848197198,151.06048529932696)\"><text x=\"15.0\" y=\"2.8104999999999993\" style=\"\">35855_rex</text></g><g class=\"toytree-TipLabel\" transform=\"translate(183.97798848197198,137.5)\"><text x=\"15.0\" y=\"2.8104999999999993\" style=\"\">35236_rex</text></g><g class=\"toytree-TipLabel\" transform=\"translate(183.97798848197198,123.93951470067304)\"><text x=\"15.0\" y=\"2.8104999999999993\" style=\"\">39618_rex</text></g><g class=\"toytree-TipLabel\" transform=\"translate(183.97798848197198,110.37902940134609)\"><text x=\"15.0\" y=\"2.8104999999999993\" style=\"\">38362_rex</text></g><g class=\"toytree-TipLabel\" transform=\"translate(183.97798848197198,96.81854410201913)\"><text x=\"15.0\" y=\"2.8104999999999993\" style=\"\">29154_superba</text></g><g class=\"toytree-TipLabel\" transform=\"translate(183.97798848197198,83.25805880269218)\"><text x=\"15.0\" y=\"2.8104999999999993\" style=\"\">30686_cyathophylla</text></g><g class=\"toytree-TipLabel\" transform=\"translate(183.97798848197198,69.6975735033652)\"><text x=\"15.0\" y=\"2.8104999999999993\" style=\"\">41954_cyathophylloides</text></g><g class=\"toytree-TipLabel\" transform=\"translate(183.97798848197198,56.13708820403825)\"><text x=\"15.0\" y=\"2.8104999999999993\" style=\"\">41478_cyathophylloides</text></g></g></g></g></g></svg><div class=\"toyplot-behavior\"><script>(function()\n",
       "{\n",
       "var modules={};\n",
       "})();</script></div></div>"
      ]
     },
     "metadata": {},
     "output_type": "display_data"
    }
   ],
   "source": [
    "# root and draw the tree (more details on this later)\n",
    "rtre = tre.root(\"prz\", regex=True)\n",
    "rtre.draw(tip_labels_align=True);"
   ]
  },
  {
   "cell_type": "markdown",
   "id": "45b4573f",
   "metadata": {},
   "source": [
    "### Newick, Nexus, and other tree file formats \n",
    "Trees can be flexibly loaded from a range of text formats, including newick, nexus, and various types of extended newick (NHX) format. All of these formats use the basic newick format as a way of representing a phylogenetic tree in text, where relationships are stored as sets of nested parentheses. (We will discuss more details of newick format later.)\n",
    "\n",
    "Below are two examples of newick format, each representing the same tree topology and branch lengths, but with different types of meta-data stored as internal node labels. The first stores integer values, which are usually a type of *support* measurement, the second has string values, which are likely to be internal name labels."
   ]
  },
  {
   "cell_type": "code",
   "execution_count": 35,
   "id": "346e016f",
   "metadata": {},
   "outputs": [],
   "source": [
    "# newick with edge-lengths & int support values\n",
    "newick1 = \"((a:1,b:1)90:3,(c:3,(d:1, e:1)100:2)100:1)100;\"\n",
    "\n",
    "# newick with edge-lengths & string node-labels\n",
    "newick2 = \"((a:1,b:1)A:3,(c:3,(d:1, e:1)B:2)C:1)root;\""
   ]
  },
  {
   "cell_type": "markdown",
   "id": "20f5faab",
   "metadata": {},
   "source": [
    "`toytree.tree` will automatically detect whether to store the internal node labels as 'support' or 'name' attributes, or, if they are something else (rarely, but sometimes the case) this can be indicated to the function as an option. This function will return a `ToyTree` class object which we save as a variable, and then plot."
   ]
  },
  {
   "cell_type": "code",
   "execution_count": 38,
   "id": "a76b4828",
   "metadata": {
    "scrolled": true
   },
   "outputs": [
    {
     "data": {
      "text/html": [
       "<div class=\"toyplot\" id=\"tb66bb2b691674567ba78f0dec5f04802\" style=\"text-align:center\"><svg class=\"toyplot-canvas-Canvas\" xmlns:toyplot=\"http://www.sandia.gov/toyplot\" xmlns:xlink=\"http://www.w3.org/1999/xlink\" xmlns=\"http://www.w3.org/2000/svg\" width=\"255.0px\" height=\"275.0px\" viewBox=\"0 0 255.0 275.0\" preserveAspectRatio=\"xMidYMid meet\" style=\"background-color:transparent;border-color:#292724;border-style:none;border-width:1.0;fill:rgb(16.1%,15.3%,14.1%);fill-opacity:1.0;font-family:Helvetica;font-size:12px;opacity:1.0;stroke:rgb(16.1%,15.3%,14.1%);stroke-opacity:1.0;stroke-width:1.0\" id=\"tc6c3f581130b4cadb069cfe53f8e0ef7\"><g class=\"toyplot-coordinates-Cartesian\" id=\"t095b2ac5b085461f86dd481f4c27a4d5\"><clipPath id=\"t83546b9a43a0466593121aaa8709db9c\"><rect x=\"35.0\" y=\"35.0\" width=\"185.0\" height=\"205.0\"></rect></clipPath><g clip-path=\"url(#t83546b9a43a0466593121aaa8709db9c)\"><g class=\"toytree-mark-Toytree\" id=\"t344998240d6844bf9dfe1e551c8f53df\"><g class=\"toytree-Edges\" style=\"fill:none;stroke:rgba(16.1%,15.3%,14.1%,1.000);stroke-linecap:round;stroke-width:2.0\"><path d=\"M 145.2 194.9 L 145.2 214.1 L 173.8 214.1\" id=\"5,0\" style=\"stroke-width:nan\"></path><path d=\"M 145.2 194.9 L 145.2 175.8 L 173.8 175.8\" id=\"5,1\" style=\"stroke-width:nan\"></path><path d=\"M 87.9 108.8 L 87.9 137.5 L 173.8 137.5\" id=\"7,2\" style=\"stroke-width:nan\"></path><path d=\"M 145.2 80.1 L 145.2 99.2 L 173.8 99.2\" id=\"6,3\" style=\"stroke-width:nan\"></path><path d=\"M 145.2 80.1 L 145.2 60.9 L 173.8 60.9\" id=\"6,4\" style=\"stroke-width:nan\"></path><path d=\"M 59.2 151.9 L 59.2 194.9 L 145.2 194.9\" id=\"8,5\" style=\"stroke-width:nan\"></path><path d=\"M 87.9 108.8 L 87.9 80.1 L 145.2 80.1\" id=\"7,6\" style=\"stroke-width:nan\"></path><path d=\"M 59.2 151.9 L 59.2 108.8 L 87.9 108.8\" id=\"8,7\" style=\"stroke-width:nan\"></path></g><g class=\"toytree-Nodes\" style=\"fill:rgba(40.0%,76.1%,64.7%,1.000);stroke:#262626;stroke-width:1.0\"><g id=\"node-5\" transform=\"translate(145.151,194.922)\"><circle r=\"12.5\"></circle></g><g id=\"node-6\" transform=\"translate(145.151,80.078)\"><circle r=\"12.5\"></circle></g><g id=\"node-7\" transform=\"translate(87.876,108.789)\"><circle r=\"12.5\"></circle></g><g id=\"node-8\" transform=\"translate(59.238,151.855)\"><circle r=\"12.5\"></circle></g></g><g class=\"toytree-NodeLabels\" style=\"font-family:Helvetica;font-size:9.0px;font-weight:300;stroke:none;vertical-align:baseline;white-space:pre\"><g class=\"toytree-NodeLabel\" transform=\"translate(145.15119295100413,194.921875)\"><text x=\"-8.757\" y=\"2.2995\" style=\"fill:rgb(16.1%,15.3%,14.1%);fill-opacity:1.0\">90.0</text></g><g class=\"toytree-NodeLabel\" transform=\"translate(145.15119295100413,80.078125)\"><text x=\"-11.259\" y=\"2.2995\" style=\"fill:rgb(16.1%,15.3%,14.1%);fill-opacity:1.0\">100.0</text></g><g class=\"toytree-NodeLabel\" transform=\"translate(87.87571758243854,108.7890625)\"><text x=\"-11.259\" y=\"2.2995\" style=\"fill:rgb(16.1%,15.3%,14.1%);fill-opacity:1.0\">100.0</text></g><g class=\"toytree-NodeLabel\" transform=\"translate(59.237979898155736,151.85546875)\"><text x=\"-11.259\" y=\"2.2995\" style=\"fill:rgb(16.1%,15.3%,14.1%);fill-opacity:1.0\">100.0</text></g></g><g class=\"toytree-TipLabels\" style=\"fill:rgb(16.1%,15.3%,14.1%);fill-opacity:1.0;font-family:Helvetica;font-size:11.0px;font-weight:300;stroke:none;vertical-align:baseline;white-space:pre\"><g class=\"toytree-TipLabel\" transform=\"translate(173.78893063528693,214.0625)\"><text x=\"15.0\" y=\"2.8104999999999993\" style=\"\">a</text></g><g class=\"toytree-TipLabel\" transform=\"translate(173.78893063528693,175.78125)\"><text x=\"15.0\" y=\"2.8104999999999993\" style=\"\">b</text></g><g class=\"toytree-TipLabel\" transform=\"translate(173.78893063528693,137.5)\"><text x=\"15.0\" y=\"2.8104999999999993\" style=\"\">c</text></g><g class=\"toytree-TipLabel\" transform=\"translate(173.78893063528693,99.21875)\"><text x=\"15.0\" y=\"2.8104999999999993\" style=\"\">d</text></g><g class=\"toytree-TipLabel\" transform=\"translate(173.78893063528693,60.9375)\"><text x=\"15.0\" y=\"2.8104999999999993\" style=\"\">e</text></g></g></g></g></g></svg><div class=\"toyplot-behavior\"><script>(function()\n",
       "{\n",
       "var modules={};\n",
       "})();</script></div></div>"
      ]
     },
     "metadata": {},
     "output_type": "display_data"
    }
   ],
   "source": [
    "# parse newick, loading internal labels as support values\n",
    "tre1 = toytree.tree(newick1)\n",
    "tre1.draw(node_labels=\"support\", node_sizes=25);"
   ]
  },
  {
   "cell_type": "code",
   "execution_count": 39,
   "id": "e57451c9",
   "metadata": {},
   "outputs": [
    {
     "data": {
      "text/html": [
       "<div class=\"toyplot\" id=\"tae67e92950e24e47a0a331870049e0f9\" style=\"text-align:center\"><svg class=\"toyplot-canvas-Canvas\" xmlns:toyplot=\"http://www.sandia.gov/toyplot\" xmlns:xlink=\"http://www.w3.org/1999/xlink\" xmlns=\"http://www.w3.org/2000/svg\" width=\"255.0px\" height=\"275.0px\" viewBox=\"0 0 255.0 275.0\" preserveAspectRatio=\"xMidYMid meet\" style=\"background-color:transparent;border-color:#292724;border-style:none;border-width:1.0;fill:rgb(16.1%,15.3%,14.1%);fill-opacity:1.0;font-family:Helvetica;font-size:12px;opacity:1.0;stroke:rgb(16.1%,15.3%,14.1%);stroke-opacity:1.0;stroke-width:1.0\" id=\"td727b882c97d47e39bcfdc4affb37555\"><g class=\"toyplot-coordinates-Cartesian\" id=\"ted37c3e2190847919a6c4cbcf3e005c8\"><clipPath id=\"t711d8ae550bb463fb2d717bc1cbc5ea7\"><rect x=\"35.0\" y=\"35.0\" width=\"185.0\" height=\"205.0\"></rect></clipPath><g clip-path=\"url(#t711d8ae550bb463fb2d717bc1cbc5ea7)\"><g class=\"toytree-mark-Toytree\" id=\"tc9b7dbde54b24b0bbd94227f98e9316e\"><g class=\"toytree-Edges\" style=\"fill:none;stroke:rgba(16.1%,15.3%,14.1%,1.000);stroke-linecap:round;stroke-width:2.0\"><path d=\"M 145.2 194.9 L 145.2 214.1 L 173.8 214.1\" id=\"5,0\" style=\"stroke-width:nan\"></path><path d=\"M 145.2 194.9 L 145.2 175.8 L 173.8 175.8\" id=\"5,1\" style=\"stroke-width:nan\"></path><path d=\"M 87.9 108.8 L 87.9 137.5 L 173.8 137.5\" id=\"7,2\" style=\"stroke-width:nan\"></path><path d=\"M 145.2 80.1 L 145.2 99.2 L 173.8 99.2\" id=\"6,3\" style=\"stroke-width:nan\"></path><path d=\"M 145.2 80.1 L 145.2 60.9 L 173.8 60.9\" id=\"6,4\" style=\"stroke-width:nan\"></path><path d=\"M 59.2 151.9 L 59.2 194.9 L 145.2 194.9\" id=\"8,5\" style=\"stroke-width:nan\"></path><path d=\"M 87.9 108.8 L 87.9 80.1 L 145.2 80.1\" id=\"7,6\" style=\"stroke-width:nan\"></path><path d=\"M 59.2 151.9 L 59.2 108.8 L 87.9 108.8\" id=\"8,7\" style=\"stroke-width:nan\"></path></g><g class=\"toytree-Nodes\" style=\"fill:rgba(40.0%,76.1%,64.7%,1.000);stroke:#262626;stroke-width:1.0\"><g id=\"node-5\" transform=\"translate(145.151,194.922)\"><circle r=\"12.5\"></circle></g><g id=\"node-6\" transform=\"translate(145.151,80.078)\"><circle r=\"12.5\"></circle></g><g id=\"node-7\" transform=\"translate(87.876,108.789)\"><circle r=\"12.5\"></circle></g><g id=\"node-8\" transform=\"translate(59.238,151.855)\"><circle r=\"12.5\"></circle></g></g><g class=\"toytree-NodeLabels\" style=\"font-family:Helvetica;font-size:9.0px;font-weight:300;stroke:none;vertical-align:baseline;white-space:pre\"><g class=\"toytree-NodeLabel\" transform=\"translate(145.15119295100413,194.921875)\"><text x=\"-3.0015\" y=\"2.2995\" style=\"fill:rgb(16.1%,15.3%,14.1%);fill-opacity:1.0\">A</text></g><g class=\"toytree-NodeLabel\" transform=\"translate(145.15119295100413,80.078125)\"><text x=\"-3.0015\" y=\"2.2995\" style=\"fill:rgb(16.1%,15.3%,14.1%);fill-opacity:1.0\">B</text></g><g class=\"toytree-NodeLabel\" transform=\"translate(87.87571758243854,108.7890625)\"><text x=\"-3.249\" y=\"2.2995\" style=\"fill:rgb(16.1%,15.3%,14.1%);fill-opacity:1.0\">C</text></g><g class=\"toytree-NodeLabel\" transform=\"translate(59.237979898155736,151.85546875)\"><text x=\"-7.7535\" y=\"2.2995\" style=\"fill:rgb(16.1%,15.3%,14.1%);fill-opacity:1.0\">root</text></g></g><g class=\"toytree-TipLabels\" style=\"fill:rgb(16.1%,15.3%,14.1%);fill-opacity:1.0;font-family:Helvetica;font-size:11.0px;font-weight:300;stroke:none;vertical-align:baseline;white-space:pre\"><g class=\"toytree-TipLabel\" transform=\"translate(173.78893063528693,214.0625)\"><text x=\"15.0\" y=\"2.8104999999999993\" style=\"\">a</text></g><g class=\"toytree-TipLabel\" transform=\"translate(173.78893063528693,175.78125)\"><text x=\"15.0\" y=\"2.8104999999999993\" style=\"\">b</text></g><g class=\"toytree-TipLabel\" transform=\"translate(173.78893063528693,137.5)\"><text x=\"15.0\" y=\"2.8104999999999993\" style=\"\">c</text></g><g class=\"toytree-TipLabel\" transform=\"translate(173.78893063528693,99.21875)\"><text x=\"15.0\" y=\"2.8104999999999993\" style=\"\">d</text></g><g class=\"toytree-TipLabel\" transform=\"translate(173.78893063528693,60.9375)\"><text x=\"15.0\" y=\"2.8104999999999993\" style=\"\">e</text></g></g></g></g></g></svg><div class=\"toyplot-behavior\"><script>(function()\n",
       "{\n",
       "var modules={};\n",
       "})();</script></div></div>"
      ]
     },
     "metadata": {},
     "output_type": "display_data"
    }
   ],
   "source": [
    "# parse newick, loading internal labels as name strings\n",
    "tre2 = toytree.tree(newick2)\n",
    "tre2.draw(node_labels=\"name\", node_sizes=25);"
   ]
  },
  {
   "cell_type": "markdown",
   "id": "13ab525e",
   "metadata": {},
   "source": [
    "### Tree functions and attributes\n",
    "\n",
    "The `toytree` package is designed to be user-friendly, and to be used interactively. One aspect of this design is to make it easy to learn about objects using tab-completion in a jupyter-notebook. This will show you all of the possible functions or attributes that can be accessed from a particular object. Let's try it with a ToyTree object.\n",
    "\n",
    "Start by typing in the cell below the name of one of our tree variables from above (`rtre`) followed by a dot (`rtre.`) and then pressing `<tab>`. You should see a small window pop-up listing the many attributes and functions available."
   ]
  },
  {
   "cell_type": "code",
   "execution_count": 42,
   "id": "4baec2a3",
   "metadata": {},
   "outputs": [],
   "source": [
    "# try out tab-completion on a ToyTree object here.\n"
   ]
  },
  {
   "cell_type": "markdown",
   "id": "5203e49d",
   "metadata": {},
   "source": [
    "### Accessing tree information\n",
    "Many of the attributes and functions of ToyTrees are used to access information about the tree itself, such as how many tips or nodes it has, whether it is rooted, which tips are descended from which nodes, and what their names are, etc.  A few examples are shown below.\n"
   ]
  },
  {
   "cell_type": "code",
   "execution_count": 43,
   "id": "58603eb1",
   "metadata": {},
   "outputs": [
    {
     "data": {
      "text/plain": [
       "13"
      ]
     },
     "execution_count": 43,
     "metadata": {},
     "output_type": "execute_result"
    }
   ],
   "source": [
    "rtre.ntips"
   ]
  },
  {
   "cell_type": "code",
   "execution_count": 44,
   "id": "977ef298",
   "metadata": {},
   "outputs": [
    {
     "data": {
      "text/plain": [
       "25"
      ]
     },
     "execution_count": 44,
     "metadata": {},
     "output_type": "execute_result"
    }
   ],
   "source": [
    "rtre.nnodes"
   ]
  },
  {
   "cell_type": "code",
   "execution_count": 45,
   "id": "7a45ce57",
   "metadata": {},
   "outputs": [
    {
     "data": {
      "text/plain": [
       "(False, True)"
      ]
     },
     "execution_count": 45,
     "metadata": {},
     "output_type": "execute_result"
    }
   ],
   "source": [
    "tre.is_rooted(), rtre.is_rooted()"
   ]
  },
  {
   "cell_type": "code",
   "execution_count": 46,
   "id": "5a59abe7",
   "metadata": {},
   "outputs": [
    {
     "data": {
      "text/plain": [
       "['32082_przewalskii',\n",
       " '33588_przewalskii',\n",
       " '33413_thamno',\n",
       " '30556_thamno',\n",
       " '40578_rex',\n",
       " '35855_rex',\n",
       " '35236_rex',\n",
       " '39618_rex',\n",
       " '38362_rex',\n",
       " '29154_superba',\n",
       " '30686_cyathophylla',\n",
       " '41954_cyathophylloides',\n",
       " '41478_cyathophylloides']"
      ]
     },
     "execution_count": 46,
     "metadata": {},
     "output_type": "execute_result"
    }
   ],
   "source": [
    "rtre.get_tip_labels()"
   ]
  },
  {
   "cell_type": "code",
   "execution_count": 48,
   "id": "5e38a885",
   "metadata": {},
   "outputs": [
    {
     "data": {
      "text/html": [
       "<div>\n",
       "<style scoped>\n",
       "    .dataframe tbody tr th:only-of-type {\n",
       "        vertical-align: middle;\n",
       "    }\n",
       "\n",
       "    .dataframe tbody tr th {\n",
       "        vertical-align: top;\n",
       "    }\n",
       "\n",
       "    .dataframe thead th {\n",
       "        text-align: right;\n",
       "    }\n",
       "</style>\n",
       "<table border=\"1\" class=\"dataframe\">\n",
       "  <thead>\n",
       "    <tr style=\"text-align: right;\">\n",
       "      <th></th>\n",
       "      <th>child</th>\n",
       "      <th>parent</th>\n",
       "    </tr>\n",
       "  </thead>\n",
       "  <tbody>\n",
       "    <tr>\n",
       "      <th>0</th>\n",
       "      <td>0</td>\n",
       "      <td>13</td>\n",
       "    </tr>\n",
       "    <tr>\n",
       "      <th>1</th>\n",
       "      <td>1</td>\n",
       "      <td>13</td>\n",
       "    </tr>\n",
       "    <tr>\n",
       "      <th>2</th>\n",
       "      <td>2</td>\n",
       "      <td>19</td>\n",
       "    </tr>\n",
       "    <tr>\n",
       "      <th>3</th>\n",
       "      <td>3</td>\n",
       "      <td>18</td>\n",
       "    </tr>\n",
       "    <tr>\n",
       "      <th>4</th>\n",
       "      <td>4</td>\n",
       "      <td>14</td>\n",
       "    </tr>\n",
       "    <tr>\n",
       "      <th>5</th>\n",
       "      <td>5</td>\n",
       "      <td>14</td>\n",
       "    </tr>\n",
       "    <tr>\n",
       "      <th>6</th>\n",
       "      <td>6</td>\n",
       "      <td>16</td>\n",
       "    </tr>\n",
       "    <tr>\n",
       "      <th>7</th>\n",
       "      <td>7</td>\n",
       "      <td>15</td>\n",
       "    </tr>\n",
       "    <tr>\n",
       "      <th>8</th>\n",
       "      <td>8</td>\n",
       "      <td>15</td>\n",
       "    </tr>\n",
       "    <tr>\n",
       "      <th>9</th>\n",
       "      <td>9</td>\n",
       "      <td>20</td>\n",
       "    </tr>\n",
       "    <tr>\n",
       "      <th>10</th>\n",
       "      <td>10</td>\n",
       "      <td>20</td>\n",
       "    </tr>\n",
       "    <tr>\n",
       "      <th>11</th>\n",
       "      <td>11</td>\n",
       "      <td>21</td>\n",
       "    </tr>\n",
       "    <tr>\n",
       "      <th>12</th>\n",
       "      <td>12</td>\n",
       "      <td>21</td>\n",
       "    </tr>\n",
       "    <tr>\n",
       "      <th>13</th>\n",
       "      <td>13</td>\n",
       "      <td>24</td>\n",
       "    </tr>\n",
       "    <tr>\n",
       "      <th>14</th>\n",
       "      <td>14</td>\n",
       "      <td>17</td>\n",
       "    </tr>\n",
       "    <tr>\n",
       "      <th>15</th>\n",
       "      <td>15</td>\n",
       "      <td>16</td>\n",
       "    </tr>\n",
       "    <tr>\n",
       "      <th>16</th>\n",
       "      <td>16</td>\n",
       "      <td>17</td>\n",
       "    </tr>\n",
       "    <tr>\n",
       "      <th>17</th>\n",
       "      <td>17</td>\n",
       "      <td>18</td>\n",
       "    </tr>\n",
       "    <tr>\n",
       "      <th>18</th>\n",
       "      <td>18</td>\n",
       "      <td>19</td>\n",
       "    </tr>\n",
       "    <tr>\n",
       "      <th>19</th>\n",
       "      <td>19</td>\n",
       "      <td>23</td>\n",
       "    </tr>\n",
       "    <tr>\n",
       "      <th>20</th>\n",
       "      <td>20</td>\n",
       "      <td>22</td>\n",
       "    </tr>\n",
       "    <tr>\n",
       "      <th>21</th>\n",
       "      <td>21</td>\n",
       "      <td>22</td>\n",
       "    </tr>\n",
       "    <tr>\n",
       "      <th>22</th>\n",
       "      <td>22</td>\n",
       "      <td>23</td>\n",
       "    </tr>\n",
       "    <tr>\n",
       "      <th>23</th>\n",
       "      <td>23</td>\n",
       "      <td>24</td>\n",
       "    </tr>\n",
       "  </tbody>\n",
       "</table>\n",
       "</div>"
      ],
      "text/plain": [
       "    child  parent\n",
       "0       0      13\n",
       "1       1      13\n",
       "2       2      19\n",
       "3       3      18\n",
       "4       4      14\n",
       "5       5      14\n",
       "6       6      16\n",
       "7       7      15\n",
       "8       8      15\n",
       "9       9      20\n",
       "10     10      20\n",
       "11     11      21\n",
       "12     12      21\n",
       "13     13      24\n",
       "14     14      17\n",
       "15     15      16\n",
       "16     16      17\n",
       "17     17      18\n",
       "18     18      19\n",
       "19     19      23\n",
       "20     20      22\n",
       "21     21      22\n",
       "22     22      23\n",
       "23     23      24"
      ]
     },
     "execution_count": 48,
     "metadata": {},
     "output_type": "execute_result"
    }
   ],
   "source": [
    "rtre.get_edges()"
   ]
  },
  {
   "cell_type": "markdown",
   "id": "a1f18100",
   "metadata": {},
   "source": [
    "### Drawing trees: basics\n",
    "\n",
    "When you call `.draw()` on a tree it returns **three** objects, a `Canvas`, a `Cartesian` axes object, and a `Mark`. This follows the design principle of the `toyplot` plotting library on which toytree is based. The Canvas describes the plot space, and the Cartesian coordinates define how to project points onto that space. One canvas can have multiple cartesian coordinates, and each cartesian object can have multiple Marks. This will be demonstrated more later.\n",
    "\n",
    "As you will see below, I end many toytree drawing commands with a semicolon (`;`), this simply hides the printed return statement showing that the Canvas and Cartesian objects were returned. The Canvas will automatically render in the cell below the plot even if you do not save the return Canvas as a variable. Below I do not use a semicolon and so the three returned objects are shown as text (e.g., `<toyplot.canvas.Canvas...>`), and the plot is displayed. "
   ]
  },
  {
   "cell_type": "code",
   "execution_count": 49,
   "id": "a7e09373",
   "metadata": {},
   "outputs": [
    {
     "data": {
      "text/plain": [
       "(<toyplot.canvas.Canvas at 0x7f241b997370>,\n",
       " <toyplot.coordinates.Cartesian at 0x7f241b9973a0>,\n",
       " <toytree.core.drawing.toytree_mark.ToytreeMark at 0x7f241c35bbb0>)"
      ]
     },
     "execution_count": 49,
     "metadata": {},
     "output_type": "execute_result"
    },
    {
     "data": {
      "text/html": [
       "<div class=\"toyplot\" id=\"t917b5a93fb3a402daf064f856a4f4b34\" style=\"text-align:center\"><svg class=\"toyplot-canvas-Canvas\" xmlns:toyplot=\"http://www.sandia.gov/toyplot\" xmlns:xlink=\"http://www.w3.org/1999/xlink\" xmlns=\"http://www.w3.org/2000/svg\" width=\"360.0px\" height=\"275.0px\" viewBox=\"0 0 360.0 275.0\" preserveAspectRatio=\"xMidYMid meet\" style=\"background-color:transparent;border-color:#292724;border-style:none;border-width:1.0;fill:rgb(16.1%,15.3%,14.1%);fill-opacity:1.0;font-family:Helvetica;font-size:12px;opacity:1.0;stroke:rgb(16.1%,15.3%,14.1%);stroke-opacity:1.0;stroke-width:1.0\" id=\"t426fd1aa160342768566bbcc5a646345\"><g class=\"toyplot-coordinates-Cartesian\" id=\"td8c699d65266438fbebd78a9381c2f6e\"><clipPath id=\"t80386c2e6ffb420680b8bf4863bbacc3\"><rect x=\"35.0\" y=\"35.0\" width=\"290.0\" height=\"205.0\"></rect></clipPath><g clip-path=\"url(#t80386c2e6ffb420680b8bf4863bbacc3)\"><g class=\"toytree-mark-Toytree\" id=\"t8f47d529bfdd426ebd0260a57d652eff\"><g class=\"toytree-Edges\" style=\"fill:none;stroke:rgba(16.1%,15.3%,14.1%,1.000);stroke-linecap:round;stroke-width:2.0\"><path d=\"M 122.5 212.1 L 122.5 218.9 L 133.0 218.9\" id=\"13,0\" style=\"stroke-width:nan\"></path><path d=\"M 122.5 212.1 L 122.5 205.3 L 132.5 205.3\" id=\"13,1\" style=\"stroke-width:nan\"></path><path d=\"M 144.3 176.1 L 144.3 191.7 L 167.1 191.7\" id=\"19,2\" style=\"stroke-width:nan\"></path><path d=\"M 148.5 160.4 L 148.5 178.2 L 174.9 178.2\" id=\"18,3\" style=\"stroke-width:nan\"></path><path d=\"M 160.6 157.8 L 160.6 164.6 L 174.2 164.6\" id=\"14,4\" style=\"stroke-width:nan\"></path><path d=\"M 160.6 157.8 L 160.6 151.1 L 174.4 151.1\" id=\"14,5\" style=\"stroke-width:nan\"></path><path d=\"M 154.6 127.3 L 154.6 137.5 L 178.1 137.5\" id=\"16,6\" style=\"stroke-width:nan\"></path><path d=\"M 179.6 117.2 L 179.6 123.9 L 183.5 123.9\" id=\"15,7\" style=\"stroke-width:nan\"></path><path d=\"M 179.6 117.2 L 179.6 110.4 L 184.0 110.4\" id=\"15,8\" style=\"stroke-width:nan\"></path><path d=\"M 144.1 90.0 L 144.1 96.8 L 169.8 96.8\" id=\"20,9\" style=\"stroke-width:nan\"></path><path d=\"M 144.1 90.0 L 144.1 83.3 L 171.2 83.3\" id=\"20,10\" style=\"stroke-width:nan\"></path><path d=\"M 172.6 62.9 L 172.6 69.7 L 172.9 69.7\" id=\"21,11\" style=\"stroke-width:nan\"></path><path d=\"M 172.6 62.9 L 172.6 56.1 L 172.8 56.1\" id=\"21,12\" style=\"stroke-width:nan\"></path><path d=\"M 50.0 169.2 L 50.0 212.1 L 122.5 212.1\" id=\"24,13\" style=\"stroke-width:nan\"></path><path d=\"M 151.6 142.6 L 151.6 157.8 L 160.6 157.8\" id=\"17,14\" style=\"stroke-width:nan\"></path><path d=\"M 154.6 127.3 L 154.6 117.2 L 179.6 117.2\" id=\"16,15\" style=\"stroke-width:nan\"></path><path d=\"M 151.6 142.6 L 151.6 127.3 L 154.6 127.3\" id=\"17,16\" style=\"stroke-width:nan\"></path><path d=\"M 148.5 160.4 L 148.5 142.6 L 151.6 142.6\" id=\"18,17\" style=\"stroke-width:nan\"></path><path d=\"M 144.3 176.1 L 144.3 160.4 L 148.5 160.4\" id=\"19,18\" style=\"stroke-width:nan\"></path><path d=\"M 122.5 126.3 L 122.5 176.1 L 144.3 176.1\" id=\"23,19\" style=\"stroke-width:nan\"></path><path d=\"M 134.5 76.5 L 134.5 90.0 L 144.1 90.0\" id=\"22,20\" style=\"stroke-width:nan\"></path><path d=\"M 134.5 76.5 L 134.5 62.9 L 172.6 62.9\" id=\"22,21\" style=\"stroke-width:nan\"></path><path d=\"M 122.5 126.3 L 122.5 76.5 L 134.5 76.5\" id=\"23,22\" style=\"stroke-width:nan\"></path><path d=\"M 50.0 169.2 L 50.0 126.3 L 122.5 126.3\" id=\"24,23\" style=\"stroke-width:nan\"></path></g><g class=\"toytree-TipLabels\" style=\"fill:rgb(16.1%,15.3%,14.1%);fill-opacity:1.0;font-family:Helvetica;font-size:11.0px;font-weight:300;stroke:none;vertical-align:baseline;white-space:pre\"><g class=\"toytree-TipLabel\" transform=\"translate(132.9802642596811,218.86291179596174)\"><text x=\"15.0\" y=\"2.8104999999999993\" style=\"\">32082_przewalskii</text></g><g class=\"toytree-TipLabel\" transform=\"translate(132.4874691209184,205.30242649663478)\"><text x=\"15.0\" y=\"2.8104999999999993\" style=\"\">33588_przewalskii</text></g><g class=\"toytree-TipLabel\" transform=\"translate(167.1238147474754,191.74194119730782)\"><text x=\"15.0\" y=\"2.8104999999999993\" style=\"\">33413_thamno</text></g><g class=\"toytree-TipLabel\" transform=\"translate(174.8533938273442,178.18145589798087)\"><text x=\"15.0\" y=\"2.8104999999999993\" style=\"\">30556_thamno</text></g><g class=\"toytree-TipLabel\" transform=\"translate(174.187465409827,164.6209705986539)\"><text x=\"15.0\" y=\"2.8104999999999993\" style=\"\">40578_rex</text></g><g class=\"toytree-TipLabel\" transform=\"translate(174.37165832150748,151.06048529932696)\"><text x=\"15.0\" y=\"2.8104999999999993\" style=\"\">35855_rex</text></g><g class=\"toytree-TipLabel\" transform=\"translate(178.06798252197876,137.5)\"><text x=\"15.0\" y=\"2.8104999999999993\" style=\"\">35236_rex</text></g><g class=\"toytree-TipLabel\" transform=\"translate(183.4521337835551,123.93951470067304)\"><text x=\"15.0\" y=\"2.8104999999999993\" style=\"\">39618_rex</text></g><g class=\"toytree-TipLabel\" transform=\"translate(183.97798848197198,110.37902940134609)\"><text x=\"15.0\" y=\"2.8104999999999993\" style=\"\">38362_rex</text></g><g class=\"toytree-TipLabel\" transform=\"translate(169.7823825166793,96.81854410201913)\"><text x=\"15.0\" y=\"2.8104999999999993\" style=\"\">29154_superba</text></g><g class=\"toytree-TipLabel\" transform=\"translate(171.22564525983896,83.25805880269218)\"><text x=\"15.0\" y=\"2.8104999999999993\" style=\"\">30686_cyathophylla</text></g><g class=\"toytree-TipLabel\" transform=\"translate(172.92196698453745,69.6975735033652)\"><text x=\"15.0\" y=\"2.8104999999999993\" style=\"\">41954_cyathophylloides</text></g><g class=\"toytree-TipLabel\" transform=\"translate(172.77622483402448,56.13708820403825)\"><text x=\"15.0\" y=\"2.8104999999999993\" style=\"\">41478_cyathophylloides</text></g></g></g></g></g></svg><div class=\"toyplot-behavior\"><script>(function()\n",
       "{\n",
       "var modules={};\n",
       "})();</script></div></div>"
      ]
     },
     "metadata": {},
     "output_type": "display_data"
    }
   ],
   "source": [
    "rtre.draw()"
   ]
  },
  {
   "cell_type": "code",
   "execution_count": 50,
   "id": "240b142f",
   "metadata": {},
   "outputs": [
    {
     "data": {
      "text/html": [
       "<div class=\"toyplot\" id=\"tc9702bcb0f174b7fa98fad388cdeb9f5\" style=\"text-align:center\"><svg class=\"toyplot-canvas-Canvas\" xmlns:toyplot=\"http://www.sandia.gov/toyplot\" xmlns:xlink=\"http://www.w3.org/1999/xlink\" xmlns=\"http://www.w3.org/2000/svg\" width=\"360.0px\" height=\"275.0px\" viewBox=\"0 0 360.0 275.0\" preserveAspectRatio=\"xMidYMid meet\" style=\"background-color:transparent;border-color:#292724;border-style:none;border-width:1.0;fill:rgb(16.1%,15.3%,14.1%);fill-opacity:1.0;font-family:Helvetica;font-size:12px;opacity:1.0;stroke:rgb(16.1%,15.3%,14.1%);stroke-opacity:1.0;stroke-width:1.0\" id=\"taad09f9d2caf484da66c354a15c6ea9a\"><g class=\"toyplot-coordinates-Cartesian\" id=\"tf95d2212067b42ca95ae1c30899eadcf\"><clipPath id=\"t1b256a3bbb2240b68a1cdad5b13aab13\"><rect x=\"35.0\" y=\"35.0\" width=\"290.0\" height=\"205.0\"></rect></clipPath><g clip-path=\"url(#t1b256a3bbb2240b68a1cdad5b13aab13)\"><g class=\"toytree-mark-Toytree\" id=\"te098518839f8430daa201eb06d4eff5a\"><g class=\"toytree-Edges\" style=\"fill:none;stroke:rgba(16.1%,15.3%,14.1%,1.000);stroke-linecap:round;stroke-width:2.0\"><path d=\"M 122.5 212.1 L 122.5 218.9 L 133.0 218.9\" id=\"13,0\" style=\"stroke-width:nan\"></path><path d=\"M 122.5 212.1 L 122.5 205.3 L 132.5 205.3\" id=\"13,1\" style=\"stroke-width:nan\"></path><path d=\"M 144.3 176.1 L 144.3 191.7 L 167.1 191.7\" id=\"19,2\" style=\"stroke-width:nan\"></path><path d=\"M 148.5 160.4 L 148.5 178.2 L 174.9 178.2\" id=\"18,3\" style=\"stroke-width:nan\"></path><path d=\"M 160.6 157.8 L 160.6 164.6 L 174.2 164.6\" id=\"14,4\" style=\"stroke-width:nan\"></path><path d=\"M 160.6 157.8 L 160.6 151.1 L 174.4 151.1\" id=\"14,5\" style=\"stroke-width:nan\"></path><path d=\"M 154.6 127.3 L 154.6 137.5 L 178.1 137.5\" id=\"16,6\" style=\"stroke-width:nan\"></path><path d=\"M 179.6 117.2 L 179.6 123.9 L 183.5 123.9\" id=\"15,7\" style=\"stroke-width:nan\"></path><path d=\"M 179.6 117.2 L 179.6 110.4 L 184.0 110.4\" id=\"15,8\" style=\"stroke-width:nan\"></path><path d=\"M 144.1 90.0 L 144.1 96.8 L 169.8 96.8\" id=\"20,9\" style=\"stroke-width:nan\"></path><path d=\"M 144.1 90.0 L 144.1 83.3 L 171.2 83.3\" id=\"20,10\" style=\"stroke-width:nan\"></path><path d=\"M 172.6 62.9 L 172.6 69.7 L 172.9 69.7\" id=\"21,11\" style=\"stroke-width:nan\"></path><path d=\"M 172.6 62.9 L 172.6 56.1 L 172.8 56.1\" id=\"21,12\" style=\"stroke-width:nan\"></path><path d=\"M 50.0 169.2 L 50.0 212.1 L 122.5 212.1\" id=\"24,13\" style=\"stroke-width:nan\"></path><path d=\"M 151.6 142.6 L 151.6 157.8 L 160.6 157.8\" id=\"17,14\" style=\"stroke-width:nan\"></path><path d=\"M 154.6 127.3 L 154.6 117.2 L 179.6 117.2\" id=\"16,15\" style=\"stroke-width:nan\"></path><path d=\"M 151.6 142.6 L 151.6 127.3 L 154.6 127.3\" id=\"17,16\" style=\"stroke-width:nan\"></path><path d=\"M 148.5 160.4 L 148.5 142.6 L 151.6 142.6\" id=\"18,17\" style=\"stroke-width:nan\"></path><path d=\"M 144.3 176.1 L 144.3 160.4 L 148.5 160.4\" id=\"19,18\" style=\"stroke-width:nan\"></path><path d=\"M 122.5 126.3 L 122.5 176.1 L 144.3 176.1\" id=\"23,19\" style=\"stroke-width:nan\"></path><path d=\"M 134.5 76.5 L 134.5 90.0 L 144.1 90.0\" id=\"22,20\" style=\"stroke-width:nan\"></path><path d=\"M 134.5 76.5 L 134.5 62.9 L 172.6 62.9\" id=\"22,21\" style=\"stroke-width:nan\"></path><path d=\"M 122.5 126.3 L 122.5 76.5 L 134.5 76.5\" id=\"23,22\" style=\"stroke-width:nan\"></path><path d=\"M 50.0 169.2 L 50.0 126.3 L 122.5 126.3\" id=\"24,23\" style=\"stroke-width:nan\"></path></g><g class=\"toytree-TipLabels\" style=\"fill:rgb(16.1%,15.3%,14.1%);fill-opacity:1.0;font-family:Helvetica;font-size:11.0px;font-weight:300;stroke:none;vertical-align:baseline;white-space:pre\"><g class=\"toytree-TipLabel\" transform=\"translate(132.9802642596811,218.86291179596174)\"><text x=\"15.0\" y=\"2.8104999999999993\" style=\"\">32082_przewalskii</text></g><g class=\"toytree-TipLabel\" transform=\"translate(132.4874691209184,205.30242649663478)\"><text x=\"15.0\" y=\"2.8104999999999993\" style=\"\">33588_przewalskii</text></g><g class=\"toytree-TipLabel\" transform=\"translate(167.1238147474754,191.74194119730782)\"><text x=\"15.0\" y=\"2.8104999999999993\" style=\"\">33413_thamno</text></g><g class=\"toytree-TipLabel\" transform=\"translate(174.8533938273442,178.18145589798087)\"><text x=\"15.0\" y=\"2.8104999999999993\" style=\"\">30556_thamno</text></g><g class=\"toytree-TipLabel\" transform=\"translate(174.187465409827,164.6209705986539)\"><text x=\"15.0\" y=\"2.8104999999999993\" style=\"\">40578_rex</text></g><g class=\"toytree-TipLabel\" transform=\"translate(174.37165832150748,151.06048529932696)\"><text x=\"15.0\" y=\"2.8104999999999993\" style=\"\">35855_rex</text></g><g class=\"toytree-TipLabel\" transform=\"translate(178.06798252197876,137.5)\"><text x=\"15.0\" y=\"2.8104999999999993\" style=\"\">35236_rex</text></g><g class=\"toytree-TipLabel\" transform=\"translate(183.4521337835551,123.93951470067304)\"><text x=\"15.0\" y=\"2.8104999999999993\" style=\"\">39618_rex</text></g><g class=\"toytree-TipLabel\" transform=\"translate(183.97798848197198,110.37902940134609)\"><text x=\"15.0\" y=\"2.8104999999999993\" style=\"\">38362_rex</text></g><g class=\"toytree-TipLabel\" transform=\"translate(169.7823825166793,96.81854410201913)\"><text x=\"15.0\" y=\"2.8104999999999993\" style=\"\">29154_superba</text></g><g class=\"toytree-TipLabel\" transform=\"translate(171.22564525983896,83.25805880269218)\"><text x=\"15.0\" y=\"2.8104999999999993\" style=\"\">30686_cyathophylla</text></g><g class=\"toytree-TipLabel\" transform=\"translate(172.92196698453745,69.6975735033652)\"><text x=\"15.0\" y=\"2.8104999999999993\" style=\"\">41954_cyathophylloides</text></g><g class=\"toytree-TipLabel\" transform=\"translate(172.77622483402448,56.13708820403825)\"><text x=\"15.0\" y=\"2.8104999999999993\" style=\"\">41478_cyathophylloides</text></g></g></g></g></g></svg><div class=\"toyplot-behavior\"><script>(function()\n",
       "{\n",
       "var modules={};\n",
       "})();</script></div></div>"
      ]
     },
     "metadata": {},
     "output_type": "display_data"
    }
   ],
   "source": [
    "# the semicolon hides the returned text of the Canvas and Cartesian objects\n",
    "rtre.draw();"
   ]
  },
  {
   "cell_type": "code",
   "execution_count": 51,
   "id": "d7c6d400",
   "metadata": {},
   "outputs": [
    {
     "data": {
      "text/html": [
       "<div class=\"toyplot\" id=\"t8a512e401dbb435eb654b6759f97480e\" style=\"text-align:center\"><svg class=\"toyplot-canvas-Canvas\" xmlns:toyplot=\"http://www.sandia.gov/toyplot\" xmlns:xlink=\"http://www.w3.org/1999/xlink\" xmlns=\"http://www.w3.org/2000/svg\" width=\"360.0px\" height=\"275.0px\" viewBox=\"0 0 360.0 275.0\" preserveAspectRatio=\"xMidYMid meet\" style=\"background-color:transparent;border-color:#292724;border-style:none;border-width:1.0;fill:rgb(16.1%,15.3%,14.1%);fill-opacity:1.0;font-family:Helvetica;font-size:12px;opacity:1.0;stroke:rgb(16.1%,15.3%,14.1%);stroke-opacity:1.0;stroke-width:1.0\" id=\"tfa6c8b9eb20c43cd9f2ece550f3dfa9a\"><g class=\"toyplot-coordinates-Cartesian\" id=\"t51099131d62d4dc2bfaaabc19a1d730e\"><clipPath id=\"tcf169fc810d046edbda941843d6c9ce0\"><rect x=\"35.0\" y=\"35.0\" width=\"290.0\" height=\"205.0\"></rect></clipPath><g clip-path=\"url(#tcf169fc810d046edbda941843d6c9ce0)\"><g class=\"toytree-mark-Toytree\" id=\"te11dd2b7790d4b4a8d41158bbd00976b\"><g class=\"toytree-Edges\" style=\"fill:none;stroke:rgba(16.1%,15.3%,14.1%,1.000);stroke-linecap:round;stroke-width:2.0\"><path d=\"M 122.5 212.1 L 122.5 218.9 L 133.0 218.9\" id=\"13,0\" style=\"stroke-width:nan\"></path><path d=\"M 122.5 212.1 L 122.5 205.3 L 132.5 205.3\" id=\"13,1\" style=\"stroke-width:nan\"></path><path d=\"M 144.3 176.1 L 144.3 191.7 L 167.1 191.7\" id=\"19,2\" style=\"stroke-width:nan\"></path><path d=\"M 148.5 160.4 L 148.5 178.2 L 174.9 178.2\" id=\"18,3\" style=\"stroke-width:nan\"></path><path d=\"M 160.6 157.8 L 160.6 164.6 L 174.2 164.6\" id=\"14,4\" style=\"stroke-width:nan\"></path><path d=\"M 160.6 157.8 L 160.6 151.1 L 174.4 151.1\" id=\"14,5\" style=\"stroke-width:nan\"></path><path d=\"M 154.6 127.3 L 154.6 137.5 L 178.1 137.5\" id=\"16,6\" style=\"stroke-width:nan\"></path><path d=\"M 179.6 117.2 L 179.6 123.9 L 183.5 123.9\" id=\"15,7\" style=\"stroke-width:nan\"></path><path d=\"M 179.6 117.2 L 179.6 110.4 L 184.0 110.4\" id=\"15,8\" style=\"stroke-width:nan\"></path><path d=\"M 144.1 90.0 L 144.1 96.8 L 169.8 96.8\" id=\"20,9\" style=\"stroke-width:nan\"></path><path d=\"M 144.1 90.0 L 144.1 83.3 L 171.2 83.3\" id=\"20,10\" style=\"stroke-width:nan\"></path><path d=\"M 172.6 62.9 L 172.6 69.7 L 172.9 69.7\" id=\"21,11\" style=\"stroke-width:nan\"></path><path d=\"M 172.6 62.9 L 172.6 56.1 L 172.8 56.1\" id=\"21,12\" style=\"stroke-width:nan\"></path><path d=\"M 50.0 169.2 L 50.0 212.1 L 122.5 212.1\" id=\"24,13\" style=\"stroke-width:nan\"></path><path d=\"M 151.6 142.6 L 151.6 157.8 L 160.6 157.8\" id=\"17,14\" style=\"stroke-width:nan\"></path><path d=\"M 154.6 127.3 L 154.6 117.2 L 179.6 117.2\" id=\"16,15\" style=\"stroke-width:nan\"></path><path d=\"M 151.6 142.6 L 151.6 127.3 L 154.6 127.3\" id=\"17,16\" style=\"stroke-width:nan\"></path><path d=\"M 148.5 160.4 L 148.5 142.6 L 151.6 142.6\" id=\"18,17\" style=\"stroke-width:nan\"></path><path d=\"M 144.3 176.1 L 144.3 160.4 L 148.5 160.4\" id=\"19,18\" style=\"stroke-width:nan\"></path><path d=\"M 122.5 126.3 L 122.5 176.1 L 144.3 176.1\" id=\"23,19\" style=\"stroke-width:nan\"></path><path d=\"M 134.5 76.5 L 134.5 90.0 L 144.1 90.0\" id=\"22,20\" style=\"stroke-width:nan\"></path><path d=\"M 134.5 76.5 L 134.5 62.9 L 172.6 62.9\" id=\"22,21\" style=\"stroke-width:nan\"></path><path d=\"M 122.5 126.3 L 122.5 76.5 L 134.5 76.5\" id=\"23,22\" style=\"stroke-width:nan\"></path><path d=\"M 50.0 169.2 L 50.0 126.3 L 122.5 126.3\" id=\"24,23\" style=\"stroke-width:nan\"></path></g><g class=\"toytree-TipLabels\" style=\"fill:rgb(16.1%,15.3%,14.1%);fill-opacity:1.0;font-family:Helvetica;font-size:11.0px;font-weight:300;stroke:none;vertical-align:baseline;white-space:pre\"><g class=\"toytree-TipLabel\" transform=\"translate(132.9802642596811,218.86291179596174)\"><text x=\"15.0\" y=\"2.8104999999999993\" style=\"\">32082_przewalskii</text></g><g class=\"toytree-TipLabel\" transform=\"translate(132.4874691209184,205.30242649663478)\"><text x=\"15.0\" y=\"2.8104999999999993\" style=\"\">33588_przewalskii</text></g><g class=\"toytree-TipLabel\" transform=\"translate(167.1238147474754,191.74194119730782)\"><text x=\"15.0\" y=\"2.8104999999999993\" style=\"\">33413_thamno</text></g><g class=\"toytree-TipLabel\" transform=\"translate(174.8533938273442,178.18145589798087)\"><text x=\"15.0\" y=\"2.8104999999999993\" style=\"\">30556_thamno</text></g><g class=\"toytree-TipLabel\" transform=\"translate(174.187465409827,164.6209705986539)\"><text x=\"15.0\" y=\"2.8104999999999993\" style=\"\">40578_rex</text></g><g class=\"toytree-TipLabel\" transform=\"translate(174.37165832150748,151.06048529932696)\"><text x=\"15.0\" y=\"2.8104999999999993\" style=\"\">35855_rex</text></g><g class=\"toytree-TipLabel\" transform=\"translate(178.06798252197876,137.5)\"><text x=\"15.0\" y=\"2.8104999999999993\" style=\"\">35236_rex</text></g><g class=\"toytree-TipLabel\" transform=\"translate(183.4521337835551,123.93951470067304)\"><text x=\"15.0\" y=\"2.8104999999999993\" style=\"\">39618_rex</text></g><g class=\"toytree-TipLabel\" transform=\"translate(183.97798848197198,110.37902940134609)\"><text x=\"15.0\" y=\"2.8104999999999993\" style=\"\">38362_rex</text></g><g class=\"toytree-TipLabel\" transform=\"translate(169.7823825166793,96.81854410201913)\"><text x=\"15.0\" y=\"2.8104999999999993\" style=\"\">29154_superba</text></g><g class=\"toytree-TipLabel\" transform=\"translate(171.22564525983896,83.25805880269218)\"><text x=\"15.0\" y=\"2.8104999999999993\" style=\"\">30686_cyathophylla</text></g><g class=\"toytree-TipLabel\" transform=\"translate(172.92196698453745,69.6975735033652)\"><text x=\"15.0\" y=\"2.8104999999999993\" style=\"\">41954_cyathophylloides</text></g><g class=\"toytree-TipLabel\" transform=\"translate(172.77622483402448,56.13708820403825)\"><text x=\"15.0\" y=\"2.8104999999999993\" style=\"\">41478_cyathophylloides</text></g></g></g></g></g></svg><div class=\"toyplot-behavior\"><script>(function()\n",
       "{\n",
       "var modules={};\n",
       "})();</script></div></div>"
      ]
     },
     "metadata": {},
     "output_type": "display_data"
    }
   ],
   "source": [
    "# or, we can store them as variables (this allows more editing on them later)\n",
    "canvas, axes, mark = rtre.draw()"
   ]
  },
  {
   "cell_type": "markdown",
   "id": "f189164f",
   "metadata": {},
   "source": [
    "### Drawing trees: styles\n",
    "There are innumerous ways in which to style ToyTree drawings. `toytree` also provides a number of pre-built `tree_style` types (normal, dark, coalescent, multitree), and users can also create their own style dictionaries that can be easily reused. Below are some examples. "
   ]
  },
  {
   "cell_type": "code",
   "execution_count": 54,
   "id": "d3222f35",
   "metadata": {},
   "outputs": [
    {
     "data": {
      "text/html": [
       "<div class=\"toyplot\" id=\"t28eb81d8578d4a1e8886558f5b309ee1\" style=\"text-align:center\"><svg class=\"toyplot-canvas-Canvas\" xmlns:toyplot=\"http://www.sandia.gov/toyplot\" xmlns:xlink=\"http://www.w3.org/1999/xlink\" xmlns=\"http://www.w3.org/2000/svg\" width=\"360.0px\" height=\"275.0px\" viewBox=\"0 0 360.0 275.0\" preserveAspectRatio=\"xMidYMid meet\" style=\"background-color:transparent;border-color:#292724;border-style:none;border-width:1.0;fill:rgb(16.1%,15.3%,14.1%);fill-opacity:1.0;font-family:Helvetica;font-size:12px;opacity:1.0;stroke:rgb(16.1%,15.3%,14.1%);stroke-opacity:1.0;stroke-width:1.0\" id=\"t0300096ae6b44a13b20e4c0237fabd32\"><g class=\"toyplot-coordinates-Cartesian\" id=\"t292914ec4b23473382dd9b66888f8b0e\"><clipPath id=\"t91c6e24a53d04dffaaaa8d0882a4c5fc\"><rect x=\"35.0\" y=\"35.0\" width=\"290.0\" height=\"205.0\"></rect></clipPath><g clip-path=\"url(#t91c6e24a53d04dffaaaa8d0882a4c5fc)\"><g class=\"toytree-mark-Toytree\" id=\"taf71a73de4e949d2ba7d947852b69e38\"><g class=\"toytree-Edges\" style=\"fill:none;stroke:rgba(16.1%,15.3%,14.1%,1.000);stroke-linecap:round;stroke-width:2.0\"><path d=\"M 122.5 212.1 L 122.5 218.9 L 133.0 218.9\" id=\"13,0\" style=\"stroke-width:nan\"></path><path d=\"M 122.5 212.1 L 122.5 205.3 L 132.5 205.3\" id=\"13,1\" style=\"stroke-width:nan\"></path><path d=\"M 144.3 176.1 L 144.3 191.7 L 167.1 191.7\" id=\"19,2\" style=\"stroke-width:nan\"></path><path d=\"M 148.5 160.4 L 148.5 178.2 L 174.9 178.2\" id=\"18,3\" style=\"stroke-width:nan\"></path><path d=\"M 160.6 157.8 L 160.6 164.6 L 174.2 164.6\" id=\"14,4\" style=\"stroke-width:nan\"></path><path d=\"M 160.6 157.8 L 160.6 151.1 L 174.4 151.1\" id=\"14,5\" style=\"stroke-width:nan\"></path><path d=\"M 154.6 127.3 L 154.6 137.5 L 178.1 137.5\" id=\"16,6\" style=\"stroke-width:nan\"></path><path d=\"M 179.6 117.2 L 179.6 123.9 L 183.5 123.9\" id=\"15,7\" style=\"stroke-width:nan\"></path><path d=\"M 179.6 117.2 L 179.6 110.4 L 184.0 110.4\" id=\"15,8\" style=\"stroke-width:nan\"></path><path d=\"M 144.1 90.0 L 144.1 96.8 L 169.8 96.8\" id=\"20,9\" style=\"stroke-width:nan\"></path><path d=\"M 144.1 90.0 L 144.1 83.3 L 171.2 83.3\" id=\"20,10\" style=\"stroke-width:nan\"></path><path d=\"M 172.6 62.9 L 172.6 69.7 L 172.9 69.7\" id=\"21,11\" style=\"stroke-width:nan\"></path><path d=\"M 172.6 62.9 L 172.6 56.1 L 172.8 56.1\" id=\"21,12\" style=\"stroke-width:nan\"></path><path d=\"M 50.0 169.2 L 50.0 212.1 L 122.5 212.1\" id=\"24,13\" style=\"stroke-width:nan\"></path><path d=\"M 151.6 142.6 L 151.6 157.8 L 160.6 157.8\" id=\"17,14\" style=\"stroke-width:nan\"></path><path d=\"M 154.6 127.3 L 154.6 117.2 L 179.6 117.2\" id=\"16,15\" style=\"stroke-width:nan\"></path><path d=\"M 151.6 142.6 L 151.6 127.3 L 154.6 127.3\" id=\"17,16\" style=\"stroke-width:nan\"></path><path d=\"M 148.5 160.4 L 148.5 142.6 L 151.6 142.6\" id=\"18,17\" style=\"stroke-width:nan\"></path><path d=\"M 144.3 176.1 L 144.3 160.4 L 148.5 160.4\" id=\"19,18\" style=\"stroke-width:nan\"></path><path d=\"M 122.5 126.3 L 122.5 176.1 L 144.3 176.1\" id=\"23,19\" style=\"stroke-width:nan\"></path><path d=\"M 134.5 76.5 L 134.5 90.0 L 144.1 90.0\" id=\"22,20\" style=\"stroke-width:nan\"></path><path d=\"M 134.5 76.5 L 134.5 62.9 L 172.6 62.9\" id=\"22,21\" style=\"stroke-width:nan\"></path><path d=\"M 122.5 126.3 L 122.5 76.5 L 134.5 76.5\" id=\"23,22\" style=\"stroke-width:nan\"></path><path d=\"M 50.0 169.2 L 50.0 126.3 L 122.5 126.3\" id=\"24,23\" style=\"stroke-width:nan\"></path></g><g class=\"toytree-TipLabels\" style=\"fill:rgb(16.1%,15.3%,14.1%);fill-opacity:1.0;font-family:Helvetica;font-size:11.0px;font-weight:300;stroke:none;vertical-align:baseline;white-space:pre\"><g class=\"toytree-TipLabel\" transform=\"translate(132.9802642596811,218.86291179596174)\"><text x=\"15.0\" y=\"2.8104999999999993\" style=\"\">32082_przewalskii</text></g><g class=\"toytree-TipLabel\" transform=\"translate(132.4874691209184,205.30242649663478)\"><text x=\"15.0\" y=\"2.8104999999999993\" style=\"\">33588_przewalskii</text></g><g class=\"toytree-TipLabel\" transform=\"translate(167.1238147474754,191.74194119730782)\"><text x=\"15.0\" y=\"2.8104999999999993\" style=\"\">33413_thamno</text></g><g class=\"toytree-TipLabel\" transform=\"translate(174.8533938273442,178.18145589798087)\"><text x=\"15.0\" y=\"2.8104999999999993\" style=\"\">30556_thamno</text></g><g class=\"toytree-TipLabel\" transform=\"translate(174.187465409827,164.6209705986539)\"><text x=\"15.0\" y=\"2.8104999999999993\" style=\"\">40578_rex</text></g><g class=\"toytree-TipLabel\" transform=\"translate(174.37165832150748,151.06048529932696)\"><text x=\"15.0\" y=\"2.8104999999999993\" style=\"\">35855_rex</text></g><g class=\"toytree-TipLabel\" transform=\"translate(178.06798252197876,137.5)\"><text x=\"15.0\" y=\"2.8104999999999993\" style=\"\">35236_rex</text></g><g class=\"toytree-TipLabel\" transform=\"translate(183.4521337835551,123.93951470067304)\"><text x=\"15.0\" y=\"2.8104999999999993\" style=\"\">39618_rex</text></g><g class=\"toytree-TipLabel\" transform=\"translate(183.97798848197198,110.37902940134609)\"><text x=\"15.0\" y=\"2.8104999999999993\" style=\"\">38362_rex</text></g><g class=\"toytree-TipLabel\" transform=\"translate(169.7823825166793,96.81854410201913)\"><text x=\"15.0\" y=\"2.8104999999999993\" style=\"\">29154_superba</text></g><g class=\"toytree-TipLabel\" transform=\"translate(171.22564525983896,83.25805880269218)\"><text x=\"15.0\" y=\"2.8104999999999993\" style=\"\">30686_cyathophylla</text></g><g class=\"toytree-TipLabel\" transform=\"translate(172.92196698453745,69.6975735033652)\"><text x=\"15.0\" y=\"2.8104999999999993\" style=\"\">41954_cyathophylloides</text></g><g class=\"toytree-TipLabel\" transform=\"translate(172.77622483402448,56.13708820403825)\"><text x=\"15.0\" y=\"2.8104999999999993\" style=\"\">41478_cyathophylloides</text></g></g></g></g></g></svg><div class=\"toyplot-behavior\"><script>(function()\n",
       "{\n",
       "var modules={};\n",
       "})();</script></div></div>"
      ]
     },
     "metadata": {},
     "output_type": "display_data"
    },
    {
     "data": {
      "text/html": [
       "<div class=\"toyplot\" id=\"t2f30a88ab0834a41835cc18ced7ba067\" style=\"text-align:center\"><svg class=\"toyplot-canvas-Canvas\" xmlns:toyplot=\"http://www.sandia.gov/toyplot\" xmlns:xlink=\"http://www.w3.org/1999/xlink\" xmlns=\"http://www.w3.org/2000/svg\" width=\"360.0px\" height=\"275.0px\" viewBox=\"0 0 360.0 275.0\" preserveAspectRatio=\"xMidYMid meet\" style=\"background-color:transparent;border-color:#292724;border-style:none;border-width:1.0;fill:rgb(16.1%,15.3%,14.1%);fill-opacity:1.0;font-family:Helvetica;font-size:12px;opacity:1.0;stroke:rgb(16.1%,15.3%,14.1%);stroke-opacity:1.0;stroke-width:1.0\" id=\"t50fff0096ab54635b72e8d7c2a0fe46b\"><g class=\"toyplot-coordinates-Cartesian\" id=\"ta735498f41214035b0c864f700fae0c7\"><clipPath id=\"t06a75790ecd84b9b8afff756f80e76e7\"><rect x=\"35.0\" y=\"35.0\" width=\"290.0\" height=\"205.0\"></rect></clipPath><g clip-path=\"url(#t06a75790ecd84b9b8afff756f80e76e7)\"><g class=\"toytree-mark-Toytree\" id=\"t66cb3d5da4d84f239af787e9dd71664a\"><g class=\"toytree-Edges\" style=\"fill:none;stroke:rgba(40.0%,76.1%,64.7%,1.000);stroke-linecap:round;stroke-width:2\"><path d=\"M 124.6 212.1 L 124.6 218.9 L 135.3 218.9\" id=\"13,0\" style=\"stroke-width:nan\"></path><path d=\"M 124.6 212.1 L 124.6 205.3 L 134.8 205.3\" id=\"13,1\" style=\"stroke-width:nan\"></path><path d=\"M 147.0 176.1 L 147.0 191.7 L 170.5 191.7\" id=\"19,2\" style=\"stroke-width:nan\"></path><path d=\"M 151.3 160.4 L 151.3 178.2 L 178.4 178.2\" id=\"18,3\" style=\"stroke-width:nan\"></path><path d=\"M 163.8 157.8 L 163.8 164.6 L 177.7 164.6\" id=\"14,4\" style=\"stroke-width:nan\"></path><path d=\"M 163.8 157.8 L 163.8 151.1 L 177.9 151.1\" id=\"14,5\" style=\"stroke-width:nan\"></path><path d=\"M 157.6 127.3 L 157.6 137.5 L 181.7 137.5\" id=\"16,6\" style=\"stroke-width:nan\"></path><path d=\"M 183.3 117.2 L 183.3 123.9 L 187.3 123.9\" id=\"15,7\" style=\"stroke-width:nan\"></path><path d=\"M 183.3 117.2 L 183.3 110.4 L 187.8 110.4\" id=\"15,8\" style=\"stroke-width:nan\"></path><path d=\"M 146.8 90.0 L 146.8 96.8 L 173.2 96.8\" id=\"20,9\" style=\"stroke-width:nan\"></path><path d=\"M 146.8 90.0 L 146.8 83.3 L 174.7 83.3\" id=\"20,10\" style=\"stroke-width:nan\"></path><path d=\"M 176.1 62.9 L 176.1 69.7 L 176.4 69.7\" id=\"21,11\" style=\"stroke-width:nan\"></path><path d=\"M 176.1 62.9 L 176.1 56.1 L 176.3 56.1\" id=\"21,12\" style=\"stroke-width:nan\"></path><path d=\"M 50.0 169.2 L 50.0 212.1 L 124.6 212.1\" id=\"24,13\" style=\"stroke-width:nan\"></path><path d=\"M 154.5 142.6 L 154.5 157.8 L 163.8 157.8\" id=\"17,14\" style=\"stroke-width:nan\"></path><path d=\"M 157.6 127.3 L 157.6 117.2 L 183.3 117.2\" id=\"16,15\" style=\"stroke-width:nan\"></path><path d=\"M 154.5 142.6 L 154.5 127.3 L 157.6 127.3\" id=\"17,16\" style=\"stroke-width:nan\"></path><path d=\"M 151.3 160.4 L 151.3 142.6 L 154.5 142.6\" id=\"18,17\" style=\"stroke-width:nan\"></path><path d=\"M 147.0 176.1 L 147.0 160.4 L 151.3 160.4\" id=\"19,18\" style=\"stroke-width:nan\"></path><path d=\"M 124.6 126.3 L 124.6 176.1 L 147.0 176.1\" id=\"23,19\" style=\"stroke-width:nan\"></path><path d=\"M 136.9 76.5 L 136.9 90.0 L 146.8 90.0\" id=\"22,20\" style=\"stroke-width:nan\"></path><path d=\"M 136.9 76.5 L 136.9 62.9 L 176.1 62.9\" id=\"22,21\" style=\"stroke-width:nan\"></path><path d=\"M 124.6 126.3 L 124.6 76.5 L 136.9 76.5\" id=\"23,22\" style=\"stroke-width:nan\"></path><path d=\"M 50.0 169.2 L 50.0 126.3 L 124.6 126.3\" id=\"24,23\" style=\"stroke-width:nan\"></path></g><g class=\"toytree-TipLabels\" style=\"fill:rgb(90.6%,54.1%,76.5%);fill-opacity:1.0;font-family:Helvetica;font-size:11.0px;font-weight:300;stroke:none;vertical-align:baseline;white-space:pre\"><g class=\"toytree-TipLabel\" transform=\"translate(135.34842010343885,218.86291179596174)\"><text x=\"8.0\" y=\"2.8104999999999993\" style=\"\">32082_przewalskii</text></g><g class=\"toytree-TipLabel\" transform=\"translate(134.84156119062038,205.30242649663478)\"><text x=\"8.0\" y=\"2.8104999999999993\" style=\"\">33588_przewalskii</text></g><g class=\"toytree-TipLabel\" transform=\"translate(170.46638600597888,191.74194119730782)\"><text x=\"8.0\" y=\"2.8104999999999993\" style=\"\">33413_thamno</text></g><g class=\"toytree-TipLabel\" transform=\"translate(178.4165578741581,178.18145589798087)\"><text x=\"8.0\" y=\"2.8104999999999993\" style=\"\">30556_thamno</text></g><g class=\"toytree-TipLabel\" transform=\"translate(177.73162466932746,164.6209705986539)\"><text x=\"8.0\" y=\"2.8104999999999993\" style=\"\">40578_rex</text></g><g class=\"toytree-TipLabel\" transform=\"translate(177.92107422274157,151.06048529932696)\"><text x=\"8.0\" y=\"2.8104999999999993\" style=\"\">35855_rex</text></g><g class=\"toytree-TipLabel\" transform=\"translate(181.72288702142185,137.5)\"><text x=\"8.0\" y=\"2.8104999999999993\" style=\"\">35236_rex</text></g><g class=\"toytree-TipLabel\" transform=\"translate(187.26069541325123,123.93951470067304)\"><text x=\"8.0\" y=\"2.8104999999999993\" style=\"\">39618_rex</text></g><g class=\"toytree-TipLabel\" transform=\"translate(187.8015573653583,110.37902940134609)\"><text x=\"8.0\" y=\"2.8104999999999993\" style=\"\">38362_rex</text></g><g class=\"toytree-TipLabel\" transform=\"translate(173.20082606668285,96.81854410201913)\"><text x=\"8.0\" y=\"2.8104999999999993\" style=\"\">29154_superba</text></g><g class=\"toytree-TipLabel\" transform=\"translate(174.68527777362547,83.25805880269218)\"><text x=\"8.0\" y=\"2.8104999999999993\" style=\"\">30686_cyathophylla</text></g><g class=\"toytree-TipLabel\" transform=\"translate(176.43001045773795,69.6975735033652)\"><text x=\"8.0\" y=\"2.8104999999999993\" style=\"\">41954_cyathophylloides</text></g><g class=\"toytree-TipLabel\" transform=\"translate(176.28010900346163,56.13708820403825)\"><text x=\"8.0\" y=\"2.8104999999999993\" style=\"\">41478_cyathophylloides</text></g></g></g></g></g></svg><div class=\"toyplot-behavior\"><script>(function()\n",
       "{\n",
       "var modules={};\n",
       "})();</script></div></div>"
      ]
     },
     "metadata": {},
     "output_type": "display_data"
    },
    {
     "data": {
      "text/html": [
       "<div class=\"toyplot\" id=\"t94014f3cd4b643f6add07ac8ceb25640\" style=\"text-align:center\"><svg class=\"toyplot-canvas-Canvas\" xmlns:toyplot=\"http://www.sandia.gov/toyplot\" xmlns:xlink=\"http://www.w3.org/1999/xlink\" xmlns=\"http://www.w3.org/2000/svg\" width=\"360.0px\" height=\"275.0px\" viewBox=\"0 0 360.0 275.0\" preserveAspectRatio=\"xMidYMid meet\" style=\"background-color:transparent;border-color:#292724;border-style:none;border-width:1.0;fill:rgb(16.1%,15.3%,14.1%);fill-opacity:1.0;font-family:Helvetica;font-size:12px;opacity:1.0;stroke:rgb(16.1%,15.3%,14.1%);stroke-opacity:1.0;stroke-width:1.0\" id=\"t5e37a5e05dd147f9a8ab2da66b1a7732\"><g class=\"toyplot-coordinates-Cartesian\" id=\"t6db0de2bca284cc08cdc892421493e10\"><clipPath id=\"t34e92a1429134d7f93d8dd5032b85913\"><rect x=\"35.0\" y=\"35.0\" width=\"290.0\" height=\"205.0\"></rect></clipPath><g clip-path=\"url(#t34e92a1429134d7f93d8dd5032b85913)\"><g class=\"toytree-mark-Toytree\" id=\"t778a1dd056944a30a0c842c830361c1c\"><g class=\"toytree-Edges\" style=\"fill:none;stroke:#262626;stroke-linecap:round;stroke-width:2\"><path d=\"M 124.0 212.1 L 134.4 218.9\" id=\"13,0\" style=\"stroke-width:nan\"></path><path d=\"M 124.0 212.1 L 133.9 205.3\" id=\"13,1\" style=\"stroke-width:nan\"></path><path d=\"M 145.6 176.1 L 168.2 191.7\" id=\"19,2\" style=\"stroke-width:nan\"></path><path d=\"M 149.7 160.4 L 175.9 178.2\" id=\"18,3\" style=\"stroke-width:nan\"></path><path d=\"M 161.8 157.8 L 175.3 164.6\" id=\"14,4\" style=\"stroke-width:nan\"></path><path d=\"M 161.8 157.8 L 175.4 151.1\" id=\"14,5\" style=\"stroke-width:nan\"></path><path d=\"M 155.8 127.3 L 179.1 137.5\" id=\"16,6\" style=\"stroke-width:nan\"></path><path d=\"M 180.6 117.2 L 184.4 123.9\" id=\"15,7\" style=\"stroke-width:nan\"></path><path d=\"M 180.6 117.2 L 185.0 110.4\" id=\"15,8\" style=\"stroke-width:nan\"></path><path d=\"M 145.5 90.0 L 170.9 96.8\" id=\"20,9\" style=\"stroke-width:nan\"></path><path d=\"M 145.5 90.0 L 172.3 83.3\" id=\"20,10\" style=\"stroke-width:nan\"></path><path d=\"M 173.6 62.9 L 174.0 69.7\" id=\"21,11\" style=\"stroke-width:nan\"></path><path d=\"M 173.6 62.9 L 173.9 56.1\" id=\"21,12\" style=\"stroke-width:nan\"></path><path d=\"M 52.0 169.2 L 124.0 212.1\" id=\"24,13\" style=\"stroke-width:nan\"></path><path d=\"M 152.9 142.6 L 161.8 157.8\" id=\"17,14\" style=\"stroke-width:nan\"></path><path d=\"M 155.8 127.3 L 180.6 117.2\" id=\"16,15\" style=\"stroke-width:nan\"></path><path d=\"M 152.9 142.6 L 155.8 127.3\" id=\"17,16\" style=\"stroke-width:nan\"></path><path d=\"M 149.7 160.4 L 152.9 142.6\" id=\"18,17\" style=\"stroke-width:nan\"></path><path d=\"M 145.6 176.1 L 149.7 160.4\" id=\"19,18\" style=\"stroke-width:nan\"></path><path d=\"M 124.0 126.3 L 145.6 176.1\" id=\"23,19\" style=\"stroke-width:nan\"></path><path d=\"M 135.9 76.5 L 145.5 90.0\" id=\"22,20\" style=\"stroke-width:nan\"></path><path d=\"M 135.9 76.5 L 173.6 62.9\" id=\"22,21\" style=\"stroke-width:nan\"></path><path d=\"M 124.0 126.3 L 135.9 76.5\" id=\"23,22\" style=\"stroke-width:nan\"></path><path d=\"M 52.0 169.2 L 124.0 126.3\" id=\"24,23\" style=\"stroke-width:nan\"></path></g><g class=\"toytree-AlignEdges\" style=\"stroke:rgba(66.3%,66.3%,66.3%,1.000);stroke-dasharray:2,4;stroke-linecap:round;stroke-opacity:0.75;stroke-width:2\"><path d=\"M 185.0 218.9 L 134.4 218.9\"></path><path d=\"M 185.0 205.3 L 133.9 205.3\"></path><path d=\"M 185.0 191.7 L 168.2 191.7\"></path><path d=\"M 185.0 178.2 L 175.9 178.2\"></path><path d=\"M 185.0 164.6 L 175.3 164.6\"></path><path d=\"M 185.0 151.1 L 175.4 151.1\"></path><path d=\"M 185.0 137.5 L 179.1 137.5\"></path><path d=\"M 185.0 123.9 L 184.4 123.9\"></path><path d=\"M 185.0 110.4 L 185.0 110.4\"></path><path d=\"M 185.0 96.8 L 170.9 96.8\"></path><path d=\"M 185.0 83.3 L 172.3 83.3\"></path><path d=\"M 185.0 69.7 L 174.0 69.7\"></path><path d=\"M 185.0 56.1 L 173.9 56.1\"></path></g><g class=\"toytree-Nodes\" style=\"fill:rgba(10.6%,62.0%,46.7%,1.000);stroke:white;stroke-width:1.5\"><g id=\"node-13\" transform=\"translate(123.973,212.083)\"><circle r=\"4.0\"></circle></g><g id=\"node-14\" transform=\"translate(161.806,157.841)\"><circle r=\"4.0\"></circle></g><g id=\"node-15\" transform=\"translate(180.589,117.159)\"><circle r=\"4.0\"></circle></g><g id=\"node-16\" transform=\"translate(155.826,127.330)\"><circle r=\"4.0\"></circle></g><g id=\"node-17\" transform=\"translate(152.863,142.585)\"><circle r=\"4.0\"></circle></g><g id=\"node-18\" transform=\"translate(149.722,160.383)\"><circle r=\"4.0\"></circle></g><g id=\"node-19\" transform=\"translate(145.577,176.063)\"><circle r=\"4.0\"></circle></g><g id=\"node-20\" transform=\"translate(145.452,90.038)\"><circle r=\"4.0\"></circle></g><g id=\"node-21\" transform=\"translate(173.644,62.917)\"><circle r=\"4.0\"></circle></g><g id=\"node-22\" transform=\"translate(135.908,76.478)\"><circle r=\"4.0\"></circle></g><g id=\"node-23\" transform=\"translate(123.973,126.270)\"><circle r=\"4.0\"></circle></g><g id=\"node-24\" transform=\"translate(52.045,169.176)\"><circle r=\"4.0\"></circle></g></g><g class=\"toytree-TipLabels\" style=\"fill:rgb(16.1%,15.3%,14.1%);fill-opacity:1.0;font-family:Helvetica;font-size:11.0px;font-weight:300;stroke:none;vertical-align:baseline;white-space:pre\"><g class=\"toytree-TipLabel\" transform=\"translate(184.9691941544846,218.86291179596174)\"><text x=\"15.0\" y=\"2.8104999999999993\" style=\"\">32082_przewalskii</text></g><g class=\"toytree-TipLabel\" transform=\"translate(184.9691941544846,205.30242649663478)\"><text x=\"15.0\" y=\"2.8104999999999993\" style=\"\">33588_przewalskii</text></g><g class=\"toytree-TipLabel\" transform=\"translate(184.9691941544846,191.74194119730782)\"><text x=\"15.0\" y=\"2.8104999999999993\" style=\"\">33413_thamno</text></g><g class=\"toytree-TipLabel\" transform=\"translate(184.9691941544846,178.18145589798087)\"><text x=\"15.0\" y=\"2.8104999999999993\" style=\"\">30556_thamno</text></g><g class=\"toytree-TipLabel\" transform=\"translate(184.9691941544846,164.6209705986539)\"><text x=\"15.0\" y=\"2.8104999999999993\" style=\"\">40578_rex</text></g><g class=\"toytree-TipLabel\" transform=\"translate(184.9691941544846,151.06048529932696)\"><text x=\"15.0\" y=\"2.8104999999999993\" style=\"\">35855_rex</text></g><g class=\"toytree-TipLabel\" transform=\"translate(184.9691941544846,137.5)\"><text x=\"15.0\" y=\"2.8104999999999993\" style=\"\">35236_rex</text></g><g class=\"toytree-TipLabel\" transform=\"translate(184.9691941544846,123.93951470067304)\"><text x=\"15.0\" y=\"2.8104999999999993\" style=\"\">39618_rex</text></g><g class=\"toytree-TipLabel\" transform=\"translate(184.9691941544846,110.37902940134609)\"><text x=\"15.0\" y=\"2.8104999999999993\" style=\"\">38362_rex</text></g><g class=\"toytree-TipLabel\" transform=\"translate(184.9691941544846,96.81854410201913)\"><text x=\"15.0\" y=\"2.8104999999999993\" style=\"\">29154_superba</text></g><g class=\"toytree-TipLabel\" transform=\"translate(184.9691941544846,83.25805880269218)\"><text x=\"15.0\" y=\"2.8104999999999993\" style=\"\">30686_cyathophylla</text></g><g class=\"toytree-TipLabel\" transform=\"translate(184.9691941544846,69.6975735033652)\"><text x=\"15.0\" y=\"2.8104999999999993\" style=\"\">41954_cyathophylloides</text></g><g class=\"toytree-TipLabel\" transform=\"translate(184.9691941544846,56.13708820403825)\"><text x=\"15.0\" y=\"2.8104999999999993\" style=\"\">41478_cyathophylloides</text></g></g></g></g></g></svg><div class=\"toyplot-behavior\"><script>(function()\n",
       "{\n",
       "var modules={};\n",
       "})();</script></div></div>"
      ]
     },
     "metadata": {},
     "output_type": "display_data"
    }
   ],
   "source": [
    "# drawing with pre-built `tree_style`s (you can also use `ts` as a shortcut)\n",
    "rtre.draw(tree_style='n');  # normal-style\n",
    "rtre.draw(tree_style='d');  # dark-style\n",
    "rtre.draw(ts='o');          # umlaut-style"
   ]
  },
  {
   "cell_type": "code",
   "execution_count": 60,
   "id": "632c992c",
   "metadata": {},
   "outputs": [],
   "source": [
    "# define a custom style dictionary\n",
    "mystyle = {\n",
    "    \"layout\": 'd',\n",
    "    \"edge_type\": 'p',\n",
    "    \"edge_style\": {\n",
    "        \"stroke\": toytree.color.COLORS1[2],\n",
    "        \"stroke-width\": 2.5,\n",
    "    },\n",
    "    \"tip_labels_align\": True, \n",
    "    \"tip_labels_colors\": toytree.color.COLORS2[0],\n",
    "    \"tip_labels_style\": {\n",
    "        \"font-size\": \"10px\"\n",
    "    },\n",
    "    \"node_labels\": False,\n",
    "    \"node_sizes\": 8,\n",
    "    \"node_colors\": toytree.color.COLORS1[2],\n",
    "}"
   ]
  },
  {
   "cell_type": "code",
   "execution_count": 61,
   "id": "8eecd44e",
   "metadata": {},
   "outputs": [
    {
     "data": {
      "text/html": [
       "<div class=\"toyplot\" id=\"te75a4600944b43998991aea7158f8440\" style=\"text-align:center\"><svg class=\"toyplot-canvas-Canvas\" xmlns:toyplot=\"http://www.sandia.gov/toyplot\" xmlns:xlink=\"http://www.w3.org/1999/xlink\" xmlns=\"http://www.w3.org/2000/svg\" width=\"350.0px\" height=\"400.0px\" viewBox=\"0 0 350.0 400.0\" preserveAspectRatio=\"xMidYMid meet\" style=\"background-color:transparent;border-color:#292724;border-style:none;border-width:1.0;fill:rgb(16.1%,15.3%,14.1%);fill-opacity:1.0;font-family:Helvetica;font-size:12px;opacity:1.0;stroke:rgb(16.1%,15.3%,14.1%);stroke-opacity:1.0;stroke-width:1.0\" id=\"t40e085d7e2b648d4a4a1fcf6bd052bca\"><g class=\"toyplot-coordinates-Cartesian\" id=\"t5e986033b34c49bc95a6badbf471a69f\"><clipPath id=\"t59621c61ab764b0dba8d81b6fa842cc3\"><rect x=\"35.0\" y=\"35.0\" width=\"280.0\" height=\"330.0\"></rect></clipPath><g clip-path=\"url(#t59621c61ab764b0dba8d81b6fa842cc3)\"><g class=\"toytree-mark-Toytree\" id=\"t8ef34ca918674de6a127ede34de1acd2\"><g class=\"toytree-Edges\" style=\"fill:none;stroke:(0.55294118, 0.62745098, 0.79607843, 1.);stroke-linecap:round;stroke-width:2.5\"><path d=\"M 65.7 145.3 L 55.7 145.3 L 55.7 158.7\" id=\"13,0\" style=\"stroke-width:nan\"></path><path d=\"M 65.7 145.3 L 75.6 145.3 L 75.6 158.1\" id=\"13,1\" style=\"stroke-width:nan\"></path><path d=\"M 118.5 173.2 L 95.5 173.2 L 95.5 202.5\" id=\"19,2\" style=\"stroke-width:nan\"></path><path d=\"M 141.5 178.6 L 115.4 178.6 L 115.4 212.4\" id=\"18,3\" style=\"stroke-width:nan\"></path><path d=\"M 145.2 194.2 L 135.2 194.2 L 135.2 211.6\" id=\"14,4\" style=\"stroke-width:nan\"></path><path d=\"M 145.2 194.2 L 155.1 194.2 L 155.1 211.8\" id=\"14,5\" style=\"stroke-width:nan\"></path><path d=\"M 189.9 186.4 L 175.0 186.4 L 175.0 216.5\" id=\"16,6\" style=\"stroke-width:nan\"></path><path d=\"M 204.8 218.4 L 194.9 218.4 L 194.9 223.4\" id=\"15,7\" style=\"stroke-width:nan\"></path><path d=\"M 204.8 218.4 L 214.8 218.4 L 214.8 224.1\" id=\"15,8\" style=\"stroke-width:nan\"></path><path d=\"M 244.6 173.0 L 234.6 173.0 L 234.6 205.9\" id=\"20,9\" style=\"stroke-width:nan\"></path><path d=\"M 244.6 173.0 L 254.5 173.0 L 254.5 207.8\" id=\"20,10\" style=\"stroke-width:nan\"></path><path d=\"M 284.3 209.5 L 274.4 209.5 L 274.4 209.9\" id=\"21,11\" style=\"stroke-width:nan\"></path><path d=\"M 284.3 209.5 L 294.3 209.5 L 294.3 209.7\" id=\"21,12\" style=\"stroke-width:nan\"></path><path d=\"M 128.6 52.3 L 65.7 52.3 L 65.7 145.3\" id=\"24,13\" style=\"stroke-width:nan\"></path><path d=\"M 167.5 182.6 L 145.2 182.6 L 145.2 194.2\" id=\"17,14\" style=\"stroke-width:nan\"></path><path d=\"M 189.9 186.4 L 204.8 186.4 L 204.8 218.4\" id=\"16,15\" style=\"stroke-width:nan\"></path><path d=\"M 167.5 182.6 L 189.9 182.6 L 189.9 186.4\" id=\"17,16\" style=\"stroke-width:nan\"></path><path d=\"M 141.5 178.6 L 167.5 178.6 L 167.5 182.6\" id=\"18,17\" style=\"stroke-width:nan\"></path><path d=\"M 118.5 173.2 L 141.5 173.2 L 141.5 178.6\" id=\"19,18\" style=\"stroke-width:nan\"></path><path d=\"M 191.5 145.3 L 118.5 145.3 L 118.5 173.2\" id=\"23,19\" style=\"stroke-width:nan\"></path><path d=\"M 264.5 160.7 L 244.6 160.7 L 244.6 173.0\" id=\"22,20\" style=\"stroke-width:nan\"></path><path d=\"M 264.5 160.7 L 284.3 160.7 L 284.3 209.5\" id=\"22,21\" style=\"stroke-width:nan\"></path><path d=\"M 191.5 145.3 L 264.5 145.3 L 264.5 160.7\" id=\"23,22\" style=\"stroke-width:nan\"></path><path d=\"M 128.6 52.3 L 191.5 52.3 L 191.5 145.3\" id=\"24,23\" style=\"stroke-width:nan\"></path></g><g class=\"toytree-AlignEdges\" style=\"stroke:rgba(66.3%,66.3%,66.3%,1.000);stroke-dasharray:2,4;stroke-linecap:round;stroke-opacity:0.75;stroke-width:2\"><path d=\"M 55.7 224.1 L 55.7 158.7\"></path><path d=\"M 75.6 224.1 L 75.6 158.1\"></path><path d=\"M 95.5 224.1 L 95.5 202.5\"></path><path d=\"M 115.4 224.1 L 115.4 212.4\"></path><path d=\"M 135.2 224.1 L 135.2 211.6\"></path><path d=\"M 155.1 224.1 L 155.1 211.8\"></path><path d=\"M 175.0 224.1 L 175.0 216.5\"></path><path d=\"M 194.9 224.1 L 194.9 223.4\"></path><path d=\"M 214.8 224.1 L 214.8 224.1\"></path><path d=\"M 234.6 224.1 L 234.6 205.9\"></path><path d=\"M 254.5 224.1 L 254.5 207.8\"></path><path d=\"M 274.4 224.1 L 274.4 209.9\"></path><path d=\"M 294.3 224.1 L 294.3 209.7\"></path></g><g class=\"toytree-Nodes\" style=\"fill:rgba(55.3%,62.7%,79.6%,1.000);stroke:#262626;stroke-width:1.0\"><g id=\"node-13\" transform=\"translate(65.665,145.267)\"><circle r=\"4.0\"></circle></g><g id=\"node-14\" transform=\"translate(145.181,194.170)\"><circle r=\"4.0\"></circle></g><g id=\"node-15\" transform=\"translate(204.819,218.450)\"><circle r=\"4.0\"></circle></g><g id=\"node-16\" transform=\"translate(189.909,186.441)\"><circle r=\"4.0\"></circle></g><g id=\"node-17\" transform=\"translate(167.545,182.611)\"><circle r=\"4.0\"></circle></g><g id=\"node-18\" transform=\"translate(141.454,178.550)\"><circle r=\"4.0\"></circle></g><g id=\"node-19\" transform=\"translate(118.469,173.191)\"><circle r=\"4.0\"></circle></g><g id=\"node-20\" transform=\"translate(244.577,173.031)\"><circle r=\"4.0\"></circle></g><g id=\"node-21\" transform=\"translate(284.335,209.472)\"><circle r=\"4.0\"></circle></g><g id=\"node-22\" transform=\"translate(264.456,160.694)\"><circle r=\"4.0\"></circle></g><g id=\"node-23\" transform=\"translate(191.462,145.267)\"><circle r=\"4.0\"></circle></g><g id=\"node-24\" transform=\"translate(128.564,52.291)\"><circle r=\"4.0\"></circle></g></g><g class=\"toytree-TipLabels\" style=\"fill:rgb(10.6%,62%,46.7%);fill-opacity:1.0;font-family:Helvetica;font-size:10.0px;font-weight:300;stroke:none;vertical-align:baseline;white-space:pre\"><g class=\"toytree-TipLabel\" transform=\"translate(55.725190839694655,224.1110445031905)rotate(90.0)\"><text x=\"15.0\" y=\"2.5549999999999997\" style=\"\">32082_przewalskii</text></g><g class=\"toytree-TipLabel\" transform=\"translate(75.60432569974554,224.1110445031905)rotate(90.0)\"><text x=\"15.0\" y=\"2.5549999999999997\" style=\"\">33588_przewalskii</text></g><g class=\"toytree-TipLabel\" transform=\"translate(95.48346055979644,224.1110445031905)rotate(90.0)\"><text x=\"15.0\" y=\"2.5549999999999997\" style=\"\">33413_thamno</text></g><g class=\"toytree-TipLabel\" transform=\"translate(115.36259541984734,224.1110445031905)rotate(90.0)\"><text x=\"15.0\" y=\"2.5549999999999997\" style=\"\">30556_thamno</text></g><g class=\"toytree-TipLabel\" transform=\"translate(135.2417302798982,224.1110445031905)rotate(90.0)\"><text x=\"15.0\" y=\"2.5549999999999997\" style=\"\">40578_rex</text></g><g class=\"toytree-TipLabel\" transform=\"translate(155.1208651399491,224.1110445031905)rotate(90.0)\"><text x=\"15.0\" y=\"2.5549999999999997\" style=\"\">35855_rex</text></g><g class=\"toytree-TipLabel\" transform=\"translate(175.0,224.1110445031905)rotate(90.0)\"><text x=\"15.0\" y=\"2.5549999999999997\" style=\"\">35236_rex</text></g><g class=\"toytree-TipLabel\" transform=\"translate(194.8791348600509,224.1110445031905)rotate(90.0)\"><text x=\"15.0\" y=\"2.5549999999999997\" style=\"\">39618_rex</text></g><g class=\"toytree-TipLabel\" transform=\"translate(214.75826972010177,224.1110445031905)rotate(90.0)\"><text x=\"15.0\" y=\"2.5549999999999997\" style=\"\">38362_rex</text></g><g class=\"toytree-TipLabel\" transform=\"translate(234.6374045801527,224.1110445031905)rotate(90.0)\"><text x=\"15.0\" y=\"2.5549999999999997\" style=\"\">29154_superba</text></g><g class=\"toytree-TipLabel\" transform=\"translate(254.5165394402036,224.1110445031905)rotate(90.0)\"><text x=\"15.0\" y=\"2.5549999999999997\" style=\"\">30686_cyathophylla</text></g><g class=\"toytree-TipLabel\" transform=\"translate(274.3956743002544,224.1110445031905)rotate(90.0)\"><text x=\"15.0\" y=\"2.5549999999999997\" style=\"\">41954_cyathophylloides</text></g><g class=\"toytree-TipLabel\" transform=\"translate(294.2748091603053,224.1110445031905)rotate(90.0)\"><text x=\"15.0\" y=\"2.5549999999999997\" style=\"\">41478_cyathophylloides</text></g></g></g></g></g></svg><div class=\"toyplot-behavior\"><script>(function()\n",
       "{\n",
       "var modules={};\n",
       "})();</script></div></div>"
      ]
     },
     "metadata": {},
     "output_type": "display_data"
    }
   ],
   "source": [
    "# use your custom style dictionary in one or more tree drawings\n",
    "rtre.draw(height=400, **mystyle);"
   ]
  },
  {
   "cell_type": "markdown",
   "id": "437b3d70",
   "metadata": {},
   "source": [
    "### Node data\n",
    "\n",
    "As we saw briefly before, ToyTrees can store additional data (which we term *features*) on Nodes of a tree. These features can be parsed directly from the input data (e.g., newick file), like in the example earlier where we loaded either 'support' or 'name' data on internal nodes. Or, we can also create and add *any* arbitrary data to Nodes on a tree, and then use those data either for visualization or analyses. \n",
    "\n"
   ]
  },
  {
   "cell_type": "code",
   "execution_count": 122,
   "id": "5afc0680",
   "metadata": {},
   "outputs": [
    {
     "data": {
      "text/html": [
       "<div>\n",
       "<style scoped>\n",
       "    .dataframe tbody tr th:only-of-type {\n",
       "        vertical-align: middle;\n",
       "    }\n",
       "\n",
       "    .dataframe tbody tr th {\n",
       "        vertical-align: top;\n",
       "    }\n",
       "\n",
       "    .dataframe thead th {\n",
       "        text-align: right;\n",
       "    }\n",
       "</style>\n",
       "<table border=\"1\" class=\"dataframe\">\n",
       "  <thead>\n",
       "    <tr style=\"text-align: right;\">\n",
       "      <th></th>\n",
       "      <th>idx</th>\n",
       "      <th>name</th>\n",
       "      <th>height</th>\n",
       "      <th>dist</th>\n",
       "      <th>support</th>\n",
       "    </tr>\n",
       "  </thead>\n",
       "  <tbody>\n",
       "    <tr>\n",
       "      <th>0</th>\n",
       "      <td>0</td>\n",
       "      <td>32082_przewalskii</td>\n",
       "      <td>0.012617</td>\n",
       "      <td>0.002593</td>\n",
       "      <td>0.0</td>\n",
       "    </tr>\n",
       "    <tr>\n",
       "      <th>1</th>\n",
       "      <td>1</td>\n",
       "      <td>33588_przewalskii</td>\n",
       "      <td>0.012739</td>\n",
       "      <td>0.002471</td>\n",
       "      <td>0.0</td>\n",
       "    </tr>\n",
       "    <tr>\n",
       "      <th>2</th>\n",
       "      <td>2</td>\n",
       "      <td>33413_thamno</td>\n",
       "      <td>0.00417</td>\n",
       "      <td>0.005654</td>\n",
       "      <td>0.0</td>\n",
       "    </tr>\n",
       "    <tr>\n",
       "      <th>3</th>\n",
       "      <td>3</td>\n",
       "      <td>30556_thamno</td>\n",
       "      <td>0.002258</td>\n",
       "      <td>0.006532</td>\n",
       "      <td>0.0</td>\n",
       "    </tr>\n",
       "    <tr>\n",
       "      <th>4</th>\n",
       "      <td>4</td>\n",
       "      <td>40578_rex</td>\n",
       "      <td>0.002422</td>\n",
       "      <td>0.003354</td>\n",
       "      <td>0.0</td>\n",
       "    </tr>\n",
       "    <tr>\n",
       "      <th>5</th>\n",
       "      <td>5</td>\n",
       "      <td>35855_rex</td>\n",
       "      <td>0.002377</td>\n",
       "      <td>0.0034</td>\n",
       "      <td>0.0</td>\n",
       "    </tr>\n",
       "    <tr>\n",
       "      <th>6</th>\n",
       "      <td>6</td>\n",
       "      <td>35236_rex</td>\n",
       "      <td>0.001462</td>\n",
       "      <td>0.005805</td>\n",
       "      <td>0.0</td>\n",
       "    </tr>\n",
       "    <tr>\n",
       "      <th>7</th>\n",
       "      <td>7</td>\n",
       "      <td>39618_rex</td>\n",
       "      <td>0.00013</td>\n",
       "      <td>0.000962</td>\n",
       "      <td>0.0</td>\n",
       "    </tr>\n",
       "    <tr>\n",
       "      <th>8</th>\n",
       "      <td>8</td>\n",
       "      <td>38362_rex</td>\n",
       "      <td>0.0</td>\n",
       "      <td>0.001092</td>\n",
       "      <td>0.0</td>\n",
       "    </tr>\n",
       "    <tr>\n",
       "      <th>9</th>\n",
       "      <td>9</td>\n",
       "      <td>29154_superba</td>\n",
       "      <td>0.003512</td>\n",
       "      <td>0.006342</td>\n",
       "      <td>0.0</td>\n",
       "    </tr>\n",
       "    <tr>\n",
       "      <th>10</th>\n",
       "      <td>10</td>\n",
       "      <td>30686_cyathophylla</td>\n",
       "      <td>0.003155</td>\n",
       "      <td>0.006699</td>\n",
       "      <td>0.0</td>\n",
       "    </tr>\n",
       "    <tr>\n",
       "      <th>11</th>\n",
       "      <td>11</td>\n",
       "      <td>41954_cyathophylloides</td>\n",
       "      <td>0.002735</td>\n",
       "      <td>0.000089</td>\n",
       "      <td>0.0</td>\n",
       "    </tr>\n",
       "    <tr>\n",
       "      <th>12</th>\n",
       "      <td>12</td>\n",
       "      <td>41478_cyathophylloides</td>\n",
       "      <td>0.002771</td>\n",
       "      <td>0.000053</td>\n",
       "      <td>0.0</td>\n",
       "    </tr>\n",
       "    <tr>\n",
       "      <th>13</th>\n",
       "      <td>13</td>\n",
       "      <td></td>\n",
       "      <td>0.015211</td>\n",
       "      <td>0.017937</td>\n",
       "      <td>100.0</td>\n",
       "    </tr>\n",
       "    <tr>\n",
       "      <th>14</th>\n",
       "      <td>14</td>\n",
       "      <td></td>\n",
       "      <td>0.005776</td>\n",
       "      <td>0.00223</td>\n",
       "      <td>100.0</td>\n",
       "    </tr>\n",
       "    <tr>\n",
       "      <th>15</th>\n",
       "      <td>15</td>\n",
       "      <td></td>\n",
       "      <td>0.001092</td>\n",
       "      <td>0.006175</td>\n",
       "      <td>100.0</td>\n",
       "    </tr>\n",
       "    <tr>\n",
       "      <th>16</th>\n",
       "      <td>16</td>\n",
       "      <td></td>\n",
       "      <td>0.007267</td>\n",
       "      <td>0.000739</td>\n",
       "      <td>96.0</td>\n",
       "    </tr>\n",
       "    <tr>\n",
       "      <th>17</th>\n",
       "      <td>17</td>\n",
       "      <td></td>\n",
       "      <td>0.008006</td>\n",
       "      <td>0.000783</td>\n",
       "      <td>99.0</td>\n",
       "    </tr>\n",
       "    <tr>\n",
       "      <th>18</th>\n",
       "      <td>18</td>\n",
       "      <td></td>\n",
       "      <td>0.00879</td>\n",
       "      <td>0.001034</td>\n",
       "      <td>100.0</td>\n",
       "    </tr>\n",
       "    <tr>\n",
       "      <th>19</th>\n",
       "      <td>19</td>\n",
       "      <td></td>\n",
       "      <td>0.009824</td>\n",
       "      <td>0.005387</td>\n",
       "      <td>100.0</td>\n",
       "    </tr>\n",
       "    <tr>\n",
       "      <th>20</th>\n",
       "      <td>20</td>\n",
       "      <td></td>\n",
       "      <td>0.009855</td>\n",
       "      <td>0.00238</td>\n",
       "      <td>100.0</td>\n",
       "    </tr>\n",
       "    <tr>\n",
       "      <th>21</th>\n",
       "      <td>21</td>\n",
       "      <td></td>\n",
       "      <td>0.002824</td>\n",
       "      <td>0.00941</td>\n",
       "      <td>100.0</td>\n",
       "    </tr>\n",
       "    <tr>\n",
       "      <th>22</th>\n",
       "      <td>22</td>\n",
       "      <td></td>\n",
       "      <td>0.012234</td>\n",
       "      <td>0.002976</td>\n",
       "      <td>100.0</td>\n",
       "    </tr>\n",
       "    <tr>\n",
       "      <th>23</th>\n",
       "      <td>23</td>\n",
       "      <td></td>\n",
       "      <td>0.015211</td>\n",
       "      <td>0.017937</td>\n",
       "      <td>100.0</td>\n",
       "    </tr>\n",
       "    <tr>\n",
       "      <th>24</th>\n",
       "      <td>24</td>\n",
       "      <td>root</td>\n",
       "      <td>0.033148</td>\n",
       "      <td>0</td>\n",
       "      <td>100</td>\n",
       "    </tr>\n",
       "  </tbody>\n",
       "</table>\n",
       "</div>"
      ],
      "text/plain": [
       "   idx                    name    height      dist support\n",
       "0    0       32082_przewalskii  0.012617  0.002593     0.0\n",
       "1    1       33588_przewalskii  0.012739  0.002471     0.0\n",
       "2    2            33413_thamno   0.00417  0.005654     0.0\n",
       "3    3            30556_thamno  0.002258  0.006532     0.0\n",
       "4    4               40578_rex  0.002422  0.003354     0.0\n",
       "5    5               35855_rex  0.002377    0.0034     0.0\n",
       "6    6               35236_rex  0.001462  0.005805     0.0\n",
       "7    7               39618_rex   0.00013  0.000962     0.0\n",
       "8    8               38362_rex       0.0  0.001092     0.0\n",
       "9    9           29154_superba  0.003512  0.006342     0.0\n",
       "10  10      30686_cyathophylla  0.003155  0.006699     0.0\n",
       "11  11  41954_cyathophylloides  0.002735  0.000089     0.0\n",
       "12  12  41478_cyathophylloides  0.002771  0.000053     0.0\n",
       "13  13                          0.015211  0.017937   100.0\n",
       "14  14                          0.005776   0.00223   100.0\n",
       "15  15                          0.001092  0.006175   100.0\n",
       "16  16                          0.007267  0.000739    96.0\n",
       "17  17                          0.008006  0.000783    99.0\n",
       "18  18                           0.00879  0.001034   100.0\n",
       "19  19                          0.009824  0.005387   100.0\n",
       "20  20                          0.009855   0.00238   100.0\n",
       "21  21                          0.002824   0.00941   100.0\n",
       "22  22                          0.012234  0.002976   100.0\n",
       "23  23                          0.015211  0.017937   100.0\n",
       "24  24                    root  0.033148         0     100"
      ]
     },
     "execution_count": 122,
     "metadata": {},
     "output_type": "execute_result"
    }
   ],
   "source": [
    "# data associated tree `rtre` loaded from newick string\n",
    "rtre.get_node_data()"
   ]
  },
  {
   "cell_type": "markdown",
   "id": "ec957af1",
   "metadata": {},
   "source": [
    "We can add a new feature to this tree using the `set_node_data` function, which can assign specific values to individual Nodes or a single value as a default to all Nodes. Let's create a feature called 'color' that will take string values. \n",
    "\n",
    "\n"
   ]
  },
  {
   "cell_type": "code",
   "execution_count": 141,
   "id": "210aa9f3",
   "metadata": {},
   "outputs": [],
   "source": [
    "# returns a copy of the tree with new data added to Nodes\n",
    "color_tree = rtre.set_node_data(\n",
    "    feature=\"color\", \n",
    "    mapping={i: 'green' for i in (0, 13, 24)},\n",
    "    default=\"red\",\n",
    ")"
   ]
  },
  {
   "cell_type": "code",
   "execution_count": 142,
   "id": "4c76aa49",
   "metadata": {},
   "outputs": [
    {
     "data": {
      "text/html": [
       "<div>\n",
       "<style scoped>\n",
       "    .dataframe tbody tr th:only-of-type {\n",
       "        vertical-align: middle;\n",
       "    }\n",
       "\n",
       "    .dataframe tbody tr th {\n",
       "        vertical-align: top;\n",
       "    }\n",
       "\n",
       "    .dataframe thead th {\n",
       "        text-align: right;\n",
       "    }\n",
       "</style>\n",
       "<table border=\"1\" class=\"dataframe\">\n",
       "  <thead>\n",
       "    <tr style=\"text-align: right;\">\n",
       "      <th></th>\n",
       "      <th>idx</th>\n",
       "      <th>name</th>\n",
       "      <th>height</th>\n",
       "      <th>dist</th>\n",
       "      <th>support</th>\n",
       "      <th>color</th>\n",
       "    </tr>\n",
       "  </thead>\n",
       "  <tbody>\n",
       "    <tr>\n",
       "      <th>0</th>\n",
       "      <td>0</td>\n",
       "      <td>32082_przewalskii</td>\n",
       "      <td>0.012617</td>\n",
       "      <td>0.002593</td>\n",
       "      <td>0.0</td>\n",
       "      <td>green</td>\n",
       "    </tr>\n",
       "    <tr>\n",
       "      <th>1</th>\n",
       "      <td>1</td>\n",
       "      <td>33588_przewalskii</td>\n",
       "      <td>0.012739</td>\n",
       "      <td>0.002471</td>\n",
       "      <td>0.0</td>\n",
       "      <td>red</td>\n",
       "    </tr>\n",
       "    <tr>\n",
       "      <th>2</th>\n",
       "      <td>2</td>\n",
       "      <td>33413_thamno</td>\n",
       "      <td>0.00417</td>\n",
       "      <td>0.005654</td>\n",
       "      <td>0.0</td>\n",
       "      <td>red</td>\n",
       "    </tr>\n",
       "    <tr>\n",
       "      <th>3</th>\n",
       "      <td>3</td>\n",
       "      <td>30556_thamno</td>\n",
       "      <td>0.002258</td>\n",
       "      <td>0.006532</td>\n",
       "      <td>0.0</td>\n",
       "      <td>red</td>\n",
       "    </tr>\n",
       "    <tr>\n",
       "      <th>4</th>\n",
       "      <td>4</td>\n",
       "      <td>40578_rex</td>\n",
       "      <td>0.002422</td>\n",
       "      <td>0.003354</td>\n",
       "      <td>0.0</td>\n",
       "      <td>red</td>\n",
       "    </tr>\n",
       "    <tr>\n",
       "      <th>5</th>\n",
       "      <td>5</td>\n",
       "      <td>35855_rex</td>\n",
       "      <td>0.002377</td>\n",
       "      <td>0.0034</td>\n",
       "      <td>0.0</td>\n",
       "      <td>red</td>\n",
       "    </tr>\n",
       "    <tr>\n",
       "      <th>6</th>\n",
       "      <td>6</td>\n",
       "      <td>35236_rex</td>\n",
       "      <td>0.001462</td>\n",
       "      <td>0.005805</td>\n",
       "      <td>0.0</td>\n",
       "      <td>red</td>\n",
       "    </tr>\n",
       "    <tr>\n",
       "      <th>7</th>\n",
       "      <td>7</td>\n",
       "      <td>39618_rex</td>\n",
       "      <td>0.00013</td>\n",
       "      <td>0.000962</td>\n",
       "      <td>0.0</td>\n",
       "      <td>red</td>\n",
       "    </tr>\n",
       "    <tr>\n",
       "      <th>8</th>\n",
       "      <td>8</td>\n",
       "      <td>38362_rex</td>\n",
       "      <td>0.0</td>\n",
       "      <td>0.001092</td>\n",
       "      <td>0.0</td>\n",
       "      <td>red</td>\n",
       "    </tr>\n",
       "    <tr>\n",
       "      <th>9</th>\n",
       "      <td>9</td>\n",
       "      <td>29154_superba</td>\n",
       "      <td>0.003512</td>\n",
       "      <td>0.006342</td>\n",
       "      <td>0.0</td>\n",
       "      <td>red</td>\n",
       "    </tr>\n",
       "    <tr>\n",
       "      <th>10</th>\n",
       "      <td>10</td>\n",
       "      <td>30686_cyathophylla</td>\n",
       "      <td>0.003155</td>\n",
       "      <td>0.006699</td>\n",
       "      <td>0.0</td>\n",
       "      <td>red</td>\n",
       "    </tr>\n",
       "    <tr>\n",
       "      <th>11</th>\n",
       "      <td>11</td>\n",
       "      <td>41954_cyathophylloides</td>\n",
       "      <td>0.002735</td>\n",
       "      <td>0.000089</td>\n",
       "      <td>0.0</td>\n",
       "      <td>red</td>\n",
       "    </tr>\n",
       "    <tr>\n",
       "      <th>12</th>\n",
       "      <td>12</td>\n",
       "      <td>41478_cyathophylloides</td>\n",
       "      <td>0.002771</td>\n",
       "      <td>0.000053</td>\n",
       "      <td>0.0</td>\n",
       "      <td>red</td>\n",
       "    </tr>\n",
       "    <tr>\n",
       "      <th>13</th>\n",
       "      <td>13</td>\n",
       "      <td></td>\n",
       "      <td>0.015211</td>\n",
       "      <td>0.017937</td>\n",
       "      <td>100.0</td>\n",
       "      <td>green</td>\n",
       "    </tr>\n",
       "    <tr>\n",
       "      <th>14</th>\n",
       "      <td>14</td>\n",
       "      <td></td>\n",
       "      <td>0.005776</td>\n",
       "      <td>0.00223</td>\n",
       "      <td>100.0</td>\n",
       "      <td>red</td>\n",
       "    </tr>\n",
       "    <tr>\n",
       "      <th>15</th>\n",
       "      <td>15</td>\n",
       "      <td></td>\n",
       "      <td>0.001092</td>\n",
       "      <td>0.006175</td>\n",
       "      <td>100.0</td>\n",
       "      <td>red</td>\n",
       "    </tr>\n",
       "    <tr>\n",
       "      <th>16</th>\n",
       "      <td>16</td>\n",
       "      <td></td>\n",
       "      <td>0.007267</td>\n",
       "      <td>0.000739</td>\n",
       "      <td>96.0</td>\n",
       "      <td>red</td>\n",
       "    </tr>\n",
       "    <tr>\n",
       "      <th>17</th>\n",
       "      <td>17</td>\n",
       "      <td></td>\n",
       "      <td>0.008006</td>\n",
       "      <td>0.000783</td>\n",
       "      <td>99.0</td>\n",
       "      <td>red</td>\n",
       "    </tr>\n",
       "    <tr>\n",
       "      <th>18</th>\n",
       "      <td>18</td>\n",
       "      <td></td>\n",
       "      <td>0.00879</td>\n",
       "      <td>0.001034</td>\n",
       "      <td>100.0</td>\n",
       "      <td>red</td>\n",
       "    </tr>\n",
       "    <tr>\n",
       "      <th>19</th>\n",
       "      <td>19</td>\n",
       "      <td></td>\n",
       "      <td>0.009824</td>\n",
       "      <td>0.005387</td>\n",
       "      <td>100.0</td>\n",
       "      <td>red</td>\n",
       "    </tr>\n",
       "    <tr>\n",
       "      <th>20</th>\n",
       "      <td>20</td>\n",
       "      <td></td>\n",
       "      <td>0.009855</td>\n",
       "      <td>0.00238</td>\n",
       "      <td>100.0</td>\n",
       "      <td>red</td>\n",
       "    </tr>\n",
       "    <tr>\n",
       "      <th>21</th>\n",
       "      <td>21</td>\n",
       "      <td></td>\n",
       "      <td>0.002824</td>\n",
       "      <td>0.00941</td>\n",
       "      <td>100.0</td>\n",
       "      <td>red</td>\n",
       "    </tr>\n",
       "    <tr>\n",
       "      <th>22</th>\n",
       "      <td>22</td>\n",
       "      <td></td>\n",
       "      <td>0.012234</td>\n",
       "      <td>0.002976</td>\n",
       "      <td>100.0</td>\n",
       "      <td>red</td>\n",
       "    </tr>\n",
       "    <tr>\n",
       "      <th>23</th>\n",
       "      <td>23</td>\n",
       "      <td></td>\n",
       "      <td>0.015211</td>\n",
       "      <td>0.017937</td>\n",
       "      <td>100.0</td>\n",
       "      <td>red</td>\n",
       "    </tr>\n",
       "    <tr>\n",
       "      <th>24</th>\n",
       "      <td>24</td>\n",
       "      <td>root</td>\n",
       "      <td>0.033148</td>\n",
       "      <td>0</td>\n",
       "      <td>100</td>\n",
       "      <td>green</td>\n",
       "    </tr>\n",
       "  </tbody>\n",
       "</table>\n",
       "</div>"
      ],
      "text/plain": [
       "   idx                    name    height      dist support  color\n",
       "0    0       32082_przewalskii  0.012617  0.002593     0.0  green\n",
       "1    1       33588_przewalskii  0.012739  0.002471     0.0    red\n",
       "2    2            33413_thamno   0.00417  0.005654     0.0    red\n",
       "3    3            30556_thamno  0.002258  0.006532     0.0    red\n",
       "4    4               40578_rex  0.002422  0.003354     0.0    red\n",
       "5    5               35855_rex  0.002377    0.0034     0.0    red\n",
       "6    6               35236_rex  0.001462  0.005805     0.0    red\n",
       "7    7               39618_rex   0.00013  0.000962     0.0    red\n",
       "8    8               38362_rex       0.0  0.001092     0.0    red\n",
       "9    9           29154_superba  0.003512  0.006342     0.0    red\n",
       "10  10      30686_cyathophylla  0.003155  0.006699     0.0    red\n",
       "11  11  41954_cyathophylloides  0.002735  0.000089     0.0    red\n",
       "12  12  41478_cyathophylloides  0.002771  0.000053     0.0    red\n",
       "13  13                          0.015211  0.017937   100.0  green\n",
       "14  14                          0.005776   0.00223   100.0    red\n",
       "15  15                          0.001092  0.006175   100.0    red\n",
       "16  16                          0.007267  0.000739    96.0    red\n",
       "17  17                          0.008006  0.000783    99.0    red\n",
       "18  18                           0.00879  0.001034   100.0    red\n",
       "19  19                          0.009824  0.005387   100.0    red\n",
       "20  20                          0.009855   0.00238   100.0    red\n",
       "21  21                          0.002824   0.00941   100.0    red\n",
       "22  22                          0.012234  0.002976   100.0    red\n",
       "23  23                          0.015211  0.017937   100.0    red\n",
       "24  24                    root  0.033148         0     100  green"
      ]
     },
     "execution_count": 142,
     "metadata": {},
     "output_type": "execute_result"
    }
   ],
   "source": [
    "# see that 'color' is now present in the tree data.\n",
    "color_tree.get_node_data()"
   ]
  },
  {
   "cell_type": "code",
   "execution_count": 143,
   "id": "22ea32ff",
   "metadata": {},
   "outputs": [
    {
     "data": {
      "text/plain": [
       "0     green\n",
       "1       red\n",
       "2       red\n",
       "3       red\n",
       "4       red\n",
       "5       red\n",
       "6       red\n",
       "7       red\n",
       "8       red\n",
       "9       red\n",
       "10      red\n",
       "11      red\n",
       "12      red\n",
       "13    green\n",
       "14      red\n",
       "15      red\n",
       "16      red\n",
       "17      red\n",
       "18      red\n",
       "19      red\n",
       "20      red\n",
       "21      red\n",
       "22      red\n",
       "23      red\n",
       "24    green\n",
       "Name: color, dtype: object"
      ]
     },
     "execution_count": 143,
     "metadata": {},
     "output_type": "execute_result"
    }
   ],
   "source": [
    "# you can fetch just the color data by entering it to .get_node_data()\n",
    "color_tree.get_node_data(\"color\")"
   ]
  },
  {
   "cell_type": "code",
   "execution_count": 144,
   "id": "df4787f4",
   "metadata": {},
   "outputs": [
    {
     "data": {
      "text/html": [
       "<div class=\"toyplot\" id=\"t53d8023e7005486aa5c53b3e9339c429\" style=\"text-align:center\"><svg class=\"toyplot-canvas-Canvas\" xmlns:toyplot=\"http://www.sandia.gov/toyplot\" xmlns:xlink=\"http://www.w3.org/1999/xlink\" xmlns=\"http://www.w3.org/2000/svg\" width=\"360.0px\" height=\"275.0px\" viewBox=\"0 0 360.0 275.0\" preserveAspectRatio=\"xMidYMid meet\" style=\"background-color:transparent;border-color:#292724;border-style:none;border-width:1.0;fill:rgb(16.1%,15.3%,14.1%);fill-opacity:1.0;font-family:Helvetica;font-size:12px;opacity:1.0;stroke:rgb(16.1%,15.3%,14.1%);stroke-opacity:1.0;stroke-width:1.0\" id=\"tf3ab5a95a00d4ca9a5c2088b77d9db68\"><g class=\"toyplot-coordinates-Cartesian\" id=\"tf7314de719fa4f0caa43716a3f01acfd\"><clipPath id=\"t3db3108683a14119bb076733f5ceb32a\"><rect x=\"35.0\" y=\"35.0\" width=\"290.0\" height=\"205.0\"></rect></clipPath><g clip-path=\"url(#t3db3108683a14119bb076733f5ceb32a)\"><g class=\"toytree-mark-Toytree\" id=\"t7d99478863a34ceabd15bde10103e5d2\"><g class=\"toytree-Edges\" style=\"fill:none;stroke:rgba(16.1%,15.3%,14.1%,1.000);stroke-linecap:round;stroke-width:2.0\"><path d=\"M 123.6 212.1 L 123.6 218.9 L 134.0 218.9\" id=\"13,0\" style=\"stroke-width:nan\"></path><path d=\"M 123.6 212.1 L 123.6 205.3 L 133.5 205.3\" id=\"13,1\" style=\"stroke-width:nan\"></path><path d=\"M 145.3 176.1 L 145.3 191.7 L 168.0 191.7\" id=\"19,2\" style=\"stroke-width:nan\"></path><path d=\"M 149.4 160.4 L 149.4 178.2 L 175.7 178.2\" id=\"18,3\" style=\"stroke-width:nan\"></path><path d=\"M 161.5 157.8 L 161.5 164.6 L 175.0 164.6\" id=\"14,4\" style=\"stroke-width:nan\"></path><path d=\"M 161.5 157.8 L 161.5 151.1 L 175.2 151.1\" id=\"14,5\" style=\"stroke-width:nan\"></path><path d=\"M 155.5 127.3 L 155.5 137.5 L 178.8 137.5\" id=\"16,6\" style=\"stroke-width:nan\"></path><path d=\"M 180.3 117.2 L 180.3 123.9 L 184.2 123.9\" id=\"15,7\" style=\"stroke-width:nan\"></path><path d=\"M 180.3 117.2 L 180.3 110.4 L 184.7 110.4\" id=\"15,8\" style=\"stroke-width:nan\"></path><path d=\"M 145.1 90.0 L 145.1 96.8 L 170.6 96.8\" id=\"20,9\" style=\"stroke-width:nan\"></path><path d=\"M 145.1 90.0 L 145.1 83.3 L 172.0 83.3\" id=\"20,10\" style=\"stroke-width:nan\"></path><path d=\"M 173.4 62.9 L 173.4 69.7 L 173.7 69.7\" id=\"21,11\" style=\"stroke-width:nan\"></path><path d=\"M 173.4 62.9 L 173.4 56.1 L 173.6 56.1\" id=\"21,12\" style=\"stroke-width:nan\"></path><path d=\"M 51.5 169.2 L 51.5 212.1 L 123.6 212.1\" id=\"24,13\" style=\"stroke-width:nan\"></path><path d=\"M 152.6 142.6 L 152.6 157.8 L 161.5 157.8\" id=\"17,14\" style=\"stroke-width:nan\"></path><path d=\"M 155.5 127.3 L 155.5 117.2 L 180.3 117.2\" id=\"16,15\" style=\"stroke-width:nan\"></path><path d=\"M 152.6 142.6 L 152.6 127.3 L 155.5 127.3\" id=\"17,16\" style=\"stroke-width:nan\"></path><path d=\"M 149.4 160.4 L 149.4 142.6 L 152.6 142.6\" id=\"18,17\" style=\"stroke-width:nan\"></path><path d=\"M 145.3 176.1 L 145.3 160.4 L 149.4 160.4\" id=\"19,18\" style=\"stroke-width:nan\"></path><path d=\"M 123.6 126.3 L 123.6 176.1 L 145.3 176.1\" id=\"23,19\" style=\"stroke-width:nan\"></path><path d=\"M 135.6 76.5 L 135.6 90.0 L 145.1 90.0\" id=\"22,20\" style=\"stroke-width:nan\"></path><path d=\"M 135.6 76.5 L 135.6 62.9 L 173.4 62.9\" id=\"22,21\" style=\"stroke-width:nan\"></path><path d=\"M 123.6 126.3 L 123.6 76.5 L 135.6 76.5\" id=\"23,22\" style=\"stroke-width:nan\"></path><path d=\"M 51.5 169.2 L 51.5 126.3 L 123.6 126.3\" id=\"24,23\" style=\"stroke-width:nan\"></path></g><g class=\"toytree-Nodes\" style=\"stroke:#262626;stroke-width:1.0\"><g id=\"node-0\" style=\"fill:rgb(0%,50.2%,0%);fill-opacity:1.0\" transform=\"translate(134.027,218.863)\"><circle r=\"3.0\"></circle></g><g id=\"node-1\" style=\"fill:rgb(100%,0%,0%);fill-opacity:1.0\" transform=\"translate(133.537,205.302)\"><circle r=\"3.0\"></circle></g><g id=\"node-2\" style=\"fill:rgb(100%,0%,0%);fill-opacity:1.0\" transform=\"translate(167.968,191.742)\"><circle r=\"3.0\"></circle></g><g id=\"node-3\" style=\"fill:rgb(100%,0%,0%);fill-opacity:1.0\" transform=\"translate(175.652,178.181)\"><circle r=\"3.0\"></circle></g><g id=\"node-4\" style=\"fill:rgb(100%,0%,0%);fill-opacity:1.0\" transform=\"translate(174.990,164.621)\"><circle r=\"3.0\"></circle></g><g id=\"node-5\" style=\"fill:rgb(100%,0%,0%);fill-opacity:1.0\" transform=\"translate(175.173,151.060)\"><circle r=\"3.0\"></circle></g><g id=\"node-6\" style=\"fill:rgb(100%,0%,0%);fill-opacity:1.0\" transform=\"translate(178.848,137.500)\"><circle r=\"3.0\"></circle></g><g id=\"node-7\" style=\"fill:rgb(100%,0%,0%);fill-opacity:1.0\" transform=\"translate(184.200,123.940)\"><circle r=\"3.0\"></circle></g><g id=\"node-8\" style=\"fill:rgb(100%,0%,0%);fill-opacity:1.0\" transform=\"translate(184.723,110.379)\"><circle r=\"3.0\"></circle></g><g id=\"node-9\" style=\"fill:rgb(100%,0%,0%);fill-opacity:1.0\" transform=\"translate(170.611,96.819)\"><circle r=\"3.0\"></circle></g><g id=\"node-10\" style=\"fill:rgb(100%,0%,0%);fill-opacity:1.0\" transform=\"translate(172.046,83.258)\"><circle r=\"3.0\"></circle></g><g id=\"node-11\" style=\"fill:rgb(100%,0%,0%);fill-opacity:1.0\" transform=\"translate(173.732,69.698)\"><circle r=\"3.0\"></circle></g><g id=\"node-12\" style=\"fill:rgb(100%,0%,0%);fill-opacity:1.0\" transform=\"translate(173.587,56.137)\"><circle r=\"3.0\"></circle></g><g id=\"node-13\" style=\"fill:rgb(0%,50.2%,0%);fill-opacity:1.0\" transform=\"translate(123.607,212.083)\"><circle r=\"3.0\"></circle></g><g id=\"node-14\" style=\"fill:rgb(100%,0%,0%);fill-opacity:1.0\" transform=\"translate(161.514,157.841)\"><circle r=\"3.0\"></circle></g><g id=\"node-15\" style=\"fill:rgb(100%,0%,0%);fill-opacity:1.0\" transform=\"translate(180.335,117.159)\"><circle r=\"3.0\"></circle></g><g id=\"node-16\" style=\"fill:rgb(100%,0%,0%);fill-opacity:1.0\" transform=\"translate(155.523,127.330)\"><circle r=\"3.0\"></circle></g><g id=\"node-17\" style=\"fill:rgb(100%,0%,0%);fill-opacity:1.0\" transform=\"translate(152.554,142.585)\"><circle r=\"3.0\"></circle></g><g id=\"node-18\" style=\"fill:rgb(100%,0%,0%);fill-opacity:1.0\" transform=\"translate(149.406,160.383)\"><circle r=\"3.0\"></circle></g><g id=\"node-19\" style=\"fill:rgb(100%,0%,0%);fill-opacity:1.0\" transform=\"translate(145.253,176.063)\"><circle r=\"3.0\"></circle></g><g id=\"node-20\" style=\"fill:rgb(100%,0%,0%);fill-opacity:1.0\" transform=\"translate(145.128,90.038)\"><circle r=\"3.0\"></circle></g><g id=\"node-21\" style=\"fill:rgb(100%,0%,0%);fill-opacity:1.0\" transform=\"translate(173.375,62.917)\"><circle r=\"3.0\"></circle></g><g id=\"node-22\" style=\"fill:rgb(100%,0%,0%);fill-opacity:1.0\" transform=\"translate(135.565,76.478)\"><circle r=\"3.0\"></circle></g><g id=\"node-23\" style=\"fill:rgb(100%,0%,0%);fill-opacity:1.0\" transform=\"translate(123.607,126.270)\"><circle r=\"3.0\"></circle></g><g id=\"node-24\" style=\"fill:rgb(0%,50.2%,0%);fill-opacity:1.0\" transform=\"translate(51.537,169.176)\"><circle r=\"3.0\"></circle></g></g><g class=\"toytree-TipLabels\" style=\"fill:rgb(16.1%,15.3%,14.1%);fill-opacity:1.0;font-family:Helvetica;font-size:11.0px;font-weight:300;stroke:none;vertical-align:baseline;white-space:pre\"><g class=\"toytree-TipLabel\" transform=\"translate(134.0265616250538,218.86291179596174)\"><text x=\"15.0\" y=\"2.8104999999999993\" style=\"\">32082_przewalskii</text></g><g class=\"toytree-TipLabel\" transform=\"translate(133.53667921380818,205.30242649663478)\"><text x=\"15.0\" y=\"2.8104999999999993\" style=\"\">33588_przewalskii</text></g><g class=\"toytree-TipLabel\" transform=\"translate(167.96830237242315,191.74194119730782)\"><text x=\"15.0\" y=\"2.8104999999999993\" style=\"\">33413_thamno</text></g><g class=\"toytree-TipLabel\" transform=\"translate(175.65219480502134,178.18145589798087)\"><text x=\"15.0\" y=\"2.8104999999999993\" style=\"\">30556_thamno</text></g><g class=\"toytree-TipLabel\" transform=\"translate(174.99020244099475,164.6209705986539)\"><text x=\"15.0\" y=\"2.8104999999999993\" style=\"\">40578_rex</text></g><g class=\"toytree-TipLabel\" transform=\"translate(175.1733066573532,151.06048529932696)\"><text x=\"15.0\" y=\"2.8104999999999993\" style=\"\">35855_rex</text></g><g class=\"toytree-TipLabel\" transform=\"translate(178.8477832697217,137.5)\"><text x=\"15.0\" y=\"2.8104999999999993\" style=\"\">35236_rex</text></g><g class=\"toytree-TipLabel\" transform=\"translate(184.20011082951592,123.93951470067304)\"><text x=\"15.0\" y=\"2.8104999999999993\" style=\"\">39618_rex</text></g><g class=\"toytree-TipLabel\" transform=\"translate(184.72285739773918,110.37902940134609)\"><text x=\"15.0\" y=\"2.8104999999999993\" style=\"\">38362_rex</text></g><g class=\"toytree-TipLabel\" transform=\"translate(170.61115634315732,96.81854410201913)\"><text x=\"15.0\" y=\"2.8104999999999993\" style=\"\">29154_superba</text></g><g class=\"toytree-TipLabel\" transform=\"translate(172.04588850073347,83.25805880269218)\"><text x=\"15.0\" y=\"2.8104999999999993\" style=\"\">30686_cyathophylla</text></g><g class=\"toytree-TipLabel\" transform=\"translate(173.73218390297728,69.6975735033652)\"><text x=\"15.0\" y=\"2.8104999999999993\" style=\"\">41954_cyathophylloides</text></g><g class=\"toytree-TipLabel\" transform=\"translate(173.5873031797366,56.13708820403825)\"><text x=\"15.0\" y=\"2.8104999999999993\" style=\"\">41478_cyathophylloides</text></g></g></g></g></g></svg><div class=\"toyplot-behavior\"><script>(function()\n",
       "{\n",
       "var modules={};\n",
       "})();</script></div></div>"
      ]
     },
     "metadata": {},
     "output_type": "display_data"
    }
   ],
   "source": [
    "# and you can pass this as a argument to .draw()\n",
    "color_tree.draw(\n",
    "    node_sizes=6,\n",
    "    node_colors=color_tree.get_node_data(\"color\"),\n",
    "    node_mask=False,\n",
    ");"
   ]
  },
  {
   "cell_type": "markdown",
   "id": "b4aad8c6",
   "metadata": {},
   "source": [
    "This design in `toytree` of assigning data to Nodes on a tree, and then extracting those data from the tree to enter as arguments when plotting, is much more fool-proof than simply entering a list of colors, or any other data, since you may be uncertain about which order they should be entered, e.g., from root to tips, tips-root, etc. (we'll cover much more on traversal orders later). Thus it greatly reduces errors in your code.\n"
   ]
  },
  {
   "cell_type": "markdown",
   "id": "99d22298",
   "metadata": {},
   "source": [
    "### Subpackages\n",
    "\n",
    "In addition to visualization `toytree` has many additional uses for working with trees. Many of these functions are located in subpackages that are accessed in `toytree.distance`, `toytree.rtree`, `toytree.mod`, and more. Below these are breifly demonstrated.\n"
   ]
  },
  {
   "cell_type": "code",
   "execution_count": 146,
   "id": "9cf453e6",
   "metadata": {},
   "outputs": [
    {
     "data": {
      "text/plain": [
       "0"
      ]
     },
     "execution_count": 146,
     "metadata": {},
     "output_type": "execute_result"
    }
   ],
   "source": [
    "# distance: various measures of distances between Nodes or Trees\n",
    "toytree.distance.get_treedist_rf(rtre, tre)"
   ]
  },
  {
   "cell_type": "code",
   "execution_count": 152,
   "id": "91117a96",
   "metadata": {},
   "outputs": [
    {
     "data": {
      "text/html": [
       "<div class=\"toyplot\" id=\"t33c6aff633d34adbb8250bf541d50cdc\" style=\"text-align:center\"><svg class=\"toyplot-canvas-Canvas\" xmlns:toyplot=\"http://www.sandia.gov/toyplot\" xmlns:xlink=\"http://www.w3.org/1999/xlink\" xmlns=\"http://www.w3.org/2000/svg\" width=\"260.0px\" height=\"275.0px\" viewBox=\"0 0 260.0 275.0\" preserveAspectRatio=\"xMidYMid meet\" style=\"background-color:transparent;border-color:#292724;border-style:none;border-width:1.0;fill:rgb(16.1%,15.3%,14.1%);fill-opacity:1.0;font-family:Helvetica;font-size:12px;opacity:1.0;stroke:rgb(16.1%,15.3%,14.1%);stroke-opacity:1.0;stroke-width:1.0\" id=\"t4f0ee9376616427b8baa0b62d9ddad97\"><g class=\"toyplot-coordinates-Cartesian\" id=\"tf2984da03bb84806a6365267df0b25ad\"><clipPath id=\"t07264ef4406f459394d20ba747454650\"><rect x=\"35.0\" y=\"35.0\" width=\"190.0\" height=\"205.0\"></rect></clipPath><g clip-path=\"url(#t07264ef4406f459394d20ba747454650)\"><g class=\"toytree-mark-Toytree\" id=\"t56618fa4830e4c3fba53e7d7e86cd837\"><g class=\"toytree-Edges\" style=\"fill:none;stroke:rgba(16.1%,15.3%,14.1%,1.000);stroke-linecap:round;stroke-width:2.0\"><path d=\"M 81.0 199.7 L 81.0 218.9 L 172.2 218.9\" id=\"13,0\" style=\"stroke-width:nan\"></path><path d=\"M 83.5 180.4 L 83.5 200.8 L 172.2 200.8\" id=\"12,1\" style=\"stroke-width:nan\"></path><path d=\"M 167.3 173.7 L 167.3 182.7 L 172.2 182.7\" id=\"10,2\" style=\"stroke-width:nan\"></path><path d=\"M 167.3 173.7 L 167.3 164.6 L 172.2 164.6\" id=\"10,3\" style=\"stroke-width:nan\"></path><path d=\"M 160.8 160.1 L 160.8 146.5 L 172.2 146.5\" id=\"11,4\" style=\"stroke-width:nan\"></path><path d=\"M 127.5 111.5 L 127.5 128.5 L 172.2 128.5\" id=\"17,5\" style=\"stroke-width:nan\"></path><path d=\"M 163.6 94.6 L 163.6 110.4 L 172.2 110.4\" id=\"16,6\" style=\"stroke-width:nan\"></path><path d=\"M 165.4 78.7 L 165.4 92.3 L 172.2 92.3\" id=\"15,7\" style=\"stroke-width:nan\"></path><path d=\"M 172.1 65.2 L 172.1 74.2 L 172.2 74.2\" id=\"14,8\" style=\"stroke-width:nan\"></path><path d=\"M 172.1 65.2 L 172.1 56.1 L 172.2 56.1\" id=\"14,9\" style=\"stroke-width:nan\"></path><path d=\"M 160.8 160.1 L 160.8 173.7 L 167.3 173.7\" id=\"11,10\" style=\"stroke-width:nan\"></path><path d=\"M 83.5 180.4 L 83.5 160.1 L 160.8 160.1\" id=\"12,11\" style=\"stroke-width:nan\"></path><path d=\"M 81.0 199.7 L 81.0 180.4 L 83.5 180.4\" id=\"13,12\" style=\"stroke-width:nan\"></path><path d=\"M 50.0 155.6 L 50.0 199.7 L 81.0 199.7\" id=\"18,13\" style=\"stroke-width:nan\"></path><path d=\"M 165.4 78.7 L 165.4 65.2 L 172.1 65.2\" id=\"15,14\" style=\"stroke-width:nan\"></path><path d=\"M 163.6 94.6 L 163.6 78.7 L 165.4 78.7\" id=\"16,15\" style=\"stroke-width:nan\"></path><path d=\"M 127.5 111.5 L 127.5 94.6 L 163.6 94.6\" id=\"17,16\" style=\"stroke-width:nan\"></path><path d=\"M 50.0 155.6 L 50.0 111.5 L 127.5 111.5\" id=\"18,17\" style=\"stroke-width:nan\"></path></g><g class=\"toytree-TipLabels\" style=\"fill:rgb(16.1%,15.3%,14.1%);fill-opacity:1.0;font-family:Helvetica;font-size:11.0px;font-weight:300;stroke:none;vertical-align:baseline;white-space:pre\"><g class=\"toytree-TipLabel\" transform=\"translate(172.1618835835425,218.86291179596174)\"><text x=\"15.0\" y=\"2.8104999999999993\" style=\"\">r0</text></g><g class=\"toytree-TipLabel\" transform=\"translate(172.1618835835425,200.78226473019248)\"><text x=\"15.0\" y=\"2.8104999999999993\" style=\"\">r1</text></g><g class=\"toytree-TipLabel\" transform=\"translate(172.1618835835425,182.70161766442322)\"><text x=\"15.0\" y=\"2.8104999999999993\" style=\"\">r2</text></g><g class=\"toytree-TipLabel\" transform=\"translate(172.1618835835425,164.6209705986539)\"><text x=\"15.0\" y=\"2.8104999999999993\" style=\"\">r3</text></g><g class=\"toytree-TipLabel\" transform=\"translate(172.1618835835425,146.54032353288463)\"><text x=\"15.0\" y=\"2.8104999999999993\" style=\"\">r4</text></g><g class=\"toytree-TipLabel\" transform=\"translate(172.16188358354248,128.45967646711534)\"><text x=\"15.0\" y=\"2.8104999999999993\" style=\"\">r5</text></g><g class=\"toytree-TipLabel\" transform=\"translate(172.1618835835425,110.37902940134609)\"><text x=\"15.0\" y=\"2.8104999999999993\" style=\"\">r6</text></g><g class=\"toytree-TipLabel\" transform=\"translate(172.1618835835425,92.2983823355768)\"><text x=\"15.0\" y=\"2.8104999999999993\" style=\"\">r7</text></g><g class=\"toytree-TipLabel\" transform=\"translate(172.1618835835425,74.2177352698075)\"><text x=\"15.0\" y=\"2.8104999999999993\" style=\"\">r8</text></g><g class=\"toytree-TipLabel\" transform=\"translate(172.1618835835425,56.137088204038236)\"><text x=\"15.0\" y=\"2.8104999999999993\" style=\"\">r9</text></g></g></g></g></g></svg><div class=\"toyplot-behavior\"><script>(function()\n",
       "{\n",
       "var modules={};\n",
       "})();</script></div></div>"
      ]
     },
     "metadata": {},
     "output_type": "display_data"
    }
   ],
   "source": [
    "# rtree: generate random trees under a number of generative methods\n",
    "random_tree = toytree.rtree.bdtree(ntips=10)\n",
    "random_tree.draw();"
   ]
  },
  {
   "cell_type": "code",
   "execution_count": 153,
   "id": "41108097",
   "metadata": {},
   "outputs": [
    {
     "data": {
      "text/html": [
       "<div class=\"toyplot\" id=\"t8cee0945115842939e31c47066106422\" style=\"text-align:center\"><svg class=\"toyplot-canvas-Canvas\" xmlns:toyplot=\"http://www.sandia.gov/toyplot\" xmlns:xlink=\"http://www.w3.org/1999/xlink\" xmlns=\"http://www.w3.org/2000/svg\" width=\"260.0px\" height=\"275.0px\" viewBox=\"0 0 260.0 275.0\" preserveAspectRatio=\"xMidYMid meet\" style=\"background-color:transparent;border-color:#292724;border-style:none;border-width:1.0;fill:rgb(16.1%,15.3%,14.1%);fill-opacity:1.0;font-family:Helvetica;font-size:12px;opacity:1.0;stroke:rgb(16.1%,15.3%,14.1%);stroke-opacity:1.0;stroke-width:1.0\" id=\"t471259e7601542348bbf64eaba5255fb\"><g class=\"toyplot-coordinates-Cartesian\" id=\"t90156204092e44ed86aa2a0693dff27c\"><clipPath id=\"t79711f1989034cedbbaeb4d5777b11ab\"><rect x=\"35.0\" y=\"35.0\" width=\"190.0\" height=\"205.0\"></rect></clipPath><g clip-path=\"url(#t79711f1989034cedbbaeb4d5777b11ab)\"><g class=\"toytree-mark-Toytree\" id=\"t919355e6093b458f86a5eab685c25945\"><g class=\"toytree-Edges\" style=\"fill:none;stroke:rgba(16.1%,15.3%,14.1%,1.000);stroke-linecap:round;stroke-width:2.0\"><path d=\"M 81.0 199.7 L 81.0 218.9 L 172.2 218.9\" id=\"13,0\" style=\"stroke-width:nan\"></path><path d=\"M 83.5 180.4 L 83.5 200.8 L 172.2 200.8\" id=\"12,1\" style=\"stroke-width:nan\"></path><path d=\"M 167.3 173.7 L 167.3 182.7 L 172.2 182.7\" id=\"10,2\" style=\"stroke-width:nan\"></path><path d=\"M 167.3 173.7 L 167.3 164.6 L 172.2 164.6\" id=\"10,3\" style=\"stroke-width:nan\"></path><path d=\"M 160.8 160.1 L 160.8 146.5 L 172.2 146.5\" id=\"11,4\" style=\"stroke-width:nan\"></path><path d=\"M 127.5 111.5 L 127.5 128.5 L 172.2 128.5\" id=\"17,5\" style=\"stroke-width:nan\"></path><path d=\"M 163.6 94.6 L 163.6 110.4 L 172.2 110.4\" id=\"16,6\" style=\"stroke-width:nan\"></path><path d=\"M 165.4 78.7 L 165.4 92.3 L 172.2 92.3\" id=\"15,7\" style=\"stroke-width:nan\"></path><path d=\"M 172.1 65.2 L 172.1 74.2 L 172.2 74.2\" id=\"14,8\" style=\"stroke-width:nan\"></path><path d=\"M 172.1 65.2 L 172.1 56.1 L 172.2 56.1\" id=\"14,9\" style=\"stroke-width:nan\"></path><path d=\"M 160.8 160.1 L 160.8 173.7 L 167.3 173.7\" id=\"11,10\" style=\"stroke-width:nan\"></path><path d=\"M 83.5 180.4 L 83.5 160.1 L 160.8 160.1\" id=\"12,11\" style=\"stroke-width:nan\"></path><path d=\"M 81.0 199.7 L 81.0 180.4 L 83.5 180.4\" id=\"13,12\" style=\"stroke-width:nan\"></path><path d=\"M 50.0 155.6 L 50.0 199.7 L 81.0 199.7\" id=\"18,13\" style=\"stroke-width:nan\"></path><path d=\"M 165.4 78.7 L 165.4 65.2 L 172.1 65.2\" id=\"15,14\" style=\"stroke-width:nan\"></path><path d=\"M 163.6 94.6 L 163.6 78.7 L 165.4 78.7\" id=\"16,15\" style=\"stroke-width:nan\"></path><path d=\"M 127.5 111.5 L 127.5 94.6 L 163.6 94.6\" id=\"17,16\" style=\"stroke-width:nan\"></path><path d=\"M 50.0 155.6 L 50.0 111.5 L 127.5 111.5\" id=\"18,17\" style=\"stroke-width:nan\"></path></g><g class=\"toytree-TipLabels\" style=\"fill:rgb(16.1%,15.3%,14.1%);fill-opacity:1.0;font-family:Helvetica;font-size:11.0px;font-weight:300;stroke:none;vertical-align:baseline;white-space:pre\"><g class=\"toytree-TipLabel\" transform=\"translate(172.16188358354253,218.86291179596174)\"><text x=\"15.0\" y=\"2.8104999999999993\" style=\"\">r0</text></g><g class=\"toytree-TipLabel\" transform=\"translate(172.16188358354253,200.78226473019248)\"><text x=\"15.0\" y=\"2.8104999999999993\" style=\"\">r1</text></g><g class=\"toytree-TipLabel\" transform=\"translate(172.16188358354253,182.70161766442322)\"><text x=\"15.0\" y=\"2.8104999999999993\" style=\"\">r2</text></g><g class=\"toytree-TipLabel\" transform=\"translate(172.16188358354253,164.6209705986539)\"><text x=\"15.0\" y=\"2.8104999999999993\" style=\"\">r3</text></g><g class=\"toytree-TipLabel\" transform=\"translate(172.16188358354253,146.54032353288463)\"><text x=\"15.0\" y=\"2.8104999999999993\" style=\"\">r4</text></g><g class=\"toytree-TipLabel\" transform=\"translate(172.1618835835425,128.45967646711534)\"><text x=\"15.0\" y=\"2.8104999999999993\" style=\"\">r5</text></g><g class=\"toytree-TipLabel\" transform=\"translate(172.16188358354253,110.37902940134609)\"><text x=\"15.0\" y=\"2.8104999999999993\" style=\"\">r6</text></g><g class=\"toytree-TipLabel\" transform=\"translate(172.16188358354253,92.2983823355768)\"><text x=\"15.0\" y=\"2.8104999999999993\" style=\"\">r7</text></g><g class=\"toytree-TipLabel\" transform=\"translate(172.16188358354253,74.2177352698075)\"><text x=\"15.0\" y=\"2.8104999999999993\" style=\"\">r8</text></g><g class=\"toytree-TipLabel\" transform=\"translate(172.16188358354253,56.137088204038236)\"><text x=\"15.0\" y=\"2.8104999999999993\" style=\"\">r9</text></g></g></g></g><g class=\"toyplot-coordinates-Axis\" id=\"t67b7dc3a6ac44f669279a4b588a77c1b\" transform=\"translate(50.0,225.0)translate(0,15.0)\"><line x1=\"0\" y1=\"0\" x2=\"122.16188358354252\" y2=\"0\" style=\"\"></line><g><line x1=\"12.216188358354238\" y1=\"0\" x2=\"12.216188358354238\" y2=\"-5\" style=\"\"></line><line x1=\"48.864753433417\" y1=\"0\" x2=\"48.864753433417\" y2=\"-5\" style=\"\"></line><line x1=\"85.51331850847976\" y1=\"0\" x2=\"85.51331850847976\" y2=\"-5\" style=\"\"></line><line x1=\"122.16188358354252\" y1=\"0\" x2=\"122.16188358354252\" y2=\"-5\" style=\"\"></line></g><g><g transform=\"translate(12.216188358354238,6)\"><text x=\"-8.34\" y=\"8.555\" style=\"fill:rgb(16.1%,15.3%,14.1%);fill-opacity:1.0;font-family:helvetica;font-size:10.0px;font-weight:normal;stroke:none;vertical-align:baseline;white-space:pre\">900</text></g><g transform=\"translate(48.864753433417,6)\"><text x=\"-8.34\" y=\"8.555\" style=\"fill:rgb(16.1%,15.3%,14.1%);fill-opacity:1.0;font-family:helvetica;font-size:10.0px;font-weight:normal;stroke:none;vertical-align:baseline;white-space:pre\">600</text></g><g transform=\"translate(85.51331850847976,6)\"><text x=\"-8.34\" y=\"8.555\" style=\"fill:rgb(16.1%,15.3%,14.1%);fill-opacity:1.0;font-family:helvetica;font-size:10.0px;font-weight:normal;stroke:none;vertical-align:baseline;white-space:pre\">300</text></g><g transform=\"translate(122.16188358354252,6)\"><text x=\"-2.78\" y=\"8.555\" style=\"fill:rgb(16.1%,15.3%,14.1%);fill-opacity:1.0;font-family:helvetica;font-size:10.0px;font-weight:normal;stroke:none;vertical-align:baseline;white-space:pre\">0</text></g></g><g class=\"toyplot-coordinates-Axis-coordinates\" style=\"visibility:hidden\" transform=\"\"><line x1=\"0\" x2=\"0\" y1=\"-3.0\" y2=\"4.5\" style=\"stroke:rgb(43.9%,50.2%,56.5%);stroke-opacity:1.0;stroke-width:1.0\"></line><text x=\"0\" y=\"-6\" style=\"alignment-baseline:alphabetic;fill:rgb(43.9%,50.2%,56.5%);fill-opacity:1.0;font-size:10px;font-weight:normal;stroke:none;text-anchor:middle\"></text></g></g></g></svg><div class=\"toyplot-behavior\"><script>(function()\n",
       "{\n",
       "var modules={};\n",
       "modules[\"toyplot/canvas/id\"] = \"t471259e7601542348bbf64eaba5255fb\";\n",
       "modules[\"toyplot/canvas\"] = (function(canvas_id)\n",
       "    {\n",
       "        return document.querySelector(\"#\" + canvas_id);\n",
       "    })(modules[\"toyplot/canvas/id\"]);\n",
       "modules[\"toyplot.coordinates.Axis\"] = (\n",
       "        function(canvas)\n",
       "        {\n",
       "            function sign(x)\n",
       "            {\n",
       "                return x < 0 ? -1 : x > 0 ? 1 : 0;\n",
       "            }\n",
       "\n",
       "            function mix(a, b, amount)\n",
       "            {\n",
       "                return ((1.0 - amount) * a) + (amount * b);\n",
       "            }\n",
       "\n",
       "            function log(x, base)\n",
       "            {\n",
       "                return Math.log(Math.abs(x)) / Math.log(base);\n",
       "            }\n",
       "\n",
       "            function in_range(a, x, b)\n",
       "            {\n",
       "                var left = Math.min(a, b);\n",
       "                var right = Math.max(a, b);\n",
       "                return left <= x && x <= right;\n",
       "            }\n",
       "\n",
       "            function inside(range, projection)\n",
       "            {\n",
       "                for(var i = 0; i != projection.length; ++i)\n",
       "                {\n",
       "                    var segment = projection[i];\n",
       "                    if(in_range(segment.range.min, range, segment.range.max))\n",
       "                        return true;\n",
       "                }\n",
       "                return false;\n",
       "            }\n",
       "\n",
       "            function to_domain(range, projection)\n",
       "            {\n",
       "                for(var i = 0; i != projection.length; ++i)\n",
       "                {\n",
       "                    var segment = projection[i];\n",
       "                    if(in_range(segment.range.bounds.min, range, segment.range.bounds.max))\n",
       "                    {\n",
       "                        if(segment.scale == \"linear\")\n",
       "                        {\n",
       "                            var amount = (range - segment.range.min) / (segment.range.max - segment.range.min);\n",
       "                            return mix(segment.domain.min, segment.domain.max, amount)\n",
       "                        }\n",
       "                        else if(segment.scale[0] == \"log\")\n",
       "                        {\n",
       "                            var amount = (range - segment.range.min) / (segment.range.max - segment.range.min);\n",
       "                            var base = segment.scale[1];\n",
       "                            return sign(segment.domain.min) * Math.pow(base, mix(log(segment.domain.min, base), log(segment.domain.max, base), amount));\n",
       "                        }\n",
       "                    }\n",
       "                }\n",
       "            }\n",
       "\n",
       "            var axes = {};\n",
       "\n",
       "            function display_coordinates(e)\n",
       "            {\n",
       "                var current = canvas.createSVGPoint();\n",
       "                current.x = e.clientX;\n",
       "                current.y = e.clientY;\n",
       "\n",
       "                for(var axis_id in axes)\n",
       "                {\n",
       "                    var axis = document.querySelector(\"#\" + axis_id);\n",
       "                    var coordinates = axis.querySelector(\".toyplot-coordinates-Axis-coordinates\");\n",
       "                    if(coordinates)\n",
       "                    {\n",
       "                        var projection = axes[axis_id];\n",
       "                        var local = current.matrixTransform(axis.getScreenCTM().inverse());\n",
       "                        if(inside(local.x, projection))\n",
       "                        {\n",
       "                            var domain = to_domain(local.x, projection);\n",
       "                            coordinates.style.visibility = \"visible\";\n",
       "                            coordinates.setAttribute(\"transform\", \"translate(\" + local.x + \")\");\n",
       "                            var text = coordinates.querySelector(\"text\");\n",
       "                            text.textContent = domain.toFixed(2);\n",
       "                        }\n",
       "                        else\n",
       "                        {\n",
       "                            coordinates.style.visibility= \"hidden\";\n",
       "                        }\n",
       "                    }\n",
       "                }\n",
       "            }\n",
       "\n",
       "            canvas.addEventListener(\"click\", display_coordinates);\n",
       "\n",
       "            var module = {};\n",
       "            module.show_coordinates = function(axis_id, projection)\n",
       "            {\n",
       "                axes[axis_id] = projection;\n",
       "            }\n",
       "\n",
       "            return module;\n",
       "        })(modules[\"toyplot/canvas\"]);\n",
       "(function(axis, axis_id, projection)\n",
       "        {\n",
       "            axis.show_coordinates(axis_id, projection);\n",
       "        })(modules[\"toyplot.coordinates.Axis\"],\"t67b7dc3a6ac44f669279a4b588a77c1b\",[{\"domain\": {\"bounds\": {\"max\": Infinity, \"min\": -Infinity}, \"max\": 309.73749999999995, \"min\": -999.9999999999999}, \"range\": {\"bounds\": {\"max\": Infinity, \"min\": -Infinity}, \"max\": 160.0, \"min\": 0.0}, \"scale\": \"linear\"}]);\n",
       "})();</script></div></div>"
      ]
     },
     "metadata": {},
     "output_type": "display_data"
    }
   ],
   "source": [
    "# mod: modify tree relationships or features\n",
    "random_tree2 = random_tree.mod.edges_scale_to_root_height(1000)\n",
    "random_tree2.draw(scale_bar=True);"
   ]
  },
  {
   "cell_type": "markdown",
   "id": "b5cee836",
   "metadata": {},
   "source": [
    "### Conclusion\n",
    "\n",
    "This was a very brief introduction to the `toytree` Python package. See the complete documentation for further details on the methods shown here, as well as many more. "
   ]
  }
 ],
 "metadata": {
  "kernelspec": {
   "display_name": "Python 3 (ipykernel)",
   "language": "python",
   "name": "python3"
  },
  "language_info": {
   "codemirror_mode": {
    "name": "ipython",
    "version": 3
   },
   "file_extension": ".py",
   "mimetype": "text/x-python",
   "name": "python",
   "nbconvert_exporter": "python",
   "pygments_lexer": "ipython3",
   "version": "3.9.7"
  }
 },
 "nbformat": 4,
 "nbformat_minor": 5
}
