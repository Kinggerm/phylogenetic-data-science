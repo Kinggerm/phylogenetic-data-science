{
 "cells": [
  {
   "cell_type": "markdown",
   "id": "103fa749-49a5-4ee2-91ce-60f309986275",
   "metadata": {
    "tags": []
   },
   "source": [
    "# Iterator\n",
    "Iterators are a type of object in Python containing other types of data (iterables) and can traverse all values using the method `__next__` or the function `next()`.  They can be defined using the function `iter()`, and they also can be the result of other functions found in Python.\n",
    "\n",
    "The biggest difference between an iterator with an iterable (like a list, tuple, dictionary, or sets) is that the latter is just a container.\n",
    "\n",
    "Let's define one iterator from a simple list:"
   ]
  },
  {
   "cell_type": "code",
   "execution_count": null,
   "id": "b832f3db-f868-488d-8f11-8b1386f099f2",
   "metadata": {},
   "outputs": [],
   "source": [
    "my_list = [1, 2, 3, 4, 5, 6]\n",
    "\n",
    "my_iterator = iter(my_list)"
   ]
  },
  {
   "cell_type": "markdown",
   "id": "7465b62f-1707-457e-8733-f79a72bd3a3d",
   "metadata": {},
   "source": [
    "You can traverse through all the value only using the function `next()`. You can see this when you run the following cell multiple times. Notice how the element returned will change every time you call `next`."
   ]
  },
  {
   "cell_type": "code",
   "execution_count": null,
   "id": "49442ac9-8f3a-4927-bcc4-7804a52c9fe1",
   "metadata": {},
   "outputs": [],
   "source": [
    "next(my_iterator)\n",
    "# or using my_iterator.__next__()"
   ]
  },
  {
   "cell_type": "markdown",
   "id": "cdb3a962-a328-4ecc-a4e9-5906ce760f60",
   "metadata": {},
   "source": [
    "This is what a `for` statement does. It creates an iterator from an iterable and executes the method `__next__` for each loop.\n",
    "\n",
    "You can convert an iterator in an interable using the proper function. For example, in the following code, we will transform our iterator into a set:"
   ]
  },
  {
   "cell_type": "code",
   "execution_count": null,
   "id": "caa25ec4-b7c1-4e41-b3cb-4690e7647601",
   "metadata": {},
   "outputs": [],
   "source": [
    "set(my_iterator)"
   ]
  },
  {
   "cell_type": "markdown",
   "id": "257df20e-22f4-45ff-8a16-32d437040615",
   "metadata": {},
   "source": [
    "Keep in mind that only the remaining elements in our iterator will be shown in our previous set.\n",
    "\n",
    "One advantage of iterators is that they only store one value at a time in memory. This is especially valuable when you design custom iterators using rules to define the next value instead of just giving a list of elements. Check the differences in the size of our list and our iterator."
   ]
  },
  {
   "cell_type": "code",
   "execution_count": null,
   "id": "5f1240fa-449f-498f-a1e7-456af9365d87",
   "metadata": {},
   "outputs": [],
   "source": [
    "from sys import getsizeof\n",
    "\n",
    "print(getsizeof(my_list))\n",
    "print(getsizeof(my_iterator))"
   ]
  },
  {
   "cell_type": "markdown",
   "id": "4eaa21f2-4372-4c60-a11c-21f64917ec29",
   "metadata": {},
   "source": [
    "## Combinatorics in Python"
   ]
  },
  {
   "cell_type": "markdown",
   "id": "96428dd3-9515-4b8c-aca9-7636b72f6cc4",
   "metadata": {},
   "source": [
    "Python also has some iterators that simplify some combinatoric tasks such as combinations, permutations, or cartesian products. These came in a Python module called `itertools`.\n",
    "\n",
    "This module contains various methods that allow us to produce some particular type of iterators. Imagine you want to get all possible combinations of elements within a given list. You can do it manually using a loop inside another loop to get all possible possibilities. "
   ]
  },
  {
   "cell_type": "code",
   "execution_count": null,
   "id": "d0745ac7-164c-4a72-b10e-e4d7cec1b128",
   "metadata": {},
   "outputs": [],
   "source": [
    "import itertools\n",
    "result = itertools.combinations([\"a\",\"b\",\"c\"], 2)"
   ]
  },
  {
   "cell_type": "markdown",
   "id": "45073aad-71e3-4a88-871f-982c00431092",
   "metadata": {},
   "source": [
    "We can iterate over each of the elements in results in the same way we did for our simple iterator. Run the following cell multiple times to see it."
   ]
  },
  {
   "cell_type": "code",
   "execution_count": null,
   "id": "92b9449e-d18f-4ec9-8d80-f693777977ba",
   "metadata": {},
   "outputs": [],
   "source": [
    "result.__next__()"
   ]
  },
  {
   "cell_type": "markdown",
   "id": "bb60b0e3-f513-4576-b4cf-5e9395f946f8",
   "metadata": {},
   "source": [
    "Let's create a single function that allows us to use four methods included in this module.\n",
    "\n",
    "You can achieve this goal in multiple ways; that is the beauty of coding -- diversity. Some codes are more efficient regarding memory, while others speed. In the following function, we used a dictionary to hold our operations."
   ]
  },
  {
   "cell_type": "code",
   "execution_count": null,
   "id": "c4f71b05-d7f0-44c8-af2d-bc39791edd33",
   "metadata": {},
   "outputs": [],
   "source": [
    "# A suggestion for Function 1.1.1.A. \n",
    "import itertools\n",
    "def combinatoric(list1,\n",
    "                 list2=[],\n",
    "                 length=None,\n",
    "                 operation=\"co\" \n",
    "                ):\n",
    "    \"\"\"Function to apply some combinatoric operation using\n",
    "    predefined iterators included in itertools module.\n",
    "    \n",
    "    Parameters\n",
    "    ----------\n",
    "    list1 : iterable\n",
    "        List of element to pass as iterable to iterators.\n",
    "    list2 : iterable, optional\n",
    "        Optional iist of element to pass as iterable only for produc iterators.\n",
    "    length : int\n",
    "        Desired length of each iterator result. By default it is the length \n",
    "        of list1.\n",
    "    operation : str\n",
    "        String that control which iterator apply. It should be one of the \n",
    "        following: \n",
    "            \"co\": combination. Default option\n",
    "            \"cr\": combination with replacement\n",
    "            \"pe\": permutation\n",
    "            \"pr\": product\n",
    "        \n",
    "    Returns\n",
    "    -------\n",
    "    list\n",
    "        Return a list with the results of a given combinatoric iterator.\n",
    "    \"\"\"\n",
    "    \n",
    "    # define default length\n",
    "    if not length:\n",
    "        length = len(list1)\n",
    "        \n",
    "    # define dictionary with different functions\n",
    "    main_dict = {\"co\": itertools.combinations(list1, length),\n",
    "                 \"cr\": itertools.combinations_with_replacement(list1, length),\n",
    "                 \"pe\": itertools.permutations(list1, length),\n",
    "                 \"pr\": itertools.product(list1, list2),\n",
    "    }\n",
    "    \n",
    "    # exe\n",
    "    result = main_dict[operation]\n",
    "    \n",
    "    return result\n",
    "    "
   ]
  },
  {
   "cell_type": "markdown",
   "id": "3d701ae8-9dcc-49c4-89f0-2e379d144d56",
   "metadata": {},
   "source": [
    "Test the function:"
   ]
  },
  {
   "cell_type": "code",
   "execution_count": null,
   "id": "6ae206ec-48ba-4a0a-96f7-f469b46ae096",
   "metadata": {},
   "outputs": [],
   "source": [
    "combinatoric(\"abcd\", length=2, operation=\"co\")"
   ]
  },
  {
   "cell_type": "markdown",
   "id": "ce09c737-f7ba-471f-b067-fe7ab6945aab",
   "metadata": {},
   "source": [
    "Let's see the content of this iterator:"
   ]
  },
  {
   "cell_type": "code",
   "execution_count": null,
   "id": "d31536c8-3515-420b-8b83-df213a42a64b",
   "metadata": {},
   "outputs": [],
   "source": [
    "list(combinatoric(\"abcd\", \"xyz\", operation=\"pr\"))"
   ]
  },
  {
   "cell_type": "markdown",
   "id": "aedb2086-393e-440a-af38-646affe03be5",
   "metadata": {
    "tags": []
   },
   "source": [
    "# Tree enumeration\n",
    "As we saw in Chapter 3 of Inferring Phylogenies (Felsenstein, 2004), calculating the number of total possible trees, given a number of tips, has attracted the attention of mathematicians since the XIX century.\n",
    "\n",
    "Having a clear image of how many trees we can have in specific scenarios can help us understand the problem it constitutes and the importance of some algorithms we will learn during this course."
   ]
  },
  {
   "cell_type": "markdown",
   "id": "e878842f-03cb-4d7a-ba25-2e442bd470d5",
   "metadata": {},
   "source": [
    "## Number of possible places where a new tip can be added\n",
    "\n",
    "Considering that we have a tree with `n_tips` we can calculate the maximum possible places where a new tip could be inserted using the simple formula $2n-3$. \n",
    "\n",
    "For example"
   ]
  },
  {
   "cell_type": "code",
   "execution_count": null,
   "id": "a996f7c0-24f7-43dd-8593-e19a26c7c27e",
   "metadata": {},
   "outputs": [],
   "source": [
    "n_tips = 3 # defines size of current tree (in number of tips)\n",
    "n = n_tips + 1 # calculates the number of tips that we want in our final tree (just one at the time)\n",
    "n_places = 2 * n - 3 # calculates the possible number of places where we can put our tip in our n-1 tree\n",
    "\n",
    "n_places"
   ]
  },
  {
   "cell_type": "markdown",
   "id": "c6c8b30a-2622-427f-8bae-561d56dfa70a",
   "metadata": {},
   "source": [
    "We can transform this into a function to reuse this code as much as we want."
   ]
  },
  {
   "cell_type": "code",
   "execution_count": null,
   "id": "b487679f-188d-483a-9231-8fbab3fe199c",
   "metadata": {},
   "outputs": [],
   "source": [
    "# A suggestion for Function 1.1.2.A\n",
    "def calculate_nplaces(n_tips: int) -> int:\n",
    "    \"\"\"Calculate the number of possible places in a n_tips tree to put an \n",
    "    additional tip.\n",
    "    \"\"\"\n",
    "    n = n_tips + 1 # number of tips that we want in our final tree\n",
    "    n_places = 2 * n - 3 # possible number of places where we can put our tip in our n_tips tree\n",
    "    return n_places"
   ]
  },
  {
   "cell_type": "code",
   "execution_count": null,
   "id": "45e32a8a-e00f-49e2-bd9e-4bbf35031c1b",
   "metadata": {},
   "outputs": [],
   "source": [
    "print(calculate_nplaces(2))\n",
    "print(calculate_nplaces(n_tips=3))"
   ]
  },
  {
   "cell_type": "markdown",
   "id": "a1102630-46a8-49a0-b42e-16c4a8490241",
   "metadata": {},
   "source": [
    "Following Felsenstein's logic, the total number of branches in our tree represents the total places where a new tip can be inserted. Using this argument, in Toytree, we can count the number of branches that a given tree has and return this number.\n",
    "\n",
    "Let's generate a random tree in Toytree and count the branches."
   ]
  },
  {
   "cell_type": "code",
   "execution_count": null,
   "id": "a44a8362-dba0-4aca-ba6f-5c39f7b982b0",
   "metadata": {},
   "outputs": [],
   "source": [
    "import toytree # imports the module toytree\n",
    "\n",
    "random_tree = toytree.rtree.rtree(ntips=3) # calls the method rtree(), which is inside the submodule rtree (part of toytree)\n",
    "random_tree.draw(); # draws our randomly generated tree"
   ]
  },
  {
   "cell_type": "markdown",
   "id": "702c5dd0-3e74-4ce7-b124-c0f1376018d8",
   "metadata": {},
   "source": [
    "We can use the method `get_edges()` to get a `DataFrame` with all the edges in our tree. Let's put it in a variable:"
   ]
  },
  {
   "cell_type": "code",
   "execution_count": null,
   "id": "516323bf-2a2b-493f-a9da-c7913aa4ac0d",
   "metadata": {},
   "outputs": [],
   "source": [
    "all_edges = random_tree.get_edges()"
   ]
  },
  {
   "cell_type": "markdown",
   "id": "bde61132-f1ca-4ae1-afb1-11407b6420d5",
   "metadata": {},
   "source": [
    "Now we can just count the number of edges we have. This can be done using the function `len()` (native in Python) or the attribute `shape` part of the `DataFrame` type. The attribute `shape` is a tuple of 2 elements, the number of rows and columns, respectively."
   ]
  },
  {
   "cell_type": "code",
   "execution_count": null,
   "id": "91e46420-4797-4908-a714-bf39fea3096e",
   "metadata": {},
   "outputs": [],
   "source": [
    "all_edges.shape[0] # alternative using shape attribute \n",
    "len(all_edges) # alternative using len() function"
   ]
  },
  {
   "cell_type": "markdown",
   "id": "467c39cf-195e-4a21-b284-406fdcb5dc8b",
   "metadata": {},
   "source": [
    "Note the number of places is different from what we had before; this is because our tree has not an explicit branch in the root. So, we should add another extra edge to our count. \n",
    "\n",
    "We can put it in a function to calculate it easily:"
   ]
  },
  {
   "cell_type": "code",
   "execution_count": null,
   "id": "6411d007-0489-47ea-a49c-d6c12f76ba74",
   "metadata": {},
   "outputs": [],
   "source": [
    "def calculate_nplaces_toytree(n_tips: int) -> int:\n",
    "    \"\"\"Calculate the number of possible places in a n_tips tree to put an \n",
    "    additional tip using Toytree.\n",
    "    \"\"\"\n",
    "    random_tree = toytree.rtree.rtree(ntips=n_tips) \n",
    "    all_edges = random_tree.get_edges()\n",
    "    result = len(all_edges) + 1 # do not forget add one extra branch that represent our root\n",
    "    return result"
   ]
  },
  {
   "cell_type": "markdown",
   "id": "1786aaa0-a056-4dec-82b0-0e4222849e3f",
   "metadata": {},
   "source": [
    "Now compare this new result using Toytree with the result in our function calculate_n_places()."
   ]
  },
  {
   "cell_type": "code",
   "execution_count": null,
   "id": "0cffcb25-59b1-4fb8-bdc2-46e56083c5de",
   "metadata": {},
   "outputs": [],
   "source": [
    "n_tips = 3\n",
    "calculate_nplaces(n_tips) == calculate_nplaces_toytree(n_tips)"
   ]
  },
  {
   "cell_type": "markdown",
   "id": "64e9724e-4a5e-4660-a4f7-f1d3f1b2d46a",
   "metadata": {
    "tags": []
   },
   "source": [
    "## Number of trees of a given number of tips\n",
    "\n",
    "### Rooted trees\n",
    "\n",
    "As discussed in Felsenstein (2004), there are a couple of ways to get the possible number of bifurcating rooted trees considering the places where a *n*-tip can be added. \n",
    "\n",
    "Considering one of the methods mentioned, we can create a list of successive odds (places where a new tip can be added) and use it to get the number of possible tips.\n",
    "\n",
    "We can take advantage of the function we previously declared and use it to get our list of odd numbers in the following way:"
   ]
  },
  {
   "cell_type": "code",
   "execution_count": null,
   "id": "6a7e9ab7-0132-47f1-b6fc-28e2df1a05e1",
   "metadata": {},
   "outputs": [],
   "source": [
    "ntips = 4\n",
    "\n",
    "successive_odds = [] # To save our list of odd sucessive odd integers we can declare an empty list\n",
    "\n",
    "# Creates a list of successive odds considering the size of the tree using our previous function\n",
    "for i in range(1, ntips):\n",
    "    successive_odds.append(calculate_nplaces(i))\n",
    "    \n",
    "total_possible_trees = 1  \n",
    "for o in successive_odds:  \n",
    "    total_possible_trees *= o  \n",
    "\n",
    "total_possible_trees, successive_odds"
   ]
  },
  {
   "cell_type": "markdown",
   "id": "1b529add-e956-42ce-9159-87af5b839ac0",
   "metadata": {},
   "source": [
    "We can put this in a function:"
   ]
  },
  {
   "cell_type": "code",
   "execution_count": null,
   "id": "3c3d9a11-143f-4405-93d9-4eeef838f871",
   "metadata": {},
   "outputs": [],
   "source": [
    "# A suggestion for Function 1.1.2.B\n",
    "def calculate_max_bifurcating_trees(ntips: int) -> tuple:\n",
    "    \"\"\"Calculates the maximum number of trees given a number of tips\"\"\"\n",
    "    \n",
    "    successive_odds = [] # To save our list of odd sucessive odd integers we can declare an empty list\n",
    "\n",
    "    # Creates a list of successive odds considering the size of the tree using our previous function\n",
    "    for i in range(2, ntips):\n",
    "        successive_odds.append(calculate_nplaces(i))\n",
    "\n",
    "    total_possible_trees = 1  \n",
    "    for o in successive_odds:  \n",
    "        total_possible_trees *= o  \n",
    "\n",
    "    # return the result and the successive list of possible places\n",
    "    return (total_possible_trees, successive_odds)\n",
    "\n",
    "# Test the function getting the number of trees with 50 tips\n",
    "calculate_max_bifurcating_trees(50)[0]"
   ]
  },
  {
   "cell_type": "code",
   "execution_count": null,
   "id": "238c8c9b-7c0d-4b16-9c80-45d27183bf7e",
   "metadata": {},
   "outputs": [],
   "source": [
    "# Using f-strings we can easily format big numbers with scientific notation\n",
    "f\"The number of possible rooted trees having 50 tips is: {calculate_max_bifurcating_trees(50)[0]:e}\""
   ]
  },
  {
   "cell_type": "markdown",
   "id": "94e03051-49a0-4659-a985-330f0ca00b1a",
   "metadata": {},
   "source": [
    "Alternativelly, we can calculate the total number of trees using the formula:\n",
    "$$\n",
    "\\frac{\\left( 2n - 3 \\right)!}{2^{n - 2}\\left(n - 2 \\right)!}\n",
    "$$"
   ]
  },
  {
   "cell_type": "markdown",
   "id": "ed6f72ed-83a5-4bee-9a59-efca305c4ad5",
   "metadata": {},
   "source": [
    "<div class=\"alert alert-block alert-info\">\n",
    "    <b><i class=\"fa fa-info-circle\" aria-hidden=\"true\"></i>&nbsp; Info</b><br>\n",
    "    <p style=\"color: black\">\n",
    "        Note that the formula in some editions of Felsenstein (2004) does not produce the expected result. Instead you can use the formula from Felsenstein (1978).\n",
    "    </p>\n",
    "<div>"
   ]
  },
  {
   "cell_type": "code",
   "execution_count": null,
   "id": "1f1a26e2-f57c-418a-b573-80c77aac0b42",
   "metadata": {},
   "outputs": [],
   "source": [
    "import math\n",
    "def n_trees(n_tips):\n",
    "    \"\"\"Calculate the number of bifucated rooted trees using one formula\"\"\"\n",
    "    den = math.factorial(2*n_tips - 3)\n",
    "    num = 2**(n_tips-2) * math.factorial(n_tips - 2)\n",
    "    return int(den / num)\n",
    "\n",
    "n_trees(50)"
   ]
  },
  {
   "cell_type": "markdown",
   "id": "a0f4ac2b-694c-4f88-9c14-bf4015976139",
   "metadata": {},
   "source": [
    "### Unrooted trees\n",
    "\n",
    "As Felsenstein (2004) described, we can calculate in the same way as we did in for rooted trees the number of possible places and the maximum number of trees considering that our tree is unrooted. In this case, $2n - 5$ is the maximum possible places where a new tip could be inserted in an unrooted tree.\n",
    "\n",
    "So, let's update our previously defined function to add this capability.\n",
    "\n",
    "We can add a new parameter to both functions that indicate if we are considering a rooted or unrooted tree. We can state rooted as default value. Because both functions are communicated, we could explicitly add this parameter in our second function; in other words, add in `calculate_max_bifurcating_trees()` the parameter rooted. "
   ]
  },
  {
   "cell_type": "code",
   "execution_count": null,
   "id": "1199dfbb-4544-4d46-a02c-d5d8d82e46f5",
   "metadata": {},
   "outputs": [],
   "source": [
    "def calculate_nplaces(n_tips: int, \n",
    "                      rooted: bool = True) -> int:\n",
    "    \"\"\"Calculate the number of possible places in a n_tips tree to put an \n",
    "    additional tip.\n",
    "    \"\"\"\n",
    "    \n",
    "    # determine the factor in the n_places calculation\n",
    "    # the same result can be achieved, reducing by one the number of tips when it unrooted\n",
    "    if rooted:\n",
    "        factor = 3\n",
    "    else:\n",
    "        factor = 5\n",
    "    \n",
    "    n = n_tips + 1 # number of tips that we want in our final tree\n",
    "    n_places = 2 * n - factor # possible number of places where we can put our tip in our n_tips tree\n",
    "    return n_places\n",
    "\n",
    "\n",
    "def calculate_max_bifurcating_trees(ntips: int,\n",
    "                       rooted: bool = True) -> tuple:\n",
    "    \"\"\"Calculates the maximum number of trees given a number of tips\"\"\"\n",
    "    \n",
    "    successive_odds = [] # To save our list of odd sucessive odd integers we can declare an empty list\n",
    "\n",
    "    # Creates a list of successive odds considering the size of the tree using our previous function\n",
    "    for i in range(2, ntips):\n",
    "        successive_odds.append(calculate_nplaces(i, rooted))\n",
    "\n",
    "    total_possible_trees = 1  \n",
    "    for o in successive_odds:  \n",
    "        total_possible_trees *= o  \n",
    "\n",
    "    return (total_possible_trees, successive_odds)"
   ]
  },
  {
   "cell_type": "markdown",
   "id": "eadec222-fddd-4c84-bf60-31fd16b7c759",
   "metadata": {},
   "source": [
    "We can test this function by calculating the number of unrooted trees possible for 10 tips:"
   ]
  },
  {
   "cell_type": "code",
   "execution_count": null,
   "id": "6dbffbea-1ed4-4d75-b036-d830f2f2d5b6",
   "metadata": {},
   "outputs": [],
   "source": [
    "calculate_max_bifurcating_trees(10, rooted=False)[0]"
   ]
  },
  {
   "cell_type": "markdown",
   "id": "a625a403-e2dc-4562-b786-096970a5bb2e",
   "metadata": {},
   "source": [
    "Now compare the previous result with the same calculation, but now for rooted trees"
   ]
  },
  {
   "cell_type": "code",
   "execution_count": null,
   "id": "39d1471b-88d8-48bd-a4b9-b7e94a7a206d",
   "metadata": {},
   "outputs": [],
   "source": [
    "calculate_max_bifurcating_trees(10)[0]"
   ]
  },
  {
   "cell_type": "markdown",
   "id": "f34047c9-8f52-494c-a3a1-ae2b019c25f1",
   "metadata": {},
   "source": [
    "You can see how the number of unrooted trees is smaller than rooted trees, but the maximum possible number of trees is still large enough. In the following test, the number is so large that Python refuses to operate with it."
   ]
  },
  {
   "cell_type": "code",
   "execution_count": null,
   "id": "5469fd4c-49ed-43d4-8e63-459a5cd8507d",
   "metadata": {},
   "outputs": [],
   "source": [
    "print(\"Tips\\t# rooted trees\\t# unr. trees\\tRatio (r/unr)\") # print headings\n",
    "\n",
    "# Calculate the number \n",
    "for i in range(1,200,10):\n",
    "    t_rooted = calculate_max_bifurcating_trees(i)[0]\n",
    "    t_unrooted = calculate_max_bifurcating_trees(i, False)[0]\n",
    "    print(i, \"{:e}\".format(t_rooted), \"{:e}\".format(t_unrooted), (t_rooted/t_unrooted), sep=\"\\t\")"
   ]
  },
  {
   "cell_type": "markdown",
   "id": "21626d80-4dcd-49a2-bdee-c6f6a1f0c638",
   "metadata": {
    "tags": []
   },
   "source": [
    "## Why the number of possible trees is important?"
   ]
  },
  {
   "cell_type": "markdown",
   "id": "02c74313-3907-4e2b-aab2-0b2025099998",
   "metadata": {},
   "source": [
    "Imagine that we can compute, evaluate, and process 1,000,000,000 trees in only one ns. How long can we take to explore all the possible topologies having 30 tips tree? Let's calculate it!"
   ]
  },
  {
   "cell_type": "code",
   "execution_count": null,
   "id": "3aa3d121-8b68-49be-af4a-a062b45ce236",
   "metadata": {},
   "outputs": [],
   "source": [
    "# Calculating the total nanoseconds we need\n",
    "nanoseconds = calculate_max_bifurcating_trees(30)[0] / 1e+9\n",
    "\n",
    "ns_in_h = 3.6e+12  # 1 hour = 3.6E+12 ns\n",
    "\n",
    "# Calculates hours\n",
    "hours = nanoseconds / ns_in_h\n",
    "\n",
    "print(f\"{hours} h\")"
   ]
  },
  {
   "cell_type": "markdown",
   "id": "0ba8f3ea-e2f5-4af8-8eb5-f5413ec7310d",
   "metadata": {},
   "source": [
    "It looks like the number is quite big to comprehend it, let's convert it to years"
   ]
  },
  {
   "cell_type": "code",
   "execution_count": null,
   "id": "2d1a9711-9dcb-4f40-9d3e-90ec38505cb2",
   "metadata": {},
   "outputs": [],
   "source": [
    "h_in_y = 8760 # 1 year = 8760 h\n",
    "\n",
    "# Calculates years\n",
    "years = hours / h_in_y\n",
    "print(f\"{years:e} years\")"
   ]
  },
  {
   "cell_type": "markdown",
   "id": "7de3b25e-8b1e-4eb6-8aab-e13a56c71c6b",
   "metadata": {},
   "source": [
    "This number is still so big. To put some context, the estimated age of the universe is about **1.37e+10 years**. Check in the following code how long Python takes to create a list of 1 billion zeros. In other words, exploring all possible trees if we have 30 tips is technologically impossible. "
   ]
  },
  {
   "cell_type": "code",
   "execution_count": null,
   "id": "83dc1a85-d25e-4b0a-a560-2114fa7a80d0",
   "metadata": {},
   "outputs": [],
   "source": [
    "%%timeit\n",
    "[0 for i in range(int(1e+9))]"
   ]
  },
  {
   "cell_type": "markdown",
   "id": "6004e7a6-2694-4de9-8d57-e0f12948c4c6",
   "metadata": {},
   "source": [
    "## Number of multifurcating trees (rooted and unrooted)\n",
    "\n",
    "The numbers we saw previously are not the maximum possible, considering other factors. For example, when we have a multifurcating tree, a tree of 4 tips with only two nodes, the number of possible trees will increase considerably. \n",
    "\n",
    "Enumerating this kind of tree is a little more complex than perfectly bifurcated trees, and we should consider the number of internal nodes that can also be variable (e.g., four-tips trees with 3, 2, and 1 node).\n",
    "\n",
    "Let's put the Felsenstein (2004) logic in a Python function and explore the results."
   ]
  },
  {
   "cell_type": "code",
   "execution_count": null,
   "id": "9854df4a-aef2-45b8-a70c-200701c2afac",
   "metadata": {},
   "outputs": [],
   "source": [
    "import numpy as np\n",
    "def calculate_max_multifurcating_trees(n_tips: int, \n",
    "                                       n_internal_nodes: int = None, \n",
    "                                       rooted: bool = True):\n",
    "    \"\"\"Calculate the number of possible of multifurcating trees given  \n",
    "    a number of tips.\n",
    "    \"\"\"\n",
    "        \n",
    "    # reduce one possible tip in unrooted trees\n",
    "    if not rooted:\n",
    "        n_tips = n_tips - 1\n",
    "    \n",
    "    # calculate n_nodes to create matrix\n",
    "    n_nodes = n_tips - 1\n",
    "    \n",
    "    # create an empty numpy array to store the progressive results\n",
    "    matrix_ntrees = np.zeros(shape=(n_nodes + 1, n_tips + 1))\n",
    "   \n",
    "    # iterate over each n and each m\n",
    "    for m in range(1, n_nodes+1):\n",
    "        for n in range(2, n_tips+1):\n",
    "\n",
    "            # fill diagonal that is equal to the bifurcating trees\n",
    "            if m == n - 1:\n",
    "                matrix_ntrees[m, n] = calculate_max_bifurcating_trees(n)[0]\n",
    "\n",
    "            # if it is a different m than n-1, fill the multifurcating trees counts\n",
    "            else:\n",
    "                # m = 1 is an especial case because the number of trees is always 1\n",
    "                if m == 1:\n",
    "                    matrix_ntrees[m,n] = 1\n",
    "\n",
    "                # if not m =1 them apply the following formula\n",
    "                else: \n",
    "                    matrix_ntrees[m,n] = (n + m - 2) * matrix_ntrees[m-1, n-1] + m * matrix_ntrees[m, n-1]\n",
    "    \n",
    "    # if n_internal_nodes is passed get position in matrix that store n_tips and n_internal_nodes and store it as int\n",
    "    if n_internal_nodes:\n",
    "        result = int(matrix_ntrees[n_internal_nodes, n_tips])\n",
    "    else:\n",
    "        # get max multifurcating trees\n",
    "        result = int(np.sum(matrix_ntrees[:, n_tips]))\n",
    "    \n",
    "    return result, matrix_ntrees"
   ]
  },
  {
   "cell_type": "markdown",
   "id": "d34aa478-9b9b-4de8-9527-62d10970dd1e",
   "metadata": {},
   "source": [
    "We can see the expected number of trees considering multifurcation for a 5 tips rooted tree."
   ]
  },
  {
   "cell_type": "code",
   "execution_count": null,
   "id": "dba97a17-a9cc-43b2-94cd-3e825bae782c",
   "metadata": {},
   "outputs": [],
   "source": [
    "calculate_max_multifurcating_trees(n_tips=5)"
   ]
  },
  {
   "cell_type": "markdown",
   "id": "09bfdf56-2fd1-4cab-b9f4-5b2cc0625175",
   "metadata": {},
   "source": [
    "Or unrooted tree"
   ]
  },
  {
   "cell_type": "code",
   "execution_count": null,
   "id": "1cc98c66-babf-4fe2-b855-50f6b7bc3e70",
   "metadata": {},
   "outputs": [],
   "source": [
    "calculate_max_multifurcating_trees(n_tips=5, rooted=False)"
   ]
  },
  {
   "cell_type": "markdown",
   "id": "d4617f8d-3915-4c90-8452-3a4dfd5d8a6d",
   "metadata": {},
   "source": [
    "Let's compare the numbers with the bifurcating trees for 10 tips:"
   ]
  },
  {
   "cell_type": "code",
   "execution_count": null,
   "id": "bb90912e-4739-40fa-b35b-0d57264eae7e",
   "metadata": {},
   "outputs": [],
   "source": [
    "print(calculate_max_bifurcating_trees(10)[0])\n",
    "print(calculate_max_multifurcating_trees(n_tips=10)[0])"
   ]
  }
 ],
 "metadata": {
  "kernelspec": {
   "display_name": "Python 3 (ipykernel)",
   "language": "python",
   "name": "python3"
  },
  "language_info": {
   "codemirror_mode": {
    "name": "ipython",
    "version": 3
   },
   "file_extension": ".py",
   "mimetype": "text/x-python",
   "name": "python",
   "nbconvert_exporter": "python",
   "pygments_lexer": "ipython3",
   "version": "3.8.10"
  }
 },
 "nbformat": 4,
 "nbformat_minor": 5
}
