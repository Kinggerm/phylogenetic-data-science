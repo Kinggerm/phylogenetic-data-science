{
 "cells": [
  {
   "cell_type": "markdown",
   "id": "0e4f2d0b",
   "metadata": {},
   "source": [
    "# Code tree traversal"
   ]
  },
  {
   "cell_type": "markdown",
   "id": "8630fd69",
   "metadata": {},
   "source": [
    "## Node class"
   ]
  },
  {
   "cell_type": "code",
   "execution_count": 11,
   "id": "7ad0e31b",
   "metadata": {},
   "outputs": [],
   "source": [
    "from typing import Tuple, Optional\n",
    "\n",
    "class Node:\n",
    "    \"\"\"A Node instance that can connect with other Nodes to form a Tree.\n",
    "\n",
    "    Parameters\n",
    "    ----------\n",
    "    name: str\n",
    "        A name string associated with a Node when printed or visualized.\n",
    "    dist: float\n",
    "        A float value as the distance between this Node and its parent (up)\n",
    "\n",
    "    Attributes\n",
    "    ----------\n",
    "    children: Tuple\n",
    "        A tuple of Node instances that are descended from this Node.\n",
    "    up: Node or None\n",
    "        A Node that is ancestral to this Node, or None if this Node is root.\n",
    "        \n",
    "    Examples\n",
    "    --------\n",
    "    >>> node = Node(\"A\")\n",
    "    >>> node.add_child(\"B\")\n",
    "    >>> print(node.name, node.children)\n",
    "    \"\"\"\n",
    "    def __init__(self, name: str=\"\", dist: float=0.):\n",
    "        self.name = str(name)\n",
    "        self.dist = float(dist)\n",
    "        self.children: Tuple['Node'] = ()\n",
    "        self.up: Optional['Node'] = None\n",
    "\n",
    "    def __repr__(self) -> str:\n",
    "        \"\"\"Return string representation as Node(name).\"\"\"\n",
    "        return f\"Node({self.name})\"\n",
    "\n",
    "    def is_leaf(self) -> bool:\n",
    "        \"\"\"Return True if Node is a leaf (i.e., has no children).\"\"\"\n",
    "        return not bool(self.children)\n",
    "\n",
    "    def is_root(self) -> bool:\n",
    "        \"\"\"Return True if Node is the root (i.e., has no ancestor).\"\"\"\n",
    "        return bool(self.up is None)\n",
    "\n",
    "    def add_child(self, name: str=\"\", dist: float=0.) -> \"Node\":\n",
    "        \"\"\"Add a Node as a child to this one.\"\"\"\n",
    "        new_node = Node(name=name, dist=dist)\n",
    "        new_node.up = self\n",
    "        self.children += (new_node,)\n",
    "        return new_node"
   ]
  },
  {
   "cell_type": "markdown",
   "id": "ff0b1408",
   "metadata": {},
   "source": [
    "## Generating trees"
   ]
  },
  {
   "cell_type": "code",
   "execution_count": 12,
   "id": "e56f09c7",
   "metadata": {},
   "outputs": [],
   "source": [
    "def get_ladder_tree(ntips: int) -> \"Node\":\n",
    "    \"\"\"Return a ladder-like tree of Node objects with 'ntips' tip Nodes.\n",
    "\n",
    "    Parameters\n",
    "    ----------\n",
    "    ntips: int\n",
    "        The number of tip Nodes that must exist before the tree is returned.\n",
    "\n",
    "    Returns\n",
    "    -------\n",
    "    Node\n",
    "        The root Node of the set of connected Nodes is returned.\n",
    "    \"\"\"\n",
    "    # create root Node with name=root and store as current node variable\n",
    "    node = root = Node(name=\"root\", dist=0)\n",
    "\n",
    "    for idx in range(0, ntips, 2):\n",
    "        # add two children to the focal node\n",
    "        child0 = node.add_child(name=str(idx), dist=1)\n",
    "        child1 = node.add_child(name=str(idx + 1), dist=1)\n",
    "\n",
    "        # make right child the new focal node\n",
    "        node = child1\n",
    "    return root"
   ]
  },
  {
   "cell_type": "code",
   "execution_count": 88,
   "id": "e45d08b1",
   "metadata": {},
   "outputs": [],
   "source": [
    "def get_ladder_tree(ntips: int) -> \"Node\":\n",
    "    \"\"\"Return a ladder-like tree of Node objects with 'ntips' tip Nodes.\n",
    "\n",
    "    Parameters\n",
    "    ----------\n",
    "    ntips: int\n",
    "        The number of tip Nodes that must exist before the tree is returned.\n",
    "\n",
    "    Returns\n",
    "    -------\n",
    "    Node\n",
    "        The root Node of the set of connected Nodes is returned.\n",
    "    \"\"\"\n",
    "    # create root Node with name=root and store as current node variable\n",
    "    node = root = Node(name=\"root\", dist=0)\n",
    "\n",
    "    # loop to add children until ntips is reached\n",
    "    nnodes = 1\n",
    "    while nnodes < ntips * 2 - 1:\n",
    "        # add child to the current node variable\n",
    "        child = node.add_child(name=str(nnodes), dist=1)\n",
    "        \n",
    "        # advance the counter of nnodes\n",
    "        nnodes += 1\n",
    "        \n",
    "        # if this is the second child, then make it the new 'current' node.\n",
    "        if len(node.children) == 2:\n",
    "            node = child\n",
    "    return root"
   ]
  },
  {
   "cell_type": "code",
   "execution_count": 197,
   "id": "ca682ac1",
   "metadata": {},
   "outputs": [],
   "source": [
    "def get_ladder_tree(ntips: int) -> \"Node\":\n",
    "    \"\"\"Return a ladder-like tree of Node objects with 'ntips' tip Nodes.\n",
    "\n",
    "    Parameters\n",
    "    ----------\n",
    "    ntips: int\n",
    "        The number of tip Nodes that must exist before the tree is returned.\n",
    "\n",
    "    Returns\n",
    "    -------\n",
    "    Node\n",
    "        The root Node of the set of connected Nodes is returned.\n",
    "    \"\"\"\n",
    "    # create root Node with name=root and store as current node variable\n",
    "    node = root = Node(name=\"root\", dist=0)\n",
    "\n",
    "    # add tip Nodes by splitting current 'node' into a bifurcation until ntips exist.\n",
    "    for idx in range(1, ntips):\n",
    "        child_l = node.add_child(name=f\"{idx}-l\", dist=1)\n",
    "        child_r = node.add_child(name=f\"{idx}-r\", dist=1)        \n",
    "\n",
    "        # make right child the new focal node\n",
    "        node = child_r\n",
    "    \n",
    "    # return root Node that now has ntips descended tip Nodes\n",
    "    return root"
   ]
  },
  {
   "cell_type": "code",
   "execution_count": 247,
   "id": "5fdf3e2f",
   "metadata": {},
   "outputs": [],
   "source": [
    "root = get_ladder_tree(5)"
   ]
  },
  {
   "cell_type": "code",
   "execution_count": 270,
   "id": "3317058c",
   "metadata": {},
   "outputs": [
    {
     "name": "stdout",
     "output_type": "stream",
     "text": [
      "1-l size= 1\n",
      "2-l size= 1\n",
      "3-l size= 1\n",
      "4-l size= 1\n",
      "4-r size= 1\n",
      "3-r size= 3\n",
      "2-r size= 5\n",
      "1-r size= 7\n",
      "root size= 9\n"
     ]
    },
    {
     "data": {
      "text/plain": [
       "9"
      ]
     },
     "execution_count": 270,
     "metadata": {},
     "output_type": "execute_result"
    }
   ],
   "source": [
    "def recursive_count(node) -> int:\n",
    "    \"\"\"Return the number of Nodes descended from a Node object.\"\"\"\n",
    "    clens = sum(recursive_count(child) for child in node.children)\n",
    "    print(node.name, \"size=\", 1 + clens)\n",
    "    return 1 + clens\n",
    "    \n",
    "recursive_count(root)"
   ]
  },
  {
   "cell_type": "code",
   "execution_count": 289,
   "id": "c04ad796",
   "metadata": {},
   "outputs": [
    {
     "data": {
      "text/plain": [
       "[Node(root),\n",
       " Node(1-l),\n",
       " Node(1-r),\n",
       " Node(2-l),\n",
       " Node(2-r),\n",
       " Node(3-l),\n",
       " Node(3-r),\n",
       " Node(4-l),\n",
       " Node(4-r)]"
      ]
     },
     "execution_count": 289,
     "metadata": {},
     "output_type": "execute_result"
    }
   ],
   "source": [
    "def recursive_g(node) -> int:\n",
    "    \"\"\"Return the number of Nodes descended from a Node object.\"\"\"\n",
    "    nodes = [node]\n",
    "    for child in node.children:\n",
    "        nodes += recursive_g(child)\n",
    "    return nodes\n",
    "\n",
    "recursive_g(root)"
   ]
  },
  {
   "cell_type": "code",
   "execution_count": 218,
   "id": "a68ab9ce",
   "metadata": {},
   "outputs": [
    {
     "data": {
      "text/plain": [
       "[Node(root),\n",
       " Node(1-l),\n",
       " Node(1-r),\n",
       " Node(2-l),\n",
       " Node(2-r),\n",
       " Node(3-l),\n",
       " Node(3-r),\n",
       " Node(4-l),\n",
       " Node(4-r)]"
      ]
     },
     "execution_count": 218,
     "metadata": {},
     "output_type": "execute_result"
    }
   ],
   "source": [
    "def recursive_preorder_traversal(node):\n",
    "    \"\"\"Return Nodes in preorder traversal.\n",
    "    \n",
    "    Starts at the current (root) Node, then recursively traverses\n",
    "    the right subtree then left subtree. The recursion calls this\n",
    "    function, so that subtrees visit subtrees until a tip is reached.\n",
    "    Tip Nodes return themselves, and internal Nodes return themselves\n",
    "    plus the Nodes of their children, collected by recursion. Such\n",
    "    that calling this function on the root returns all Nodes.\n",
    "    \"\"\"\n",
    "    # tip Node: return Node in a list\n",
    "    if not node.children:\n",
    "        return [node]\n",
    "    \n",
    "    # internal Node: return [Node] + [left-child-descendants] + [right-child-descendants]\n",
    "    nodes = [node]\n",
    "    for child in node.children:\n",
    "        nodes += recursive_preorder_traversal(child)\n",
    "    return nodes\n",
    "\n",
    "recursive_preorder_traversal(root)"
   ]
  },
  {
   "cell_type": "code",
   "execution_count": 176,
   "id": "1c1d4b52",
   "metadata": {},
   "outputs": [
    {
     "data": {
      "text/html": [
       "<div class=\"toyplot\" id=\"t58f3f2854b6a40b18f761c03bac04df1\" style=\"text-align:center\"><svg class=\"toyplot-canvas-Canvas\" xmlns:toyplot=\"http://www.sandia.gov/toyplot\" xmlns:xlink=\"http://www.w3.org/1999/xlink\" xmlns=\"http://www.w3.org/2000/svg\" width=\"350.0px\" height=\"260.0px\" viewBox=\"0 0 350.0 260.0\" preserveAspectRatio=\"xMidYMid meet\" style=\"background-color:transparent;border-color:#292724;border-style:none;border-width:1.0;fill:rgb(16.1%,15.3%,14.1%);fill-opacity:1.0;font-family:Helvetica;font-size:12px;opacity:1.0;stroke:rgb(16.1%,15.3%,14.1%);stroke-opacity:1.0;stroke-width:1.0\" id=\"t6b431f30a41c4acb953256a7124d1578\"><g class=\"toyplot-coordinates-Cartesian\" id=\"te6ef555f8bfa4820b2a7380b43c31251\"><clipPath id=\"tcf513e66e86e43bf8c0fe8e3421516b5\"><rect x=\"35.0\" y=\"35.0\" width=\"280.0\" height=\"190.0\"></rect></clipPath><g clip-path=\"url(#tcf513e66e86e43bf8c0fe8e3421516b5)\"><g class=\"toytree-mark-Toytree\" id=\"t9263e29dc66845ebbbac6b4637d3194b\"><g class=\"toytree-Edges\" style=\"fill:none;stroke:rgba(16.1%,15.3%,14.1%,1.000);stroke-linecap:round;stroke-width:2.0\"><path d=\"M 112.6 55.9 L 57.5 55.9 L 57.5 173.6\" id=\"8,0\" style=\"stroke-width:nan\"></path><path d=\"M 167.7 85.3 L 116.3 85.3 L 116.3 173.6\" id=\"7,1\" style=\"stroke-width:nan\"></path><path d=\"M 219.1 114.7 L 175.0 114.7 L 175.0 173.6\" id=\"6,2\" style=\"stroke-width:nan\"></path><path d=\"M 263.1 144.1 L 233.7 144.1 L 233.7 173.6\" id=\"5,3\" style=\"stroke-width:nan\"></path><path d=\"M 263.1 144.1 L 292.5 144.1 L 292.5 173.6\" id=\"5,4\" style=\"stroke-width:nan\"></path><path d=\"M 219.1 114.7 L 263.1 114.7 L 263.1 144.1\" id=\"6,5\" style=\"stroke-width:nan\"></path><path d=\"M 167.7 85.3 L 219.1 85.3 L 219.1 114.7\" id=\"7,6\" style=\"stroke-width:nan\"></path><path d=\"M 112.6 55.9 L 167.7 55.9 L 167.7 85.3\" id=\"8,7\" style=\"stroke-width:nan\"></path></g><g class=\"toytree-Nodes\" style=\"fill:rgba(82.7%,82.7%,82.7%,1.000);stroke:#262626;stroke-width:1.5\"><g id=\"node-0\" transform=\"translate(57.519,173.553)\"><circle r=\"8.0\"></circle></g><g id=\"node-1\" transform=\"translate(116.259,173.553)\"><circle r=\"8.0\"></circle></g><g id=\"node-2\" transform=\"translate(175.000,173.553)\"><circle r=\"8.0\"></circle></g><g id=\"node-3\" transform=\"translate(233.741,173.553)\"><circle r=\"8.0\"></circle></g><g id=\"node-4\" transform=\"translate(292.481,173.553)\"><circle r=\"8.0\"></circle></g><g id=\"node-5\" transform=\"translate(263.111,144.136)\"><circle r=\"8.0\"></circle></g><g id=\"node-6\" transform=\"translate(219.055,114.718)\"><circle r=\"8.0\"></circle></g><g id=\"node-7\" transform=\"translate(167.657,85.301)\"><circle r=\"8.0\"></circle></g><g id=\"node-8\" transform=\"translate(112.588,55.883)\"><circle r=\"8.0\"></circle></g></g><g class=\"toytree-TipLabels\" style=\"fill:rgb(16.1%,15.3%,14.1%);fill-opacity:1.0;font-family:Helvetica;font-size:11.0px;font-weight:300;stroke:none;vertical-align:baseline;white-space:pre\"><g class=\"toytree-TipLabel\" transform=\"translate(57.5187969924812,173.55325936072222)rotate(90.0)\"><text x=\"15.0\" y=\"2.8104999999999993\" style=\"\">r0</text></g><g class=\"toytree-TipLabel\" transform=\"translate(116.2593984962406,173.55325936072222)rotate(90.0)\"><text x=\"15.0\" y=\"2.8104999999999993\" style=\"\">r1</text></g><g class=\"toytree-TipLabel\" transform=\"translate(175.0,173.55325936072222)rotate(90.0)\"><text x=\"15.0\" y=\"2.8104999999999993\" style=\"\">r2</text></g><g class=\"toytree-TipLabel\" transform=\"translate(233.7406015037594,173.55325936072222)rotate(90.0)\"><text x=\"15.0\" y=\"2.8104999999999993\" style=\"\">r3</text></g><g class=\"toytree-TipLabel\" transform=\"translate(292.4812030075188,173.55325936072222)rotate(90.0)\"><text x=\"15.0\" y=\"2.8104999999999993\" style=\"\">r4</text></g></g></g></g></g></svg><div class=\"toyplot-behavior\"><script>(function()\n",
       "{\n",
       "var modules={};\n",
       "})();</script></div></div>"
      ]
     },
     "metadata": {},
     "output_type": "display_data"
    }
   ],
   "source": [
    "# generate a random 8 tip ultrametric tree\n",
    "tree = toytree.rtree.imbtree(ntips=5)\n",
    "\n",
    "# draw facing downw with node index labels shown\n",
    "tree.draw(ts='s', layout='d', node_labels=False, node_sizes=16);"
   ]
  },
  {
   "cell_type": "code",
   "execution_count": 87,
   "id": "556e8add",
   "metadata": {},
   "outputs": [
    {
     "data": {
      "text/plain": [
       "12"
      ]
     },
     "execution_count": 87,
     "metadata": {},
     "output_type": "execute_result"
    }
   ],
   "source": [
    "def count(node):\n",
    "    ntips = 0\n",
    "    if node.children:\n",
    "        for child in node.children:\n",
    "            ntips += count(child)\n",
    "    else:\n",
    "        return 1\n",
    "    return ntips\n",
    "    \n",
    "count(root)"
   ]
  },
  {
   "cell_type": "code",
   "execution_count": 66,
   "id": "701cb4db",
   "metadata": {},
   "outputs": [
    {
     "data": {
      "text/plain": [
       "[0, 2, 4, 6, 8]"
      ]
     },
     "execution_count": 66,
     "metadata": {},
     "output_type": "execute_result"
    }
   ],
   "source": [
    "list(range(0, 10, 2))"
   ]
  },
  {
   "cell_type": "code",
   "execution_count": 17,
   "id": "2efd34bb",
   "metadata": {},
   "outputs": [
    {
     "name": "stdout",
     "output_type": "stream",
     "text": [
      "Node(root)\n"
     ]
    }
   ],
   "source": [
    "root = get_ladder_tree(9)\n",
    "print(root)"
   ]
  },
  {
   "cell_type": "code",
   "execution_count": 15,
   "id": "0dc943ee",
   "metadata": {},
   "outputs": [
    {
     "data": {
      "text/plain": [
       "39"
      ]
     },
     "execution_count": 15,
     "metadata": {},
     "output_type": "execute_result"
    }
   ],
   "source": [
    "import toytree\n",
    "toytree.rtree.unittree(20).nnodes"
   ]
  }
 ],
 "metadata": {
  "kernelspec": {
   "display_name": "Python 3 (ipykernel)",
   "language": "python",
   "name": "python3"
  },
  "language_info": {
   "codemirror_mode": {
    "name": "ipython",
    "version": 3
   },
   "file_extension": ".py",
   "mimetype": "text/x-python",
   "name": "python",
   "nbconvert_exporter": "python",
   "pygments_lexer": "ipython3",
   "version": "3.9.7"
  }
 },
 "nbformat": 4,
 "nbformat_minor": 5
}
